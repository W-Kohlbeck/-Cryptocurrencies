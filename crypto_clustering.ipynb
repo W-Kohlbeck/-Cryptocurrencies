{
 "cells": [
  {
   "cell_type": "markdown",
   "metadata": {},
   "source": [
    "# Clustering Crypto"
   ]
  },
  {
   "cell_type": "code",
   "execution_count": 102,
   "metadata": {},
   "outputs": [],
   "source": [
    "# Initial imports\n",
    "import pandas as pd\n",
    "import hvplot.pandas\n",
    "from path import Path\n",
    "import plotly.express as px\n",
    "from sklearn.preprocessing import StandardScaler, MinMaxScaler\n",
    "from sklearn.decomposition import PCA\n",
    "from sklearn.cluster import KMeans\n"
   ]
  },
  {
   "cell_type": "markdown",
   "metadata": {},
   "source": [
    "### Deliverable 1: Preprocessing the Data for PCA"
   ]
  },
  {
   "cell_type": "code",
   "execution_count": 103,
   "metadata": {},
   "outputs": [
    {
     "data": {
      "text/html": [
       "<div>\n",
       "<style scoped>\n",
       "    .dataframe tbody tr th:only-of-type {\n",
       "        vertical-align: middle;\n",
       "    }\n",
       "\n",
       "    .dataframe tbody tr th {\n",
       "        vertical-align: top;\n",
       "    }\n",
       "\n",
       "    .dataframe thead th {\n",
       "        text-align: right;\n",
       "    }\n",
       "</style>\n",
       "<table border=\"1\" class=\"dataframe\">\n",
       "  <thead>\n",
       "    <tr style=\"text-align: right;\">\n",
       "      <th></th>\n",
       "      <th>CoinName</th>\n",
       "      <th>Algorithm</th>\n",
       "      <th>IsTrading</th>\n",
       "      <th>ProofType</th>\n",
       "      <th>TotalCoinsMined</th>\n",
       "      <th>TotalCoinSupply</th>\n",
       "    </tr>\n",
       "  </thead>\n",
       "  <tbody>\n",
       "    <tr>\n",
       "      <th>42</th>\n",
       "      <td>42 Coin</td>\n",
       "      <td>Scrypt</td>\n",
       "      <td>True</td>\n",
       "      <td>PoW/PoS</td>\n",
       "      <td>4.199995e+01</td>\n",
       "      <td>42</td>\n",
       "    </tr>\n",
       "    <tr>\n",
       "      <th>365</th>\n",
       "      <td>365Coin</td>\n",
       "      <td>X11</td>\n",
       "      <td>True</td>\n",
       "      <td>PoW/PoS</td>\n",
       "      <td>NaN</td>\n",
       "      <td>2300000000</td>\n",
       "    </tr>\n",
       "    <tr>\n",
       "      <th>404</th>\n",
       "      <td>404Coin</td>\n",
       "      <td>Scrypt</td>\n",
       "      <td>True</td>\n",
       "      <td>PoW/PoS</td>\n",
       "      <td>1.055185e+09</td>\n",
       "      <td>532000000</td>\n",
       "    </tr>\n",
       "    <tr>\n",
       "      <th>611</th>\n",
       "      <td>SixEleven</td>\n",
       "      <td>SHA-256</td>\n",
       "      <td>True</td>\n",
       "      <td>PoW</td>\n",
       "      <td>NaN</td>\n",
       "      <td>611000</td>\n",
       "    </tr>\n",
       "    <tr>\n",
       "      <th>808</th>\n",
       "      <td>808</td>\n",
       "      <td>SHA-256</td>\n",
       "      <td>True</td>\n",
       "      <td>PoW/PoS</td>\n",
       "      <td>0.000000e+00</td>\n",
       "      <td>0</td>\n",
       "    </tr>\n",
       "  </tbody>\n",
       "</table>\n",
       "</div>"
      ],
      "text/plain": [
       "      CoinName Algorithm  IsTrading ProofType  TotalCoinsMined TotalCoinSupply\n",
       "42     42 Coin    Scrypt       True   PoW/PoS     4.199995e+01              42\n",
       "365    365Coin       X11       True   PoW/PoS              NaN      2300000000\n",
       "404    404Coin    Scrypt       True   PoW/PoS     1.055185e+09       532000000\n",
       "611  SixEleven   SHA-256       True       PoW              NaN          611000\n",
       "808        808   SHA-256       True   PoW/PoS     0.000000e+00               0"
      ]
     },
     "execution_count": 103,
     "metadata": {},
     "output_type": "execute_result"
    }
   ],
   "source": [
    "# Load the crypto_data.csv dataset.\n",
    "file_path = \"crypto_data.csv\"\n",
    "crypto_df = pd.read_csv(file_path, index_col=0)\n",
    "crypto_df.head()"
   ]
  },
  {
   "cell_type": "code",
   "execution_count": 104,
   "metadata": {},
   "outputs": [
    {
     "data": {
      "text/html": [
       "<div>\n",
       "<style scoped>\n",
       "    .dataframe tbody tr th:only-of-type {\n",
       "        vertical-align: middle;\n",
       "    }\n",
       "\n",
       "    .dataframe tbody tr th {\n",
       "        vertical-align: top;\n",
       "    }\n",
       "\n",
       "    .dataframe thead th {\n",
       "        text-align: right;\n",
       "    }\n",
       "</style>\n",
       "<table border=\"1\" class=\"dataframe\">\n",
       "  <thead>\n",
       "    <tr style=\"text-align: right;\">\n",
       "      <th></th>\n",
       "      <th>CoinName</th>\n",
       "      <th>Algorithm</th>\n",
       "      <th>IsTrading</th>\n",
       "      <th>ProofType</th>\n",
       "      <th>TotalCoinsMined</th>\n",
       "      <th>TotalCoinSupply</th>\n",
       "    </tr>\n",
       "  </thead>\n",
       "  <tbody>\n",
       "    <tr>\n",
       "      <th>42</th>\n",
       "      <td>42 Coin</td>\n",
       "      <td>Scrypt</td>\n",
       "      <td>True</td>\n",
       "      <td>PoW/PoS</td>\n",
       "      <td>4.199995e+01</td>\n",
       "      <td>42</td>\n",
       "    </tr>\n",
       "    <tr>\n",
       "      <th>365</th>\n",
       "      <td>365Coin</td>\n",
       "      <td>X11</td>\n",
       "      <td>True</td>\n",
       "      <td>PoW/PoS</td>\n",
       "      <td>NaN</td>\n",
       "      <td>2300000000</td>\n",
       "    </tr>\n",
       "    <tr>\n",
       "      <th>404</th>\n",
       "      <td>404Coin</td>\n",
       "      <td>Scrypt</td>\n",
       "      <td>True</td>\n",
       "      <td>PoW/PoS</td>\n",
       "      <td>1.055185e+09</td>\n",
       "      <td>532000000</td>\n",
       "    </tr>\n",
       "    <tr>\n",
       "      <th>611</th>\n",
       "      <td>SixEleven</td>\n",
       "      <td>SHA-256</td>\n",
       "      <td>True</td>\n",
       "      <td>PoW</td>\n",
       "      <td>NaN</td>\n",
       "      <td>611000</td>\n",
       "    </tr>\n",
       "    <tr>\n",
       "      <th>808</th>\n",
       "      <td>808</td>\n",
       "      <td>SHA-256</td>\n",
       "      <td>True</td>\n",
       "      <td>PoW/PoS</td>\n",
       "      <td>0.000000e+00</td>\n",
       "      <td>0</td>\n",
       "    </tr>\n",
       "  </tbody>\n",
       "</table>\n",
       "</div>"
      ],
      "text/plain": [
       "      CoinName Algorithm  IsTrading ProofType  TotalCoinsMined TotalCoinSupply\n",
       "42     42 Coin    Scrypt       True   PoW/PoS     4.199995e+01              42\n",
       "365    365Coin       X11       True   PoW/PoS              NaN      2300000000\n",
       "404    404Coin    Scrypt       True   PoW/PoS     1.055185e+09       532000000\n",
       "611  SixEleven   SHA-256       True       PoW              NaN          611000\n",
       "808        808   SHA-256       True   PoW/PoS     0.000000e+00               0"
      ]
     },
     "execution_count": 104,
     "metadata": {},
     "output_type": "execute_result"
    }
   ],
   "source": [
    "# Keep all the cryptocurrencies that are being traded.\n",
    "crypto_df = crypto_df[crypto_df['IsTrading'] == True]\n",
    "crypto_df.head()"
   ]
  },
  {
   "cell_type": "code",
   "execution_count": 105,
   "metadata": {},
   "outputs": [
    {
     "data": {
      "text/html": [
       "<div>\n",
       "<style scoped>\n",
       "    .dataframe tbody tr th:only-of-type {\n",
       "        vertical-align: middle;\n",
       "    }\n",
       "\n",
       "    .dataframe tbody tr th {\n",
       "        vertical-align: top;\n",
       "    }\n",
       "\n",
       "    .dataframe thead th {\n",
       "        text-align: right;\n",
       "    }\n",
       "</style>\n",
       "<table border=\"1\" class=\"dataframe\">\n",
       "  <thead>\n",
       "    <tr style=\"text-align: right;\">\n",
       "      <th></th>\n",
       "      <th>CoinName</th>\n",
       "      <th>Algorithm</th>\n",
       "      <th>ProofType</th>\n",
       "      <th>TotalCoinsMined</th>\n",
       "      <th>TotalCoinSupply</th>\n",
       "    </tr>\n",
       "  </thead>\n",
       "  <tbody>\n",
       "    <tr>\n",
       "      <th>42</th>\n",
       "      <td>42 Coin</td>\n",
       "      <td>Scrypt</td>\n",
       "      <td>PoW/PoS</td>\n",
       "      <td>4.199995e+01</td>\n",
       "      <td>42</td>\n",
       "    </tr>\n",
       "    <tr>\n",
       "      <th>365</th>\n",
       "      <td>365Coin</td>\n",
       "      <td>X11</td>\n",
       "      <td>PoW/PoS</td>\n",
       "      <td>NaN</td>\n",
       "      <td>2300000000</td>\n",
       "    </tr>\n",
       "    <tr>\n",
       "      <th>404</th>\n",
       "      <td>404Coin</td>\n",
       "      <td>Scrypt</td>\n",
       "      <td>PoW/PoS</td>\n",
       "      <td>1.055185e+09</td>\n",
       "      <td>532000000</td>\n",
       "    </tr>\n",
       "    <tr>\n",
       "      <th>611</th>\n",
       "      <td>SixEleven</td>\n",
       "      <td>SHA-256</td>\n",
       "      <td>PoW</td>\n",
       "      <td>NaN</td>\n",
       "      <td>611000</td>\n",
       "    </tr>\n",
       "    <tr>\n",
       "      <th>808</th>\n",
       "      <td>808</td>\n",
       "      <td>SHA-256</td>\n",
       "      <td>PoW/PoS</td>\n",
       "      <td>0.000000e+00</td>\n",
       "      <td>0</td>\n",
       "    </tr>\n",
       "  </tbody>\n",
       "</table>\n",
       "</div>"
      ],
      "text/plain": [
       "      CoinName Algorithm ProofType  TotalCoinsMined TotalCoinSupply\n",
       "42     42 Coin    Scrypt   PoW/PoS     4.199995e+01              42\n",
       "365    365Coin       X11   PoW/PoS              NaN      2300000000\n",
       "404    404Coin    Scrypt   PoW/PoS     1.055185e+09       532000000\n",
       "611  SixEleven   SHA-256       PoW              NaN          611000\n",
       "808        808   SHA-256   PoW/PoS     0.000000e+00               0"
      ]
     },
     "execution_count": 105,
     "metadata": {},
     "output_type": "execute_result"
    }
   ],
   "source": [
    "# Remove the \"IsTrading\" column. \n",
    "crypto_df = crypto_df.drop(columns ='IsTrading')\n",
    "crypto_df.head()"
   ]
  },
  {
   "cell_type": "code",
   "execution_count": 106,
   "metadata": {},
   "outputs": [
    {
     "data": {
      "text/html": [
       "<div>\n",
       "<style scoped>\n",
       "    .dataframe tbody tr th:only-of-type {\n",
       "        vertical-align: middle;\n",
       "    }\n",
       "\n",
       "    .dataframe tbody tr th {\n",
       "        vertical-align: top;\n",
       "    }\n",
       "\n",
       "    .dataframe thead th {\n",
       "        text-align: right;\n",
       "    }\n",
       "</style>\n",
       "<table border=\"1\" class=\"dataframe\">\n",
       "  <thead>\n",
       "    <tr style=\"text-align: right;\">\n",
       "      <th></th>\n",
       "      <th>CoinName</th>\n",
       "      <th>Algorithm</th>\n",
       "      <th>ProofType</th>\n",
       "      <th>TotalCoinsMined</th>\n",
       "      <th>TotalCoinSupply</th>\n",
       "    </tr>\n",
       "  </thead>\n",
       "  <tbody>\n",
       "    <tr>\n",
       "      <th>42</th>\n",
       "      <td>42 Coin</td>\n",
       "      <td>Scrypt</td>\n",
       "      <td>PoW/PoS</td>\n",
       "      <td>4.199995e+01</td>\n",
       "      <td>42</td>\n",
       "    </tr>\n",
       "    <tr>\n",
       "      <th>404</th>\n",
       "      <td>404Coin</td>\n",
       "      <td>Scrypt</td>\n",
       "      <td>PoW/PoS</td>\n",
       "      <td>1.055185e+09</td>\n",
       "      <td>532000000</td>\n",
       "    </tr>\n",
       "    <tr>\n",
       "      <th>808</th>\n",
       "      <td>808</td>\n",
       "      <td>SHA-256</td>\n",
       "      <td>PoW/PoS</td>\n",
       "      <td>0.000000e+00</td>\n",
       "      <td>0</td>\n",
       "    </tr>\n",
       "    <tr>\n",
       "      <th>1337</th>\n",
       "      <td>EliteCoin</td>\n",
       "      <td>X13</td>\n",
       "      <td>PoW/PoS</td>\n",
       "      <td>2.927942e+10</td>\n",
       "      <td>314159265359</td>\n",
       "    </tr>\n",
       "    <tr>\n",
       "      <th>BTC</th>\n",
       "      <td>Bitcoin</td>\n",
       "      <td>SHA-256</td>\n",
       "      <td>PoW</td>\n",
       "      <td>1.792718e+07</td>\n",
       "      <td>21000000</td>\n",
       "    </tr>\n",
       "  </tbody>\n",
       "</table>\n",
       "</div>"
      ],
      "text/plain": [
       "       CoinName Algorithm ProofType  TotalCoinsMined TotalCoinSupply\n",
       "42      42 Coin    Scrypt   PoW/PoS     4.199995e+01              42\n",
       "404     404Coin    Scrypt   PoW/PoS     1.055185e+09       532000000\n",
       "808         808   SHA-256   PoW/PoS     0.000000e+00               0\n",
       "1337  EliteCoin       X13   PoW/PoS     2.927942e+10    314159265359\n",
       "BTC     Bitcoin   SHA-256       PoW     1.792718e+07        21000000"
      ]
     },
     "execution_count": 106,
     "metadata": {},
     "output_type": "execute_result"
    }
   ],
   "source": [
    "# Remove rows that have at least 1 null value.\n",
    "crypto_df = crypto_df.dropna()\n",
    "crypto_df.head()"
   ]
  },
  {
   "cell_type": "code",
   "execution_count": 107,
   "metadata": {},
   "outputs": [
    {
     "data": {
      "text/html": [
       "<div>\n",
       "<style scoped>\n",
       "    .dataframe tbody tr th:only-of-type {\n",
       "        vertical-align: middle;\n",
       "    }\n",
       "\n",
       "    .dataframe tbody tr th {\n",
       "        vertical-align: top;\n",
       "    }\n",
       "\n",
       "    .dataframe thead th {\n",
       "        text-align: right;\n",
       "    }\n",
       "</style>\n",
       "<table border=\"1\" class=\"dataframe\">\n",
       "  <thead>\n",
       "    <tr style=\"text-align: right;\">\n",
       "      <th></th>\n",
       "      <th>CoinName</th>\n",
       "      <th>Algorithm</th>\n",
       "      <th>ProofType</th>\n",
       "      <th>TotalCoinsMined</th>\n",
       "      <th>TotalCoinSupply</th>\n",
       "    </tr>\n",
       "  </thead>\n",
       "  <tbody>\n",
       "    <tr>\n",
       "      <th>42</th>\n",
       "      <td>42 Coin</td>\n",
       "      <td>Scrypt</td>\n",
       "      <td>PoW/PoS</td>\n",
       "      <td>4.199995e+01</td>\n",
       "      <td>42</td>\n",
       "    </tr>\n",
       "    <tr>\n",
       "      <th>404</th>\n",
       "      <td>404Coin</td>\n",
       "      <td>Scrypt</td>\n",
       "      <td>PoW/PoS</td>\n",
       "      <td>1.055185e+09</td>\n",
       "      <td>532000000</td>\n",
       "    </tr>\n",
       "    <tr>\n",
       "      <th>1337</th>\n",
       "      <td>EliteCoin</td>\n",
       "      <td>X13</td>\n",
       "      <td>PoW/PoS</td>\n",
       "      <td>2.927942e+10</td>\n",
       "      <td>314159265359</td>\n",
       "    </tr>\n",
       "    <tr>\n",
       "      <th>BTC</th>\n",
       "      <td>Bitcoin</td>\n",
       "      <td>SHA-256</td>\n",
       "      <td>PoW</td>\n",
       "      <td>1.792718e+07</td>\n",
       "      <td>21000000</td>\n",
       "    </tr>\n",
       "    <tr>\n",
       "      <th>ETH</th>\n",
       "      <td>Ethereum</td>\n",
       "      <td>Ethash</td>\n",
       "      <td>PoW</td>\n",
       "      <td>1.076842e+08</td>\n",
       "      <td>0</td>\n",
       "    </tr>\n",
       "  </tbody>\n",
       "</table>\n",
       "</div>"
      ],
      "text/plain": [
       "       CoinName Algorithm ProofType  TotalCoinsMined TotalCoinSupply\n",
       "42      42 Coin    Scrypt   PoW/PoS     4.199995e+01              42\n",
       "404     404Coin    Scrypt   PoW/PoS     1.055185e+09       532000000\n",
       "1337  EliteCoin       X13   PoW/PoS     2.927942e+10    314159265359\n",
       "BTC     Bitcoin   SHA-256       PoW     1.792718e+07        21000000\n",
       "ETH    Ethereum    Ethash       PoW     1.076842e+08               0"
      ]
     },
     "execution_count": 107,
     "metadata": {},
     "output_type": "execute_result"
    }
   ],
   "source": [
    "# Keep the rows where coins are mined.\n",
    "crypto_df = crypto_df[crypto_df[\"TotalCoinsMined\"]> 0]\n",
    "crypto_df.head()"
   ]
  },
  {
   "cell_type": "code",
   "execution_count": 108,
   "metadata": {},
   "outputs": [
    {
     "data": {
      "text/html": [
       "<div>\n",
       "<style scoped>\n",
       "    .dataframe tbody tr th:only-of-type {\n",
       "        vertical-align: middle;\n",
       "    }\n",
       "\n",
       "    .dataframe tbody tr th {\n",
       "        vertical-align: top;\n",
       "    }\n",
       "\n",
       "    .dataframe thead th {\n",
       "        text-align: right;\n",
       "    }\n",
       "</style>\n",
       "<table border=\"1\" class=\"dataframe\">\n",
       "  <thead>\n",
       "    <tr style=\"text-align: right;\">\n",
       "      <th></th>\n",
       "      <th>CoinName</th>\n",
       "    </tr>\n",
       "  </thead>\n",
       "  <tbody>\n",
       "    <tr>\n",
       "      <th>42</th>\n",
       "      <td>42 Coin</td>\n",
       "    </tr>\n",
       "    <tr>\n",
       "      <th>404</th>\n",
       "      <td>404Coin</td>\n",
       "    </tr>\n",
       "    <tr>\n",
       "      <th>1337</th>\n",
       "      <td>EliteCoin</td>\n",
       "    </tr>\n",
       "    <tr>\n",
       "      <th>BTC</th>\n",
       "      <td>Bitcoin</td>\n",
       "    </tr>\n",
       "    <tr>\n",
       "      <th>ETH</th>\n",
       "      <td>Ethereum</td>\n",
       "    </tr>\n",
       "  </tbody>\n",
       "</table>\n",
       "</div>"
      ],
      "text/plain": [
       "       CoinName\n",
       "42      42 Coin\n",
       "404     404Coin\n",
       "1337  EliteCoin\n",
       "BTC     Bitcoin\n",
       "ETH    Ethereum"
      ]
     },
     "execution_count": 108,
     "metadata": {},
     "output_type": "execute_result"
    }
   ],
   "source": [
    "# Create a new DataFrame that holds only the cryptocurrencies names.\n",
    "coin_name_df = crypto_df[['CoinName']].copy()\n",
    "coin_name_df.shape\n",
    "coin_name_df.head()"
   ]
  },
  {
   "cell_type": "code",
   "execution_count": 109,
   "metadata": {},
   "outputs": [
    {
     "data": {
      "text/html": [
       "<div>\n",
       "<style scoped>\n",
       "    .dataframe tbody tr th:only-of-type {\n",
       "        vertical-align: middle;\n",
       "    }\n",
       "\n",
       "    .dataframe tbody tr th {\n",
       "        vertical-align: top;\n",
       "    }\n",
       "\n",
       "    .dataframe thead th {\n",
       "        text-align: right;\n",
       "    }\n",
       "</style>\n",
       "<table border=\"1\" class=\"dataframe\">\n",
       "  <thead>\n",
       "    <tr style=\"text-align: right;\">\n",
       "      <th></th>\n",
       "      <th>Algorithm</th>\n",
       "      <th>ProofType</th>\n",
       "      <th>TotalCoinsMined</th>\n",
       "      <th>TotalCoinSupply</th>\n",
       "    </tr>\n",
       "  </thead>\n",
       "  <tbody>\n",
       "    <tr>\n",
       "      <th>42</th>\n",
       "      <td>Scrypt</td>\n",
       "      <td>PoW/PoS</td>\n",
       "      <td>4.199995e+01</td>\n",
       "      <td>42</td>\n",
       "    </tr>\n",
       "    <tr>\n",
       "      <th>404</th>\n",
       "      <td>Scrypt</td>\n",
       "      <td>PoW/PoS</td>\n",
       "      <td>1.055185e+09</td>\n",
       "      <td>532000000</td>\n",
       "    </tr>\n",
       "    <tr>\n",
       "      <th>1337</th>\n",
       "      <td>X13</td>\n",
       "      <td>PoW/PoS</td>\n",
       "      <td>2.927942e+10</td>\n",
       "      <td>314159265359</td>\n",
       "    </tr>\n",
       "    <tr>\n",
       "      <th>BTC</th>\n",
       "      <td>SHA-256</td>\n",
       "      <td>PoW</td>\n",
       "      <td>1.792718e+07</td>\n",
       "      <td>21000000</td>\n",
       "    </tr>\n",
       "    <tr>\n",
       "      <th>ETH</th>\n",
       "      <td>Ethash</td>\n",
       "      <td>PoW</td>\n",
       "      <td>1.076842e+08</td>\n",
       "      <td>0</td>\n",
       "    </tr>\n",
       "    <tr>\n",
       "      <th>...</th>\n",
       "      <td>...</td>\n",
       "      <td>...</td>\n",
       "      <td>...</td>\n",
       "      <td>...</td>\n",
       "    </tr>\n",
       "    <tr>\n",
       "      <th>ZEPH</th>\n",
       "      <td>SHA-256</td>\n",
       "      <td>DPoS</td>\n",
       "      <td>2.000000e+09</td>\n",
       "      <td>2000000000</td>\n",
       "    </tr>\n",
       "    <tr>\n",
       "      <th>GAP</th>\n",
       "      <td>Scrypt</td>\n",
       "      <td>PoW/PoS</td>\n",
       "      <td>1.493105e+07</td>\n",
       "      <td>250000000</td>\n",
       "    </tr>\n",
       "    <tr>\n",
       "      <th>BDX</th>\n",
       "      <td>CryptoNight</td>\n",
       "      <td>PoW</td>\n",
       "      <td>9.802226e+08</td>\n",
       "      <td>1400222610</td>\n",
       "    </tr>\n",
       "    <tr>\n",
       "      <th>ZEN</th>\n",
       "      <td>Equihash</td>\n",
       "      <td>PoW</td>\n",
       "      <td>7.296538e+06</td>\n",
       "      <td>21000000</td>\n",
       "    </tr>\n",
       "    <tr>\n",
       "      <th>XBC</th>\n",
       "      <td>Scrypt</td>\n",
       "      <td>PoS</td>\n",
       "      <td>1.283270e+05</td>\n",
       "      <td>1000000</td>\n",
       "    </tr>\n",
       "  </tbody>\n",
       "</table>\n",
       "<p>532 rows × 4 columns</p>\n",
       "</div>"
      ],
      "text/plain": [
       "        Algorithm ProofType  TotalCoinsMined TotalCoinSupply\n",
       "42         Scrypt   PoW/PoS     4.199995e+01              42\n",
       "404        Scrypt   PoW/PoS     1.055185e+09       532000000\n",
       "1337          X13   PoW/PoS     2.927942e+10    314159265359\n",
       "BTC       SHA-256       PoW     1.792718e+07        21000000\n",
       "ETH        Ethash       PoW     1.076842e+08               0\n",
       "...           ...       ...              ...             ...\n",
       "ZEPH      SHA-256      DPoS     2.000000e+09      2000000000\n",
       "GAP        Scrypt   PoW/PoS     1.493105e+07       250000000\n",
       "BDX   CryptoNight       PoW     9.802226e+08      1400222610\n",
       "ZEN      Equihash       PoW     7.296538e+06        21000000\n",
       "XBC        Scrypt       PoS     1.283270e+05         1000000\n",
       "\n",
       "[532 rows x 4 columns]"
      ]
     },
     "execution_count": 109,
     "metadata": {},
     "output_type": "execute_result"
    }
   ],
   "source": [
    "# Drop the 'CoinName' column since it's not going to be used on the clustering algorithm.\n",
    "crypto_df=crypto_df.drop(['CoinName'],axis=1)\n",
    "crypto_df"
   ]
  },
  {
   "cell_type": "code",
   "execution_count": 110,
   "metadata": {},
   "outputs": [
    {
     "name": "stdout",
     "output_type": "stream",
     "text": [
      "(532, 98)\n"
     ]
    },
    {
     "data": {
      "text/html": [
       "<div>\n",
       "<style scoped>\n",
       "    .dataframe tbody tr th:only-of-type {\n",
       "        vertical-align: middle;\n",
       "    }\n",
       "\n",
       "    .dataframe tbody tr th {\n",
       "        vertical-align: top;\n",
       "    }\n",
       "\n",
       "    .dataframe thead th {\n",
       "        text-align: right;\n",
       "    }\n",
       "</style>\n",
       "<table border=\"1\" class=\"dataframe\">\n",
       "  <thead>\n",
       "    <tr style=\"text-align: right;\">\n",
       "      <th></th>\n",
       "      <th>TotalCoinsMined</th>\n",
       "      <th>TotalCoinSupply</th>\n",
       "      <th>Algorithm_1GB AES Pattern Search</th>\n",
       "      <th>Algorithm_536</th>\n",
       "      <th>Algorithm_Argon2d</th>\n",
       "      <th>Algorithm_BLAKE256</th>\n",
       "      <th>Algorithm_Blake</th>\n",
       "      <th>Algorithm_Blake2S</th>\n",
       "      <th>Algorithm_Blake2b</th>\n",
       "      <th>Algorithm_C11</th>\n",
       "      <th>...</th>\n",
       "      <th>ProofType_PoW/PoS</th>\n",
       "      <th>ProofType_PoW/PoS</th>\n",
       "      <th>ProofType_PoW/PoW</th>\n",
       "      <th>ProofType_PoW/nPoS</th>\n",
       "      <th>ProofType_Pos</th>\n",
       "      <th>ProofType_Proof of Authority</th>\n",
       "      <th>ProofType_Proof of Trust</th>\n",
       "      <th>ProofType_TPoS</th>\n",
       "      <th>ProofType_Zero-Knowledge Proof</th>\n",
       "      <th>ProofType_dPoW/PoW</th>\n",
       "    </tr>\n",
       "  </thead>\n",
       "  <tbody>\n",
       "    <tr>\n",
       "      <th>42</th>\n",
       "      <td>4.199995e+01</td>\n",
       "      <td>42</td>\n",
       "      <td>0</td>\n",
       "      <td>0</td>\n",
       "      <td>0</td>\n",
       "      <td>0</td>\n",
       "      <td>0</td>\n",
       "      <td>0</td>\n",
       "      <td>0</td>\n",
       "      <td>0</td>\n",
       "      <td>...</td>\n",
       "      <td>1</td>\n",
       "      <td>0</td>\n",
       "      <td>0</td>\n",
       "      <td>0</td>\n",
       "      <td>0</td>\n",
       "      <td>0</td>\n",
       "      <td>0</td>\n",
       "      <td>0</td>\n",
       "      <td>0</td>\n",
       "      <td>0</td>\n",
       "    </tr>\n",
       "    <tr>\n",
       "      <th>404</th>\n",
       "      <td>1.055185e+09</td>\n",
       "      <td>532000000</td>\n",
       "      <td>0</td>\n",
       "      <td>0</td>\n",
       "      <td>0</td>\n",
       "      <td>0</td>\n",
       "      <td>0</td>\n",
       "      <td>0</td>\n",
       "      <td>0</td>\n",
       "      <td>0</td>\n",
       "      <td>...</td>\n",
       "      <td>1</td>\n",
       "      <td>0</td>\n",
       "      <td>0</td>\n",
       "      <td>0</td>\n",
       "      <td>0</td>\n",
       "      <td>0</td>\n",
       "      <td>0</td>\n",
       "      <td>0</td>\n",
       "      <td>0</td>\n",
       "      <td>0</td>\n",
       "    </tr>\n",
       "    <tr>\n",
       "      <th>1337</th>\n",
       "      <td>2.927942e+10</td>\n",
       "      <td>314159265359</td>\n",
       "      <td>0</td>\n",
       "      <td>0</td>\n",
       "      <td>0</td>\n",
       "      <td>0</td>\n",
       "      <td>0</td>\n",
       "      <td>0</td>\n",
       "      <td>0</td>\n",
       "      <td>0</td>\n",
       "      <td>...</td>\n",
       "      <td>1</td>\n",
       "      <td>0</td>\n",
       "      <td>0</td>\n",
       "      <td>0</td>\n",
       "      <td>0</td>\n",
       "      <td>0</td>\n",
       "      <td>0</td>\n",
       "      <td>0</td>\n",
       "      <td>0</td>\n",
       "      <td>0</td>\n",
       "    </tr>\n",
       "    <tr>\n",
       "      <th>BTC</th>\n",
       "      <td>1.792718e+07</td>\n",
       "      <td>21000000</td>\n",
       "      <td>0</td>\n",
       "      <td>0</td>\n",
       "      <td>0</td>\n",
       "      <td>0</td>\n",
       "      <td>0</td>\n",
       "      <td>0</td>\n",
       "      <td>0</td>\n",
       "      <td>0</td>\n",
       "      <td>...</td>\n",
       "      <td>0</td>\n",
       "      <td>0</td>\n",
       "      <td>0</td>\n",
       "      <td>0</td>\n",
       "      <td>0</td>\n",
       "      <td>0</td>\n",
       "      <td>0</td>\n",
       "      <td>0</td>\n",
       "      <td>0</td>\n",
       "      <td>0</td>\n",
       "    </tr>\n",
       "    <tr>\n",
       "      <th>ETH</th>\n",
       "      <td>1.076842e+08</td>\n",
       "      <td>0</td>\n",
       "      <td>0</td>\n",
       "      <td>0</td>\n",
       "      <td>0</td>\n",
       "      <td>0</td>\n",
       "      <td>0</td>\n",
       "      <td>0</td>\n",
       "      <td>0</td>\n",
       "      <td>0</td>\n",
       "      <td>...</td>\n",
       "      <td>0</td>\n",
       "      <td>0</td>\n",
       "      <td>0</td>\n",
       "      <td>0</td>\n",
       "      <td>0</td>\n",
       "      <td>0</td>\n",
       "      <td>0</td>\n",
       "      <td>0</td>\n",
       "      <td>0</td>\n",
       "      <td>0</td>\n",
       "    </tr>\n",
       "    <tr>\n",
       "      <th>...</th>\n",
       "      <td>...</td>\n",
       "      <td>...</td>\n",
       "      <td>...</td>\n",
       "      <td>...</td>\n",
       "      <td>...</td>\n",
       "      <td>...</td>\n",
       "      <td>...</td>\n",
       "      <td>...</td>\n",
       "      <td>...</td>\n",
       "      <td>...</td>\n",
       "      <td>...</td>\n",
       "      <td>...</td>\n",
       "      <td>...</td>\n",
       "      <td>...</td>\n",
       "      <td>...</td>\n",
       "      <td>...</td>\n",
       "      <td>...</td>\n",
       "      <td>...</td>\n",
       "      <td>...</td>\n",
       "      <td>...</td>\n",
       "      <td>...</td>\n",
       "    </tr>\n",
       "    <tr>\n",
       "      <th>ZEPH</th>\n",
       "      <td>2.000000e+09</td>\n",
       "      <td>2000000000</td>\n",
       "      <td>0</td>\n",
       "      <td>0</td>\n",
       "      <td>0</td>\n",
       "      <td>0</td>\n",
       "      <td>0</td>\n",
       "      <td>0</td>\n",
       "      <td>0</td>\n",
       "      <td>0</td>\n",
       "      <td>...</td>\n",
       "      <td>0</td>\n",
       "      <td>0</td>\n",
       "      <td>0</td>\n",
       "      <td>0</td>\n",
       "      <td>0</td>\n",
       "      <td>0</td>\n",
       "      <td>0</td>\n",
       "      <td>0</td>\n",
       "      <td>0</td>\n",
       "      <td>0</td>\n",
       "    </tr>\n",
       "    <tr>\n",
       "      <th>GAP</th>\n",
       "      <td>1.493105e+07</td>\n",
       "      <td>250000000</td>\n",
       "      <td>0</td>\n",
       "      <td>0</td>\n",
       "      <td>0</td>\n",
       "      <td>0</td>\n",
       "      <td>0</td>\n",
       "      <td>0</td>\n",
       "      <td>0</td>\n",
       "      <td>0</td>\n",
       "      <td>...</td>\n",
       "      <td>1</td>\n",
       "      <td>0</td>\n",
       "      <td>0</td>\n",
       "      <td>0</td>\n",
       "      <td>0</td>\n",
       "      <td>0</td>\n",
       "      <td>0</td>\n",
       "      <td>0</td>\n",
       "      <td>0</td>\n",
       "      <td>0</td>\n",
       "    </tr>\n",
       "    <tr>\n",
       "      <th>BDX</th>\n",
       "      <td>9.802226e+08</td>\n",
       "      <td>1400222610</td>\n",
       "      <td>0</td>\n",
       "      <td>0</td>\n",
       "      <td>0</td>\n",
       "      <td>0</td>\n",
       "      <td>0</td>\n",
       "      <td>0</td>\n",
       "      <td>0</td>\n",
       "      <td>0</td>\n",
       "      <td>...</td>\n",
       "      <td>0</td>\n",
       "      <td>0</td>\n",
       "      <td>0</td>\n",
       "      <td>0</td>\n",
       "      <td>0</td>\n",
       "      <td>0</td>\n",
       "      <td>0</td>\n",
       "      <td>0</td>\n",
       "      <td>0</td>\n",
       "      <td>0</td>\n",
       "    </tr>\n",
       "    <tr>\n",
       "      <th>ZEN</th>\n",
       "      <td>7.296538e+06</td>\n",
       "      <td>21000000</td>\n",
       "      <td>0</td>\n",
       "      <td>0</td>\n",
       "      <td>0</td>\n",
       "      <td>0</td>\n",
       "      <td>0</td>\n",
       "      <td>0</td>\n",
       "      <td>0</td>\n",
       "      <td>0</td>\n",
       "      <td>...</td>\n",
       "      <td>0</td>\n",
       "      <td>0</td>\n",
       "      <td>0</td>\n",
       "      <td>0</td>\n",
       "      <td>0</td>\n",
       "      <td>0</td>\n",
       "      <td>0</td>\n",
       "      <td>0</td>\n",
       "      <td>0</td>\n",
       "      <td>0</td>\n",
       "    </tr>\n",
       "    <tr>\n",
       "      <th>XBC</th>\n",
       "      <td>1.283270e+05</td>\n",
       "      <td>1000000</td>\n",
       "      <td>0</td>\n",
       "      <td>0</td>\n",
       "      <td>0</td>\n",
       "      <td>0</td>\n",
       "      <td>0</td>\n",
       "      <td>0</td>\n",
       "      <td>0</td>\n",
       "      <td>0</td>\n",
       "      <td>...</td>\n",
       "      <td>0</td>\n",
       "      <td>0</td>\n",
       "      <td>0</td>\n",
       "      <td>0</td>\n",
       "      <td>0</td>\n",
       "      <td>0</td>\n",
       "      <td>0</td>\n",
       "      <td>0</td>\n",
       "      <td>0</td>\n",
       "      <td>0</td>\n",
       "    </tr>\n",
       "  </tbody>\n",
       "</table>\n",
       "<p>532 rows × 98 columns</p>\n",
       "</div>"
      ],
      "text/plain": [
       "      TotalCoinsMined TotalCoinSupply  Algorithm_1GB AES Pattern Search  \\\n",
       "42       4.199995e+01              42                                 0   \n",
       "404      1.055185e+09       532000000                                 0   \n",
       "1337     2.927942e+10    314159265359                                 0   \n",
       "BTC      1.792718e+07        21000000                                 0   \n",
       "ETH      1.076842e+08               0                                 0   \n",
       "...               ...             ...                               ...   \n",
       "ZEPH     2.000000e+09      2000000000                                 0   \n",
       "GAP      1.493105e+07       250000000                                 0   \n",
       "BDX      9.802226e+08      1400222610                                 0   \n",
       "ZEN      7.296538e+06        21000000                                 0   \n",
       "XBC      1.283270e+05         1000000                                 0   \n",
       "\n",
       "      Algorithm_536  Algorithm_Argon2d  Algorithm_BLAKE256  Algorithm_Blake  \\\n",
       "42                0                  0                   0                0   \n",
       "404               0                  0                   0                0   \n",
       "1337              0                  0                   0                0   \n",
       "BTC               0                  0                   0                0   \n",
       "ETH               0                  0                   0                0   \n",
       "...             ...                ...                 ...              ...   \n",
       "ZEPH              0                  0                   0                0   \n",
       "GAP               0                  0                   0                0   \n",
       "BDX               0                  0                   0                0   \n",
       "ZEN               0                  0                   0                0   \n",
       "XBC               0                  0                   0                0   \n",
       "\n",
       "      Algorithm_Blake2S  Algorithm_Blake2b  Algorithm_C11  ...  \\\n",
       "42                    0                  0              0  ...   \n",
       "404                   0                  0              0  ...   \n",
       "1337                  0                  0              0  ...   \n",
       "BTC                   0                  0              0  ...   \n",
       "ETH                   0                  0              0  ...   \n",
       "...                 ...                ...            ...  ...   \n",
       "ZEPH                  0                  0              0  ...   \n",
       "GAP                   0                  0              0  ...   \n",
       "BDX                   0                  0              0  ...   \n",
       "ZEN                   0                  0              0  ...   \n",
       "XBC                   0                  0              0  ...   \n",
       "\n",
       "      ProofType_PoW/PoS  ProofType_PoW/PoS   ProofType_PoW/PoW  \\\n",
       "42                    1                   0                  0   \n",
       "404                   1                   0                  0   \n",
       "1337                  1                   0                  0   \n",
       "BTC                   0                   0                  0   \n",
       "ETH                   0                   0                  0   \n",
       "...                 ...                 ...                ...   \n",
       "ZEPH                  0                   0                  0   \n",
       "GAP                   1                   0                  0   \n",
       "BDX                   0                   0                  0   \n",
       "ZEN                   0                   0                  0   \n",
       "XBC                   0                   0                  0   \n",
       "\n",
       "      ProofType_PoW/nPoS  ProofType_Pos  ProofType_Proof of Authority  \\\n",
       "42                     0              0                             0   \n",
       "404                    0              0                             0   \n",
       "1337                   0              0                             0   \n",
       "BTC                    0              0                             0   \n",
       "ETH                    0              0                             0   \n",
       "...                  ...            ...                           ...   \n",
       "ZEPH                   0              0                             0   \n",
       "GAP                    0              0                             0   \n",
       "BDX                    0              0                             0   \n",
       "ZEN                    0              0                             0   \n",
       "XBC                    0              0                             0   \n",
       "\n",
       "      ProofType_Proof of Trust  ProofType_TPoS  \\\n",
       "42                           0               0   \n",
       "404                          0               0   \n",
       "1337                         0               0   \n",
       "BTC                          0               0   \n",
       "ETH                          0               0   \n",
       "...                        ...             ...   \n",
       "ZEPH                         0               0   \n",
       "GAP                          0               0   \n",
       "BDX                          0               0   \n",
       "ZEN                          0               0   \n",
       "XBC                          0               0   \n",
       "\n",
       "      ProofType_Zero-Knowledge Proof  ProofType_dPoW/PoW  \n",
       "42                                 0                   0  \n",
       "404                                0                   0  \n",
       "1337                               0                   0  \n",
       "BTC                                0                   0  \n",
       "ETH                                0                   0  \n",
       "...                              ...                 ...  \n",
       "ZEPH                               0                   0  \n",
       "GAP                                0                   0  \n",
       "BDX                                0                   0  \n",
       "ZEN                                0                   0  \n",
       "XBC                                0                   0  \n",
       "\n",
       "[532 rows x 98 columns]"
      ]
     },
     "execution_count": 110,
     "metadata": {},
     "output_type": "execute_result"
    }
   ],
   "source": [
    "# Use get_dummies() to create variables for text features.\n",
    "X=pd.get_dummies(data=crypto_df, columns=['Algorithm', 'ProofType'])\n",
    "print(X.shape)\n",
    "X"
   ]
  },
  {
   "cell_type": "code",
   "execution_count": 111,
   "metadata": {},
   "outputs": [
    {
     "data": {
      "text/plain": [
       "array([[-0.11710817, -0.1528703 , -0.0433963 , -0.0433963 , -0.0433963 ,\n",
       "        -0.06142951, -0.07530656, -0.0433963 , -0.06142951, -0.06142951,\n",
       "        -0.0433963 , -0.0433963 , -0.19245009, -0.06142951, -0.09740465,\n",
       "        -0.0433963 , -0.11547005, -0.07530656, -0.0433963 , -0.0433963 ,\n",
       "        -0.15191091, -0.0433963 , -0.13118084, -0.0433963 , -0.0433963 ,\n",
       "        -0.08703883, -0.0433963 , -0.0433963 , -0.0433963 , -0.0433963 ,\n",
       "        -0.06142951, -0.0433963 , -0.08703883, -0.08703883, -0.08703883,\n",
       "        -0.0433963 , -0.13118084, -0.13840913, -0.13840913, -0.0433963 ,\n",
       "        -0.06142951, -0.0433963 , -0.07530656, -0.18168574, -0.0433963 ,\n",
       "        -0.0433963 , -0.0433963 , -0.07530656, -0.15826614, -0.31491833,\n",
       "        -0.0433963 , -0.08703883, -0.07530656, -0.06142951,  1.38675049,\n",
       "        -0.0433963 , -0.0433963 , -0.06142951, -0.0433963 , -0.0433963 ,\n",
       "        -0.0433963 , -0.0433963 , -0.0433963 , -0.0433963 , -0.0433963 ,\n",
       "        -0.0433963 , -0.39879994, -0.0433963 , -0.18168574, -0.0433963 ,\n",
       "        -0.08703883, -0.08703883, -0.10680283, -0.0433963 , -0.13118084,\n",
       "        -0.0433963 , -0.0433963 , -0.0433963 , -0.0433963 , -0.07530656,\n",
       "        -0.43911856, -0.0433963 , -0.06142951, -0.0433963 , -0.0433963 ,\n",
       "        -0.89632016, -0.0433963 , -0.0433963 ,  1.42222617, -0.0433963 ,\n",
       "        -0.0433963 , -0.0433963 , -0.0433963 , -0.0433963 , -0.0433963 ,\n",
       "        -0.0433963 , -0.0433963 , -0.0433963 ],\n",
       "       [-0.09396955, -0.145009  , -0.0433963 , -0.0433963 , -0.0433963 ,\n",
       "        -0.06142951, -0.07530656, -0.0433963 , -0.06142951, -0.06142951,\n",
       "        -0.0433963 , -0.0433963 , -0.19245009, -0.06142951, -0.09740465,\n",
       "        -0.0433963 , -0.11547005, -0.07530656, -0.0433963 , -0.0433963 ,\n",
       "        -0.15191091, -0.0433963 , -0.13118084, -0.0433963 , -0.0433963 ,\n",
       "        -0.08703883, -0.0433963 , -0.0433963 , -0.0433963 , -0.0433963 ,\n",
       "        -0.06142951, -0.0433963 , -0.08703883, -0.08703883, -0.08703883,\n",
       "        -0.0433963 , -0.13118084, -0.13840913, -0.13840913, -0.0433963 ,\n",
       "        -0.06142951, -0.0433963 , -0.07530656, -0.18168574, -0.0433963 ,\n",
       "        -0.0433963 , -0.0433963 , -0.07530656, -0.15826614, -0.31491833,\n",
       "        -0.0433963 , -0.08703883, -0.07530656, -0.06142951,  1.38675049,\n",
       "        -0.0433963 , -0.0433963 , -0.06142951, -0.0433963 , -0.0433963 ,\n",
       "        -0.0433963 , -0.0433963 , -0.0433963 , -0.0433963 , -0.0433963 ,\n",
       "        -0.0433963 , -0.39879994, -0.0433963 , -0.18168574, -0.0433963 ,\n",
       "        -0.08703883, -0.08703883, -0.10680283, -0.0433963 , -0.13118084,\n",
       "        -0.0433963 , -0.0433963 , -0.0433963 , -0.0433963 , -0.07530656,\n",
       "        -0.43911856, -0.0433963 , -0.06142951, -0.0433963 , -0.0433963 ,\n",
       "        -0.89632016, -0.0433963 , -0.0433963 ,  1.42222617, -0.0433963 ,\n",
       "        -0.0433963 , -0.0433963 , -0.0433963 , -0.0433963 , -0.0433963 ,\n",
       "        -0.0433963 , -0.0433963 , -0.0433963 ],\n",
       "       [ 0.52494561,  4.48942416, -0.0433963 , -0.0433963 , -0.0433963 ,\n",
       "        -0.06142951, -0.07530656, -0.0433963 , -0.06142951, -0.06142951,\n",
       "        -0.0433963 , -0.0433963 , -0.19245009, -0.06142951, -0.09740465,\n",
       "        -0.0433963 , -0.11547005, -0.07530656, -0.0433963 , -0.0433963 ,\n",
       "        -0.15191091, -0.0433963 , -0.13118084, -0.0433963 , -0.0433963 ,\n",
       "        -0.08703883, -0.0433963 , -0.0433963 , -0.0433963 , -0.0433963 ,\n",
       "        -0.06142951, -0.0433963 , -0.08703883, -0.08703883, -0.08703883,\n",
       "        -0.0433963 , -0.13118084, -0.13840913, -0.13840913, -0.0433963 ,\n",
       "        -0.06142951, -0.0433963 , -0.07530656, -0.18168574, -0.0433963 ,\n",
       "        -0.0433963 , -0.0433963 , -0.07530656, -0.15826614, -0.31491833,\n",
       "        -0.0433963 , -0.08703883, -0.07530656, -0.06142951, -0.72111026,\n",
       "        -0.0433963 , -0.0433963 , -0.06142951, -0.0433963 , -0.0433963 ,\n",
       "        -0.0433963 , -0.0433963 , -0.0433963 , -0.0433963 , -0.0433963 ,\n",
       "        -0.0433963 , -0.39879994, -0.0433963 ,  5.50400923, -0.0433963 ,\n",
       "        -0.08703883, -0.08703883, -0.10680283, -0.0433963 , -0.13118084,\n",
       "        -0.0433963 , -0.0433963 , -0.0433963 , -0.0433963 , -0.07530656,\n",
       "        -0.43911856, -0.0433963 , -0.06142951, -0.0433963 , -0.0433963 ,\n",
       "        -0.89632016, -0.0433963 , -0.0433963 ,  1.42222617, -0.0433963 ,\n",
       "        -0.0433963 , -0.0433963 , -0.0433963 , -0.0433963 , -0.0433963 ,\n",
       "        -0.0433963 , -0.0433963 , -0.0433963 ],\n",
       "       [-0.11671506, -0.15255998, -0.0433963 , -0.0433963 , -0.0433963 ,\n",
       "        -0.06142951, -0.07530656, -0.0433963 , -0.06142951, -0.06142951,\n",
       "        -0.0433963 , -0.0433963 , -0.19245009, -0.06142951, -0.09740465,\n",
       "        -0.0433963 , -0.11547005, -0.07530656, -0.0433963 , -0.0433963 ,\n",
       "        -0.15191091, -0.0433963 , -0.13118084, -0.0433963 , -0.0433963 ,\n",
       "        -0.08703883, -0.0433963 , -0.0433963 , -0.0433963 , -0.0433963 ,\n",
       "        -0.06142951, -0.0433963 , -0.08703883, -0.08703883, -0.08703883,\n",
       "        -0.0433963 , -0.13118084, -0.13840913, -0.13840913, -0.0433963 ,\n",
       "        -0.06142951, -0.0433963 , -0.07530656, -0.18168574, -0.0433963 ,\n",
       "        -0.0433963 , -0.0433963 , -0.07530656, -0.15826614,  3.17542648,\n",
       "        -0.0433963 , -0.08703883, -0.07530656, -0.06142951, -0.72111026,\n",
       "        -0.0433963 , -0.0433963 , -0.06142951, -0.0433963 , -0.0433963 ,\n",
       "        -0.0433963 , -0.0433963 , -0.0433963 , -0.0433963 , -0.0433963 ,\n",
       "        -0.0433963 , -0.39879994, -0.0433963 , -0.18168574, -0.0433963 ,\n",
       "        -0.08703883, -0.08703883, -0.10680283, -0.0433963 , -0.13118084,\n",
       "        -0.0433963 , -0.0433963 , -0.0433963 , -0.0433963 , -0.07530656,\n",
       "        -0.43911856, -0.0433963 , -0.06142951, -0.0433963 , -0.0433963 ,\n",
       "         1.11567277, -0.0433963 , -0.0433963 , -0.70312305, -0.0433963 ,\n",
       "        -0.0433963 , -0.0433963 , -0.0433963 , -0.0433963 , -0.0433963 ,\n",
       "        -0.0433963 , -0.0433963 , -0.0433963 ],\n",
       "       [-0.11474682, -0.1528703 , -0.0433963 , -0.0433963 , -0.0433963 ,\n",
       "        -0.06142951, -0.07530656, -0.0433963 , -0.06142951, -0.06142951,\n",
       "        -0.0433963 , -0.0433963 , -0.19245009, -0.06142951, -0.09740465,\n",
       "        -0.0433963 , -0.11547005, -0.07530656, -0.0433963 , -0.0433963 ,\n",
       "        -0.15191091, -0.0433963 ,  7.62306442, -0.0433963 , -0.0433963 ,\n",
       "        -0.08703883, -0.0433963 , -0.0433963 , -0.0433963 , -0.0433963 ,\n",
       "        -0.06142951, -0.0433963 , -0.08703883, -0.08703883, -0.08703883,\n",
       "        -0.0433963 , -0.13118084, -0.13840913, -0.13840913, -0.0433963 ,\n",
       "        -0.06142951, -0.0433963 , -0.07530656, -0.18168574, -0.0433963 ,\n",
       "        -0.0433963 , -0.0433963 , -0.07530656, -0.15826614, -0.31491833,\n",
       "        -0.0433963 , -0.08703883, -0.07530656, -0.06142951, -0.72111026,\n",
       "        -0.0433963 , -0.0433963 , -0.06142951, -0.0433963 , -0.0433963 ,\n",
       "        -0.0433963 , -0.0433963 , -0.0433963 , -0.0433963 , -0.0433963 ,\n",
       "        -0.0433963 , -0.39879994, -0.0433963 , -0.18168574, -0.0433963 ,\n",
       "        -0.08703883, -0.08703883, -0.10680283, -0.0433963 , -0.13118084,\n",
       "        -0.0433963 , -0.0433963 , -0.0433963 , -0.0433963 , -0.07530656,\n",
       "        -0.43911856, -0.0433963 , -0.06142951, -0.0433963 , -0.0433963 ,\n",
       "         1.11567277, -0.0433963 , -0.0433963 , -0.70312305, -0.0433963 ,\n",
       "        -0.0433963 , -0.0433963 , -0.0433963 , -0.0433963 , -0.0433963 ,\n",
       "        -0.0433963 , -0.0433963 , -0.0433963 ]])"
      ]
     },
     "execution_count": 111,
     "metadata": {},
     "output_type": "execute_result"
    }
   ],
   "source": [
    "# Standardize the data with StandardScaler().\n",
    "X_scaled = StandardScaler().fit_transform(X)\n",
    "X_scaled[:5]"
   ]
  },
  {
   "cell_type": "markdown",
   "metadata": {},
   "source": [
    "### Deliverable 2: Reducing Data Dimensions Using PCA"
   ]
  },
  {
   "cell_type": "code",
   "execution_count": 112,
   "metadata": {},
   "outputs": [],
   "source": [
    "# Using PCA to reduce dimension to three principal components.\n",
    "pca = PCA(n_components=3, random_state=1)\n",
    "X_pca = pca.fit_transform(X_scaled)"
   ]
  },
  {
   "cell_type": "code",
   "execution_count": 113,
   "metadata": {},
   "outputs": [
    {
     "name": "stdout",
     "output_type": "stream",
     "text": [
      "(532, 3)\n"
     ]
    },
    {
     "data": {
      "text/html": [
       "<div>\n",
       "<style scoped>\n",
       "    .dataframe tbody tr th:only-of-type {\n",
       "        vertical-align: middle;\n",
       "    }\n",
       "\n",
       "    .dataframe tbody tr th {\n",
       "        vertical-align: top;\n",
       "    }\n",
       "\n",
       "    .dataframe thead th {\n",
       "        text-align: right;\n",
       "    }\n",
       "</style>\n",
       "<table border=\"1\" class=\"dataframe\">\n",
       "  <thead>\n",
       "    <tr style=\"text-align: right;\">\n",
       "      <th></th>\n",
       "      <th>PC 1</th>\n",
       "      <th>PC 2</th>\n",
       "      <th>PC 3</th>\n",
       "    </tr>\n",
       "  </thead>\n",
       "  <tbody>\n",
       "    <tr>\n",
       "      <th>42</th>\n",
       "      <td>-0.334216</td>\n",
       "      <td>1.059431</td>\n",
       "      <td>-0.611129</td>\n",
       "    </tr>\n",
       "    <tr>\n",
       "      <th>404</th>\n",
       "      <td>-0.317579</td>\n",
       "      <td>1.060258</td>\n",
       "      <td>-0.611764</td>\n",
       "    </tr>\n",
       "    <tr>\n",
       "      <th>1337</th>\n",
       "      <td>2.299018</td>\n",
       "      <td>1.740704</td>\n",
       "      <td>-0.746129</td>\n",
       "    </tr>\n",
       "    <tr>\n",
       "      <th>BTC</th>\n",
       "      <td>-0.141841</td>\n",
       "      <td>-1.332626</td>\n",
       "      <td>0.202796</td>\n",
       "    </tr>\n",
       "    <tr>\n",
       "      <th>ETH</th>\n",
       "      <td>-0.149732</td>\n",
       "      <td>-1.990729</td>\n",
       "      <td>0.406060</td>\n",
       "    </tr>\n",
       "    <tr>\n",
       "      <th>...</th>\n",
       "      <td>...</td>\n",
       "      <td>...</td>\n",
       "      <td>...</td>\n",
       "    </tr>\n",
       "    <tr>\n",
       "      <th>ZEPH</th>\n",
       "      <td>2.494434</td>\n",
       "      <td>0.344954</td>\n",
       "      <td>-0.066430</td>\n",
       "    </tr>\n",
       "    <tr>\n",
       "      <th>GAP</th>\n",
       "      <td>-0.332266</td>\n",
       "      <td>1.059398</td>\n",
       "      <td>-0.611174</td>\n",
       "    </tr>\n",
       "    <tr>\n",
       "      <th>BDX</th>\n",
       "      <td>0.319606</td>\n",
       "      <td>-2.282878</td>\n",
       "      <td>0.474041</td>\n",
       "    </tr>\n",
       "    <tr>\n",
       "      <th>ZEN</th>\n",
       "      <td>-0.156201</td>\n",
       "      <td>-2.110309</td>\n",
       "      <td>0.399649</td>\n",
       "    </tr>\n",
       "    <tr>\n",
       "      <th>XBC</th>\n",
       "      <td>-0.282280</td>\n",
       "      <td>0.859472</td>\n",
       "      <td>-0.301750</td>\n",
       "    </tr>\n",
       "  </tbody>\n",
       "</table>\n",
       "<p>532 rows × 3 columns</p>\n",
       "</div>"
      ],
      "text/plain": [
       "          PC 1      PC 2      PC 3\n",
       "42   -0.334216  1.059431 -0.611129\n",
       "404  -0.317579  1.060258 -0.611764\n",
       "1337  2.299018  1.740704 -0.746129\n",
       "BTC  -0.141841 -1.332626  0.202796\n",
       "ETH  -0.149732 -1.990729  0.406060\n",
       "...        ...       ...       ...\n",
       "ZEPH  2.494434  0.344954 -0.066430\n",
       "GAP  -0.332266  1.059398 -0.611174\n",
       "BDX   0.319606 -2.282878  0.474041\n",
       "ZEN  -0.156201 -2.110309  0.399649\n",
       "XBC  -0.282280  0.859472 -0.301750\n",
       "\n",
       "[532 rows x 3 columns]"
      ]
     },
     "execution_count": 113,
     "metadata": {},
     "output_type": "execute_result"
    }
   ],
   "source": [
    "# Create a DataFrame with the three principal components.\n",
    "pcs_df = pd.DataFrame(data=X_pca, columns =[\"PC 1\",\"PC 2\",\"PC 3\"],index=crypto_df.index)\n",
    "print(pcs_df.shape)\n",
    "pcs_df"
   ]
  },
  {
   "cell_type": "markdown",
   "metadata": {},
   "source": [
    "### Deliverable 3: Clustering Crytocurrencies Using K-Means\n",
    "\n",
    "#### Finding the Best Value for `k` Using the Elbow Curve"
   ]
  },
  {
   "cell_type": "code",
   "execution_count": 114,
   "metadata": {},
   "outputs": [],
   "source": [
    "inertia = []\n",
    "k = list(range(1, 11))\n",
    "\n",
    "# Calculate the inertia for the range of K values\n",
    "for i in k:\n",
    "    km = KMeans(n_clusters=i, random_state=0)\n",
    "    km.fit(pcs_df)\n",
    "    inertia.append(km.inertia_)"
   ]
  },
  {
   "cell_type": "code",
   "execution_count": 115,
   "metadata": {},
   "outputs": [
    {
     "data": {},
     "metadata": {},
     "output_type": "display_data"
    },
    {
     "data": {
      "application/vnd.holoviews_exec.v0+json": "",
      "text/html": [
       "<div id='1173'>\n",
       "\n",
       "\n",
       "\n",
       "\n",
       "\n",
       "  <div class=\"bk-root\" id=\"3b530c72-a65f-47e8-9a10-5561ff97a53c\" data-root-id=\"1173\"></div>\n",
       "</div>\n",
       "<script type=\"application/javascript\">(function(root) {\n",
       "  function embed_document(root) {\n",
       "    var docs_json = {\"e77733c1-c865-4bec-b591-13ff4cc93a7a\":{\"defs\":[{\"extends\":null,\"module\":null,\"name\":\"ReactiveHTML1\",\"overrides\":[],\"properties\":[]},{\"extends\":null,\"module\":null,\"name\":\"FlexBox1\",\"overrides\":[],\"properties\":[{\"default\":\"flex-start\",\"kind\":null,\"name\":\"align_content\"},{\"default\":\"flex-start\",\"kind\":null,\"name\":\"align_items\"},{\"default\":\"row\",\"kind\":null,\"name\":\"flex_direction\"},{\"default\":\"wrap\",\"kind\":null,\"name\":\"flex_wrap\"},{\"default\":\"flex-start\",\"kind\":null,\"name\":\"justify_content\"}]},{\"extends\":null,\"module\":null,\"name\":\"GridStack1\",\"overrides\":[],\"properties\":[{\"default\":\"warn\",\"kind\":null,\"name\":\"mode\"},{\"default\":null,\"kind\":null,\"name\":\"ncols\"},{\"default\":null,\"kind\":null,\"name\":\"nrows\"},{\"default\":true,\"kind\":null,\"name\":\"allow_resize\"},{\"default\":true,\"kind\":null,\"name\":\"allow_drag\"},{\"default\":[],\"kind\":null,\"name\":\"state\"}]},{\"extends\":null,\"module\":null,\"name\":\"click1\",\"overrides\":[],\"properties\":[{\"default\":\"\",\"kind\":null,\"name\":\"terminal_output\"},{\"default\":\"\",\"kind\":null,\"name\":\"debug_name\"},{\"default\":0,\"kind\":null,\"name\":\"clears\"}]},{\"extends\":null,\"module\":null,\"name\":\"TemplateActions1\",\"overrides\":[],\"properties\":[{\"default\":0,\"kind\":null,\"name\":\"open_modal\"},{\"default\":0,\"kind\":null,\"name\":\"close_modal\"}]},{\"extends\":null,\"module\":null,\"name\":\"MaterialTemplateActions1\",\"overrides\":[],\"properties\":[{\"default\":0,\"kind\":null,\"name\":\"open_modal\"},{\"default\":0,\"kind\":null,\"name\":\"close_modal\"}]}],\"roots\":{\"references\":[{\"attributes\":{\"axis\":{\"id\":\"1191\"},\"coordinates\":null,\"dimension\":1,\"grid_line_color\":null,\"group\":null,\"ticker\":null},\"id\":\"1194\",\"type\":\"Grid\"},{\"attributes\":{\"data\":{\"inertia\":{\"__ndarray__\":\"9oN2TSxqrEDSTA1n1EijQKrGyH8wZJdA0W18b1sjgUDcdiTdflh2QJQkgaOVTnBANK8/zIobaEAkcvHxFW5kQLB3/JkEC2FAecnMDxOfW0A=\",\"dtype\":\"float64\",\"order\":\"little\",\"shape\":[10]},\"k\":[1,2,3,4,5,6,7,8,9,10]},\"selected\":{\"id\":\"1209\"},\"selection_policy\":{\"id\":\"1232\"}},\"id\":\"1208\",\"type\":\"ColumnDataSource\"},{\"attributes\":{\"end\":10.0,\"reset_end\":10.0,\"reset_start\":1.0,\"start\":1.0,\"tags\":[[[\"k\",\"k\",null]]]},\"id\":\"1175\",\"type\":\"Range1d\"},{\"attributes\":{\"margin\":[5,5,5,5],\"name\":\"HSpacer01919\",\"sizing_mode\":\"stretch_width\"},\"id\":\"1174\",\"type\":\"Spacer\"},{\"attributes\":{},\"id\":\"1192\",\"type\":\"BasicTicker\"},{\"attributes\":{\"axis\":{\"id\":\"1187\"},\"coordinates\":null,\"grid_line_color\":null,\"group\":null,\"ticker\":null},\"id\":\"1190\",\"type\":\"Grid\"},{\"attributes\":{\"line_color\":\"#30a2da\",\"line_width\":2,\"x\":{\"field\":\"k\"},\"y\":{\"field\":\"inertia\"}},\"id\":\"1216\",\"type\":\"Line\"},{\"attributes\":{\"margin\":[5,5,5,5],\"name\":\"HSpacer01920\",\"sizing_mode\":\"stretch_width\"},\"id\":\"1244\",\"type\":\"Spacer\"},{\"attributes\":{},\"id\":\"1219\",\"type\":\"BasicTickFormatter\"},{\"attributes\":{},\"id\":\"1220\",\"type\":\"AllLabels\"},{\"attributes\":{\"coordinates\":null,\"data_source\":{\"id\":\"1208\"},\"glyph\":{\"id\":\"1211\"},\"group\":null,\"hover_glyph\":null,\"muted_glyph\":{\"id\":\"1213\"},\"nonselection_glyph\":{\"id\":\"1212\"},\"selection_glyph\":{\"id\":\"1216\"},\"view\":{\"id\":\"1215\"}},\"id\":\"1214\",\"type\":\"GlyphRenderer\"},{\"attributes\":{\"source\":{\"id\":\"1208\"}},\"id\":\"1215\",\"type\":\"CDSView\"},{\"attributes\":{\"tools\":[{\"id\":\"1177\"},{\"id\":\"1195\"},{\"id\":\"1196\"},{\"id\":\"1197\"},{\"id\":\"1198\"},{\"id\":\"1199\"}]},\"id\":\"1201\",\"type\":\"Toolbar\"},{\"attributes\":{},\"id\":\"1225\",\"type\":\"AllLabels\"},{\"attributes\":{\"ticks\":[1,2,3,4,5,6,7,8,9,10]},\"id\":\"1217\",\"type\":\"FixedTicker\"},{\"attributes\":{\"callback\":null,\"renderers\":[{\"id\":\"1214\"}],\"tags\":[\"hv_created\"],\"tooltips\":[[\"k\",\"@{k}\"],[\"inertia\",\"@{inertia}\"]]},\"id\":\"1177\",\"type\":\"HoverTool\"},{\"attributes\":{},\"id\":\"1195\",\"type\":\"SaveTool\"},{\"attributes\":{\"line_alpha\":0.1,\"line_color\":\"#30a2da\",\"line_width\":2,\"x\":{\"field\":\"k\"},\"y\":{\"field\":\"inertia\"}},\"id\":\"1212\",\"type\":\"Line\"},{\"attributes\":{},\"id\":\"1196\",\"type\":\"PanTool\"},{\"attributes\":{\"axis_label\":\"inertia\",\"coordinates\":null,\"formatter\":{\"id\":\"1224\"},\"group\":null,\"major_label_policy\":{\"id\":\"1225\"},\"ticker\":{\"id\":\"1192\"}},\"id\":\"1191\",\"type\":\"LinearAxis\"},{\"attributes\":{\"axis_label\":\"k\",\"coordinates\":null,\"formatter\":{\"id\":\"1219\"},\"group\":null,\"major_label_policy\":{\"id\":\"1220\"},\"ticker\":{\"id\":\"1217\"}},\"id\":\"1187\",\"type\":\"LinearAxis\"},{\"attributes\":{},\"id\":\"1197\",\"type\":\"WheelZoomTool\"},{\"attributes\":{},\"id\":\"1209\",\"type\":\"Selection\"},{\"attributes\":{\"end\":3989.74662750146,\"reset_end\":3989.74662750146,\"reset_start\":-242.17456057107432,\"start\":-242.17456057107432,\"tags\":[[[\"inertia\",\"inertia\",null]]]},\"id\":\"1176\",\"type\":\"Range1d\"},{\"attributes\":{\"line_color\":\"#30a2da\",\"line_width\":2,\"x\":{\"field\":\"k\"},\"y\":{\"field\":\"inertia\"}},\"id\":\"1211\",\"type\":\"Line\"},{\"attributes\":{\"overlay\":{\"id\":\"1200\"}},\"id\":\"1198\",\"type\":\"BoxZoomTool\"},{\"attributes\":{\"below\":[{\"id\":\"1187\"}],\"center\":[{\"id\":\"1190\"},{\"id\":\"1194\"}],\"height\":300,\"left\":[{\"id\":\"1191\"}],\"margin\":[5,5,5,5],\"min_border_bottom\":10,\"min_border_left\":10,\"min_border_right\":10,\"min_border_top\":10,\"renderers\":[{\"id\":\"1214\"}],\"sizing_mode\":\"fixed\",\"title\":{\"id\":\"1179\"},\"toolbar\":{\"id\":\"1201\"},\"width\":700,\"x_range\":{\"id\":\"1175\"},\"x_scale\":{\"id\":\"1183\"},\"y_range\":{\"id\":\"1176\"},\"y_scale\":{\"id\":\"1185\"}},\"id\":\"1178\",\"subtype\":\"Figure\",\"type\":\"Plot\"},{\"attributes\":{},\"id\":\"1232\",\"type\":\"UnionRenderers\"},{\"attributes\":{},\"id\":\"1199\",\"type\":\"ResetTool\"},{\"attributes\":{},\"id\":\"1224\",\"type\":\"BasicTickFormatter\"},{\"attributes\":{\"bottom_units\":\"screen\",\"coordinates\":null,\"fill_alpha\":0.5,\"fill_color\":\"lightgrey\",\"group\":null,\"left_units\":\"screen\",\"level\":\"overlay\",\"line_alpha\":1.0,\"line_color\":\"black\",\"line_dash\":[4,4],\"line_width\":2,\"right_units\":\"screen\",\"syncable\":false,\"top_units\":\"screen\"},\"id\":\"1200\",\"type\":\"BoxAnnotation\"},{\"attributes\":{\"children\":[{\"id\":\"1174\"},{\"id\":\"1178\"},{\"id\":\"1244\"}],\"margin\":[0,0,0,0],\"name\":\"Row01915\",\"tags\":[\"embedded\"]},\"id\":\"1173\",\"type\":\"Row\"},{\"attributes\":{},\"id\":\"1185\",\"type\":\"LinearScale\"},{\"attributes\":{},\"id\":\"1183\",\"type\":\"LinearScale\"},{\"attributes\":{\"line_alpha\":0.2,\"line_color\":\"#30a2da\",\"line_width\":2,\"x\":{\"field\":\"k\"},\"y\":{\"field\":\"inertia\"}},\"id\":\"1213\",\"type\":\"Line\"},{\"attributes\":{\"coordinates\":null,\"group\":null,\"text\":\"Elbow Curve\",\"text_color\":\"black\",\"text_font_size\":\"12pt\"},\"id\":\"1179\",\"type\":\"Title\"}],\"root_ids\":[\"1173\"]},\"title\":\"Bokeh Application\",\"version\":\"2.4.2\"}};\n",
       "    var render_items = [{\"docid\":\"e77733c1-c865-4bec-b591-13ff4cc93a7a\",\"root_ids\":[\"1173\"],\"roots\":{\"1173\":\"3b530c72-a65f-47e8-9a10-5561ff97a53c\"}}];\n",
       "    root.Bokeh.embed.embed_items_notebook(docs_json, render_items);\n",
       "  }\n",
       "  if (root.Bokeh !== undefined && root.Bokeh.Panel !== undefined) {\n",
       "    embed_document(root);\n",
       "  } else {\n",
       "    var attempts = 0;\n",
       "    var timer = setInterval(function(root) {\n",
       "      if (root.Bokeh !== undefined && root.Bokeh.Panel !== undefined) {\n",
       "        clearInterval(timer);\n",
       "        embed_document(root);\n",
       "      } else if (document.readyState == \"complete\") {\n",
       "        attempts++;\n",
       "        if (attempts > 200) {\n",
       "          clearInterval(timer);\n",
       "          console.log(\"Bokeh: ERROR: Unable to run BokehJS code because BokehJS library is missing\");\n",
       "        }\n",
       "      }\n",
       "    }, 25, root)\n",
       "  }\n",
       "})(window);</script>"
      ],
      "text/plain": [
       ":Curve   [k]   (inertia)"
      ]
     },
     "execution_count": 115,
     "metadata": {
      "application/vnd.holoviews_exec.v0+json": {
       "id": "1173"
      }
     },
     "output_type": "execute_result"
    }
   ],
   "source": [
    "# Create an elbow curve to find the best value for K.\n",
    "elbow_data ={\"k\":k,\"inertia\":inertia}\n",
    "df_elbow = pd.DataFrame(elbow_data)\n",
    "df_elbow.hvplot.line(x=\"k\",y=\"inertia\",xticks=k,title=\"Elbow Curve\")"
   ]
  },
  {
   "cell_type": "markdown",
   "metadata": {},
   "source": [
    "Running K-Means with `k=4`"
   ]
  },
  {
   "cell_type": "code",
   "execution_count": 116,
   "metadata": {},
   "outputs": [
    {
     "data": {
      "text/plain": [
       "array([1, 1, 1, 0, 0, 0, 1, 0, 0, 0, 1, 0, 1, 1, 0, 1, 0, 0, 1, 1, 0, 0,\n",
       "       0, 0, 0, 1, 0, 0, 0, 1, 0, 1, 0, 0, 1, 1, 0, 0, 0, 0, 0, 0, 1, 1,\n",
       "       0, 0, 0, 0, 0, 1, 1, 0, 1, 0, 0, 0, 0, 1, 0, 0, 1, 0, 1, 1, 1, 0,\n",
       "       0, 0, 1, 1, 1, 1, 1, 0, 0, 0, 1, 1, 0, 1, 0, 1, 1, 0, 0, 0, 0, 1,\n",
       "       1, 0, 1, 0, 0, 1, 1, 0, 1, 1, 0, 0, 1, 1, 0, 1, 1, 0, 1, 0, 1, 0,\n",
       "       1, 0, 1, 1, 0, 0, 1, 0, 0, 0, 1, 0, 0, 0, 0, 0, 1, 1, 0, 0, 0, 1,\n",
       "       0, 1, 0, 0, 1, 0, 1, 0, 1, 1, 0, 0, 1, 0, 0, 1, 1, 0, 1, 0, 1, 1,\n",
       "       1, 0, 0, 0, 0, 1, 1, 1, 1, 1, 0, 0, 1, 1, 1, 1, 1, 0, 1, 1, 1, 1,\n",
       "       1, 0, 1, 0, 1, 1, 0, 1, 0, 1, 1, 0, 1, 0, 1, 0, 1, 0, 1, 1, 1, 1,\n",
       "       0, 1, 1, 1, 1, 1, 0, 0, 1, 1, 0, 0, 1, 1, 1, 1, 1, 0, 1, 1, 1, 1,\n",
       "       1, 1, 1, 1, 0, 1, 1, 1, 1, 1, 1, 0, 0, 0, 1, 1, 1, 1, 0, 1, 0, 1,\n",
       "       1, 0, 1, 0, 0, 1, 0, 0, 1, 0, 1, 1, 1, 0, 1, 1, 0, 1, 1, 1, 1, 1,\n",
       "       1, 1, 0, 1, 0, 1, 1, 1, 1, 0, 1, 0, 1, 0, 0, 0, 0, 1, 0, 1, 1, 0,\n",
       "       1, 0, 0, 0, 1, 0, 1, 0, 0, 0, 1, 0, 1, 0, 1, 1, 2, 0, 1, 0, 0, 0,\n",
       "       0, 0, 1, 1, 0, 1, 1, 1, 0, 1, 0, 1, 0, 1, 0, 1, 1, 1, 1, 0, 1, 1,\n",
       "       0, 1, 1, 1, 0, 0, 0, 0, 1, 1, 1, 1, 0, 1, 0, 0, 0, 1, 1, 0, 0, 1,\n",
       "       1, 0, 1, 0, 0, 0, 1, 0, 0, 1, 1, 1, 0, 0, 0, 1, 1, 1, 0, 0, 1, 0,\n",
       "       0, 0, 0, 1, 2, 2, 0, 0, 0, 1, 2, 1, 1, 1, 1, 0, 0, 0, 0, 1, 1, 1,\n",
       "       0, 1, 0, 1, 1, 1, 1, 0, 1, 1, 0, 1, 1, 0, 0, 1, 0, 1, 0, 0, 0, 0,\n",
       "       1, 1, 0, 1, 0, 1, 1, 1, 1, 1, 1, 0, 0, 0, 1, 1, 1, 1, 1, 1, 0, 1,\n",
       "       0, 0, 0, 0, 1, 1, 1, 1, 0, 1, 1, 0, 1, 1, 0, 2, 0, 1, 0, 0, 1, 1,\n",
       "       0, 1, 0, 0, 0, 0, 0, 1, 0, 1, 0, 1, 1, 0, 1, 1, 1, 1, 1, 0, 0, 0,\n",
       "       1, 1, 1, 0, 1, 0, 1, 0, 1, 1, 1, 1, 0, 1, 1, 1, 0, 1, 0, 1, 0, 1,\n",
       "       1, 1, 0, 0, 1, 1, 1, 1, 1, 1, 0, 1, 0, 1, 0, 1, 1, 2, 1, 3, 1, 1,\n",
       "       1, 0, 0, 1], dtype=int32)"
      ]
     },
     "execution_count": 116,
     "metadata": {},
     "output_type": "execute_result"
    }
   ],
   "source": [
    "# Initialize the K-Means model.\n",
    "model = KMeans(n_clusters=4, random_state=1)\n",
    "\n",
    "# Fit the model\n",
    "model.fit(pcs_df)\n",
    "\n",
    "# Predict clusters\n",
    "predictions = model.predict(pcs_df)\n",
    "\n",
    "#labels\n",
    "labels = model.labels_\n",
    "predictions"
   ]
  },
  {
   "cell_type": "code",
   "execution_count": 117,
   "metadata": {},
   "outputs": [
    {
     "name": "stdout",
     "output_type": "stream",
     "text": [
      "(532, 9)\n"
     ]
    },
    {
     "data": {
      "text/html": [
       "<div>\n",
       "<style scoped>\n",
       "    .dataframe tbody tr th:only-of-type {\n",
       "        vertical-align: middle;\n",
       "    }\n",
       "\n",
       "    .dataframe tbody tr th {\n",
       "        vertical-align: top;\n",
       "    }\n",
       "\n",
       "    .dataframe thead th {\n",
       "        text-align: right;\n",
       "    }\n",
       "</style>\n",
       "<table border=\"1\" class=\"dataframe\">\n",
       "  <thead>\n",
       "    <tr style=\"text-align: right;\">\n",
       "      <th></th>\n",
       "      <th>Algorithm</th>\n",
       "      <th>ProofType</th>\n",
       "      <th>TotalCoinsMined</th>\n",
       "      <th>TotalCoinSupply</th>\n",
       "      <th>PC 1</th>\n",
       "      <th>PC 2</th>\n",
       "      <th>PC 3</th>\n",
       "      <th>CoinName</th>\n",
       "      <th>Class</th>\n",
       "    </tr>\n",
       "  </thead>\n",
       "  <tbody>\n",
       "    <tr>\n",
       "      <th>42</th>\n",
       "      <td>Scrypt</td>\n",
       "      <td>PoW/PoS</td>\n",
       "      <td>4.199995e+01</td>\n",
       "      <td>42</td>\n",
       "      <td>-0.334216</td>\n",
       "      <td>1.059431</td>\n",
       "      <td>-0.611129</td>\n",
       "      <td>42 Coin</td>\n",
       "      <td>1</td>\n",
       "    </tr>\n",
       "    <tr>\n",
       "      <th>404</th>\n",
       "      <td>Scrypt</td>\n",
       "      <td>PoW/PoS</td>\n",
       "      <td>1.055185e+09</td>\n",
       "      <td>532000000</td>\n",
       "      <td>-0.317579</td>\n",
       "      <td>1.060258</td>\n",
       "      <td>-0.611764</td>\n",
       "      <td>404Coin</td>\n",
       "      <td>1</td>\n",
       "    </tr>\n",
       "    <tr>\n",
       "      <th>1337</th>\n",
       "      <td>X13</td>\n",
       "      <td>PoW/PoS</td>\n",
       "      <td>2.927942e+10</td>\n",
       "      <td>314159265359</td>\n",
       "      <td>2.299018</td>\n",
       "      <td>1.740704</td>\n",
       "      <td>-0.746129</td>\n",
       "      <td>EliteCoin</td>\n",
       "      <td>1</td>\n",
       "    </tr>\n",
       "    <tr>\n",
       "      <th>BTC</th>\n",
       "      <td>SHA-256</td>\n",
       "      <td>PoW</td>\n",
       "      <td>1.792718e+07</td>\n",
       "      <td>21000000</td>\n",
       "      <td>-0.141841</td>\n",
       "      <td>-1.332626</td>\n",
       "      <td>0.202796</td>\n",
       "      <td>Bitcoin</td>\n",
       "      <td>0</td>\n",
       "    </tr>\n",
       "    <tr>\n",
       "      <th>ETH</th>\n",
       "      <td>Ethash</td>\n",
       "      <td>PoW</td>\n",
       "      <td>1.076842e+08</td>\n",
       "      <td>0</td>\n",
       "      <td>-0.149732</td>\n",
       "      <td>-1.990729</td>\n",
       "      <td>0.406060</td>\n",
       "      <td>Ethereum</td>\n",
       "      <td>0</td>\n",
       "    </tr>\n",
       "    <tr>\n",
       "      <th>LTC</th>\n",
       "      <td>Scrypt</td>\n",
       "      <td>PoW</td>\n",
       "      <td>6.303924e+07</td>\n",
       "      <td>84000000</td>\n",
       "      <td>-0.164912</td>\n",
       "      <td>-1.058848</td>\n",
       "      <td>-0.008733</td>\n",
       "      <td>Litecoin</td>\n",
       "      <td>0</td>\n",
       "    </tr>\n",
       "    <tr>\n",
       "      <th>DASH</th>\n",
       "      <td>X11</td>\n",
       "      <td>PoW/PoS</td>\n",
       "      <td>9.031294e+06</td>\n",
       "      <td>22000000</td>\n",
       "      <td>-0.398149</td>\n",
       "      <td>1.182077</td>\n",
       "      <td>-0.499508</td>\n",
       "      <td>Dash</td>\n",
       "      <td>1</td>\n",
       "    </tr>\n",
       "    <tr>\n",
       "      <th>XMR</th>\n",
       "      <td>CryptoNight-V7</td>\n",
       "      <td>PoW</td>\n",
       "      <td>1.720114e+07</td>\n",
       "      <td>0</td>\n",
       "      <td>-0.155836</td>\n",
       "      <td>-2.253483</td>\n",
       "      <td>0.502534</td>\n",
       "      <td>Monero</td>\n",
       "      <td>0</td>\n",
       "    </tr>\n",
       "    <tr>\n",
       "      <th>ETC</th>\n",
       "      <td>Ethash</td>\n",
       "      <td>PoW</td>\n",
       "      <td>1.133597e+08</td>\n",
       "      <td>210000000</td>\n",
       "      <td>-0.148178</td>\n",
       "      <td>-1.990762</td>\n",
       "      <td>0.406026</td>\n",
       "      <td>Ethereum Classic</td>\n",
       "      <td>0</td>\n",
       "    </tr>\n",
       "    <tr>\n",
       "      <th>ZEC</th>\n",
       "      <td>Equihash</td>\n",
       "      <td>PoW</td>\n",
       "      <td>7.383056e+06</td>\n",
       "      <td>21000000</td>\n",
       "      <td>-0.156200</td>\n",
       "      <td>-2.110309</td>\n",
       "      <td>0.399649</td>\n",
       "      <td>ZCash</td>\n",
       "      <td>0</td>\n",
       "    </tr>\n",
       "  </tbody>\n",
       "</table>\n",
       "</div>"
      ],
      "text/plain": [
       "           Algorithm ProofType  TotalCoinsMined TotalCoinSupply      PC 1  \\\n",
       "42            Scrypt   PoW/PoS     4.199995e+01              42 -0.334216   \n",
       "404           Scrypt   PoW/PoS     1.055185e+09       532000000 -0.317579   \n",
       "1337             X13   PoW/PoS     2.927942e+10    314159265359  2.299018   \n",
       "BTC          SHA-256       PoW     1.792718e+07        21000000 -0.141841   \n",
       "ETH           Ethash       PoW     1.076842e+08               0 -0.149732   \n",
       "LTC           Scrypt       PoW     6.303924e+07        84000000 -0.164912   \n",
       "DASH             X11   PoW/PoS     9.031294e+06        22000000 -0.398149   \n",
       "XMR   CryptoNight-V7       PoW     1.720114e+07               0 -0.155836   \n",
       "ETC           Ethash       PoW     1.133597e+08       210000000 -0.148178   \n",
       "ZEC         Equihash       PoW     7.383056e+06        21000000 -0.156200   \n",
       "\n",
       "          PC 2      PC 3          CoinName  Class  \n",
       "42    1.059431 -0.611129           42 Coin      1  \n",
       "404   1.060258 -0.611764           404Coin      1  \n",
       "1337  1.740704 -0.746129         EliteCoin      1  \n",
       "BTC  -1.332626  0.202796           Bitcoin      0  \n",
       "ETH  -1.990729  0.406060          Ethereum      0  \n",
       "LTC  -1.058848 -0.008733          Litecoin      0  \n",
       "DASH  1.182077 -0.499508              Dash      1  \n",
       "XMR  -2.253483  0.502534            Monero      0  \n",
       "ETC  -1.990762  0.406026  Ethereum Classic      0  \n",
       "ZEC  -2.110309  0.399649             ZCash      0  "
      ]
     },
     "execution_count": 117,
     "metadata": {},
     "output_type": "execute_result"
    }
   ],
   "source": [
    "# Create a new DataFrame including predicted clusters and cryptocurrencies features.\n",
    "# Concatentate the crypto_df and pcs_df DataFrames on the same columns.\n",
    "clustered_df = pd.concat([crypto_df,pcs_df],axis=1)\n",
    "\n",
    "#  Add a new column, \"CoinName\" to the clustered_df DataFrame that holds the names of the cryptocurrencies. \n",
    "clustered_df[\"CoinName\"] = coin_name_df\n",
    "\n",
    "#  Add a new column, \"Class\" to the clustered_df DataFrame that holds the predictions.\n",
    "clustered_df['Class'] = predictions\n",
    "\n",
    "# Print the shape of the clustered_df\n",
    "print(clustered_df.shape)\n",
    "clustered_df.head(10)"
   ]
  },
  {
   "cell_type": "markdown",
   "metadata": {},
   "source": [
    "### Deliverable 4: Visualizing Cryptocurrencies Results\n",
    "\n",
    "#### 3D-Scatter with Clusters"
   ]
  },
  {
   "cell_type": "code",
   "execution_count": 118,
   "metadata": {},
   "outputs": [
    {
     "data": {
      "application/vnd.plotly.v1+json": {
       "config": {
        "plotlyServerURL": "https://plot.ly"
       },
       "data": [
        {
         "customdata": [
          [
           "Scrypt"
          ],
          [
           "Scrypt"
          ],
          [
           "X13"
          ],
          [
           "X11"
          ],
          [
           "SHA-512"
          ],
          [
           "SHA-256"
          ],
          [
           "SHA-256"
          ],
          [
           "X15"
          ],
          [
           "Scrypt"
          ],
          [
           "Scrypt"
          ],
          [
           "Scrypt"
          ],
          [
           "Scrypt"
          ],
          [
           "Scrypt"
          ],
          [
           "Scrypt"
          ],
          [
           "Groestl"
          ],
          [
           "PoS"
          ],
          [
           "Scrypt"
          ],
          [
           "Scrypt"
          ],
          [
           "X11"
          ],
          [
           "X11"
          ],
          [
           "SHA3"
          ],
          [
           "Scrypt"
          ],
          [
           "SHA-256"
          ],
          [
           "Scrypt"
          ],
          [
           "X13"
          ],
          [
           "X13"
          ],
          [
           "NeoScrypt"
          ],
          [
           "Scrypt"
          ],
          [
           "Scrypt"
          ],
          [
           "Scrypt"
          ],
          [
           "X11"
          ],
          [
           "X11"
          ],
          [
           "Multiple"
          ],
          [
           "PHI1612"
          ],
          [
           "X11"
          ],
          [
           "Scrypt"
          ],
          [
           "Scrypt"
          ],
          [
           "Scrypt"
          ],
          [
           "X11"
          ],
          [
           "Multiple"
          ],
          [
           "X13"
          ],
          [
           "Scrypt"
          ],
          [
           "Shabal256"
          ],
          [
           "Counterparty"
          ],
          [
           "SHA-256"
          ],
          [
           "Groestl"
          ],
          [
           "Scrypt"
          ],
          [
           "X13"
          ],
          [
           "Scrypt"
          ],
          [
           "Scrypt"
          ],
          [
           "X13"
          ],
          [
           "X11"
          ],
          [
           "Scrypt"
          ],
          [
           "X11"
          ],
          [
           "SHA3"
          ],
          [
           "QUAIT"
          ],
          [
           "X11"
          ],
          [
           "Scrypt"
          ],
          [
           "X13"
          ],
          [
           "SHA-256"
          ],
          [
           "X15"
          ],
          [
           "BLAKE256"
          ],
          [
           "SHA-256"
          ],
          [
           "X11"
          ],
          [
           "SHA-256"
          ],
          [
           "NIST5"
          ],
          [
           "Scrypt"
          ],
          [
           "Scrypt"
          ],
          [
           "X11"
          ],
          [
           "Scrypt"
          ],
          [
           "SHA-256"
          ],
          [
           "Scrypt"
          ],
          [
           "PoS"
          ],
          [
           "X11"
          ],
          [
           "SHA-256"
          ],
          [
           "SHA-256"
          ],
          [
           "NIST5"
          ],
          [
           "X11"
          ],
          [
           "POS 3.0"
          ],
          [
           "Scrypt"
          ],
          [
           "Scrypt"
          ],
          [
           "Scrypt"
          ],
          [
           "X13"
          ],
          [
           "X11"
          ],
          [
           "X11"
          ],
          [
           "Scrypt"
          ],
          [
           "SHA-256"
          ],
          [
           "X11"
          ],
          [
           "Scrypt"
          ],
          [
           "Scrypt"
          ],
          [
           "Scrypt"
          ],
          [
           "Scrypt"
          ],
          [
           "SHA-256D"
          ],
          [
           "PoS"
          ],
          [
           "Scrypt"
          ],
          [
           "X11"
          ],
          [
           "PoS"
          ],
          [
           "X13"
          ],
          [
           "X14"
          ],
          [
           "PoS"
          ],
          [
           "SHA-256D"
          ],
          [
           "DPoS"
          ],
          [
           "X11"
          ],
          [
           "X13"
          ],
          [
           "X11"
          ],
          [
           "PoS"
          ],
          [
           "Scrypt"
          ],
          [
           "Scrypt"
          ],
          [
           "PoS"
          ],
          [
           "X11"
          ],
          [
           "SHA-256"
          ],
          [
           "Scrypt"
          ],
          [
           "X11"
          ],
          [
           "Scrypt"
          ],
          [
           "Scrypt"
          ],
          [
           "X11"
          ],
          [
           "Scrypt"
          ],
          [
           "Scrypt"
          ],
          [
           "Scrypt"
          ],
          [
           "Scrypt"
          ],
          [
           "Quark"
          ],
          [
           "QuBit"
          ],
          [
           "Scrypt"
          ],
          [
           "SHA-256"
          ],
          [
           "X11"
          ],
          [
           "Scrypt"
          ],
          [
           "Scrypt"
          ],
          [
           "Scrypt"
          ],
          [
           "Scrypt"
          ],
          [
           "X13"
          ],
          [
           "Scrypt"
          ],
          [
           "Scrypt"
          ],
          [
           "X11"
          ],
          [
           "Blake2S"
          ],
          [
           "X11"
          ],
          [
           "PoS"
          ],
          [
           "X11"
          ],
          [
           "PoS"
          ],
          [
           "X11"
          ],
          [
           "Scrypt"
          ],
          [
           "Scrypt"
          ],
          [
           "Scrypt"
          ],
          [
           "SHA-256"
          ],
          [
           "X11"
          ],
          [
           "Scrypt"
          ],
          [
           "PoS"
          ],
          [
           "Scrypt"
          ],
          [
           "X15"
          ],
          [
           "SHA-256"
          ],
          [
           "POS 3.0"
          ],
          [
           "536"
          ],
          [
           "NIST5"
          ],
          [
           "NIST5"
          ],
          [
           "Skein"
          ],
          [
           "X13"
          ],
          [
           "Scrypt"
          ],
          [
           "X13"
          ],
          [
           "SkunkHash v2 Raptor"
          ],
          [
           "Skein"
          ],
          [
           "X11"
          ],
          [
           "Scrypt"
          ],
          [
           "PoS"
          ],
          [
           "Scrypt"
          ],
          [
           "Scrypt"
          ],
          [
           "SHA-512"
          ],
          [
           "Ouroboros"
          ],
          [
           "X11"
          ],
          [
           "NeoScrypt"
          ],
          [
           "Scrypt"
          ],
          [
           "Lyra2REv2"
          ],
          [
           "Scrypt"
          ],
          [
           "SHA-256"
          ],
          [
           "NIST5"
          ],
          [
           "PHI1612"
          ],
          [
           "Scrypt"
          ],
          [
           "Quark"
          ],
          [
           "POS 2.0"
          ],
          [
           "Scrypt"
          ],
          [
           "SHA-256"
          ],
          [
           "X11"
          ],
          [
           "DPoS"
          ],
          [
           "NIST5"
          ],
          [
           "X13"
          ],
          [
           "Scrypt"
          ],
          [
           "NIST5"
          ],
          [
           "Quark"
          ],
          [
           "Scrypt"
          ],
          [
           "Scrypt"
          ],
          [
           "X11"
          ],
          [
           "Quark"
          ],
          [
           "Scrypt"
          ],
          [
           "Scrypt"
          ],
          [
           "X11"
          ],
          [
           "POS 3.0"
          ],
          [
           "Ethash"
          ],
          [
           "Scrypt"
          ],
          [
           "Scrypt"
          ],
          [
           "X13"
          ],
          [
           "C11"
          ],
          [
           "X11"
          ],
          [
           "XEVAN"
          ],
          [
           "Scrypt"
          ],
          [
           "VBFT"
          ],
          [
           "NIST5"
          ],
          [
           "Scrypt"
          ],
          [
           "Scrypt"
          ],
          [
           "Scrypt"
          ],
          [
           "Green Protocol"
          ],
          [
           "PoS"
          ],
          [
           "Scrypt"
          ],
          [
           "Semux BFT consensus"
          ],
          [
           "Quark"
          ],
          [
           "PoS"
          ],
          [
           "X16R"
          ],
          [
           "Scrypt"
          ],
          [
           "XEVAN"
          ],
          [
           "Scrypt"
          ],
          [
           "Scrypt"
          ],
          [
           "Scrypt"
          ],
          [
           "SHA-256D"
          ],
          [
           "Scrypt"
          ],
          [
           "X15"
          ],
          [
           "Scrypt"
          ],
          [
           "Quark"
          ],
          [
           "SHA-256"
          ],
          [
           "DPoS"
          ],
          [
           "X16R"
          ],
          [
           "Quark"
          ],
          [
           "Quark"
          ],
          [
           "Scrypt"
          ],
          [
           "Lyra2REv2"
          ],
          [
           "Quark"
          ],
          [
           "Scrypt"
          ],
          [
           "X11"
          ],
          [
           "X11"
          ],
          [
           "Scrypt"
          ],
          [
           "PoS"
          ],
          [
           "Keccak"
          ],
          [
           "X11"
          ],
          [
           "Scrypt"
          ],
          [
           "SHA-512"
          ],
          [
           "XEVAN"
          ],
          [
           "XEVAN"
          ],
          [
           "X11"
          ],
          [
           "Quark"
          ],
          [
           "Scrypt"
          ],
          [
           "Quark"
          ],
          [
           "Quark"
          ],
          [
           "Scrypt"
          ],
          [
           "X11"
          ],
          [
           "Scrypt"
          ],
          [
           "XEVAN"
          ],
          [
           "SHA-256D"
          ],
          [
           "X11"
          ],
          [
           "X11"
          ],
          [
           "DPoS"
          ],
          [
           "Scrypt"
          ],
          [
           "X11"
          ],
          [
           "Scrypt"
          ],
          [
           "Scrypt"
          ],
          [
           "SHA-256"
          ],
          [
           "Scrypt"
          ],
          [
           "X11"
          ],
          [
           "Scrypt"
          ],
          [
           "SHA-256"
          ],
          [
           "X11"
          ],
          [
           "Scrypt"
          ],
          [
           "Scrypt"
          ],
          [
           "X11"
          ],
          [
           "Scrypt"
          ],
          [
           "PoS"
          ],
          [
           "X11"
          ],
          [
           "SHA-256"
          ],
          [
           "DPoS"
          ],
          [
           "Scrypt"
          ],
          [
           "Scrypt"
          ],
          [
           "NeoScrypt"
          ],
          [
           "X13"
          ],
          [
           "DPoS"
          ],
          [
           "DPoS"
          ],
          [
           "SHA-256"
          ],
          [
           "PoS"
          ],
          [
           "PoS"
          ],
          [
           "SHA-256"
          ],
          [
           "Scrypt"
          ],
          [
           "Scrypt"
          ]
         ],
         "hovertemplate": "<b>%{hovertext}</b><br><br>Class=%{marker.color}<br>PC 1=%{x}<br>PC 2=%{y}<br>PC 3=%{z}<br>Algorithm=%{customdata[0]}<extra></extra>",
         "hovertext": [
          "42 Coin",
          "404Coin",
          "EliteCoin",
          "Dash",
          "Bitshares",
          "BitcoinDark",
          "PayCoin",
          "KoboCoin",
          "Aurora Coin",
          "BlueCoin",
          "EnergyCoin",
          "BitBar",
          "CryptoBullion",
          "CasinoCoin",
          "Diamond",
          "Exclusive Coin",
          "FlutterCoin",
          "HoboNickels",
          "HyperStake",
          "IOCoin",
          "MaxCoin",
          "MintCoin",
          "MazaCoin",
          "Nautilus Coin",
          "NavCoin",
          "OpalCoin",
          "Orbitcoin",
          "PotCoin",
          "PhoenixCoin",
          "Reddcoin",
          "SuperCoin",
          "SyncCoin",
          "TeslaCoin",
          "TittieCoin",
          "TorCoin",
          "UnitaryStatus Dollar",
          "UltraCoin",
          "VeriCoin",
          "X11 Coin",
          "Crypti",
          "StealthCoin",
          "ZCC Coin",
          "BurstCoin",
          "StorjCoin",
          "Neutron",
          "FairCoin",
          "RubyCoin",
          "Kore",
          "Dnotes",
          "8BIT Coin",
          "Sativa Coin",
          "Ucoin",
          "Vtorrent",
          "IslaCoin",
          "Nexus",
          "Droidz",
          "Squall Coin",
          "Diggits",
          "Paycon",
          "Emercoin",
          "EverGreenCoin",
          "Decred",
          "EDRCoin",
          "Hitcoin",
          "DubaiCoin",
          "PWR Coin",
          "BillaryCoin",
          "GPU Coin",
          "EuropeCoin",
          "ZeitCoin",
          "SwingCoin",
          "SafeExchangeCoin",
          "Nebuchadnezzar",
          "Ratecoin",
          "Revenu",
          "Clockcoin",
          "VIP Tokens",
          "BitSend",
          "Let it Ride",
          "PutinCoin",
          "iBankCoin",
          "Frankywillcoin",
          "MudraCoin",
          "Lutetium Coin",
          "GoldBlocks",
          "CarterCoin",
          "BitTokens",
          "MustangCoin",
          "ZoneCoin",
          "RootCoin",
          "BitCurrency",
          "Swiscoin",
          "BuzzCoin",
          "Opair",
          "PesoBit",
          "Halloween Coin",
          "CoffeeCoin",
          "RoyalCoin",
          "GanjaCoin V2",
          "TeamUP",
          "LanaCoin",
          "ARK",
          "InsaneCoin",
          "EmberCoin",
          "XenixCoin",
          "FreeCoin",
          "PLNCoin",
          "AquariusCoin",
          "Creatio",
          "Eternity",
          "Eurocoin",
          "BitcoinFast",
          "Stakenet",
          "BitConnect Coin",
          "MoneyCoin",
          "Enigma",
          "Russiacoin",
          "PandaCoin",
          "GameUnits",
          "GAKHcoin",
          "Allsafe",
          "LiteCreed",
          "Klingon Empire Darsek",
          "Internet of People",
          "KushCoin",
          "Printerium",
          "Impeach",
          "Zilbercoin",
          "FirstCoin",
          "FindCoin",
          "OpenChat",
          "RenosCoin",
          "VirtacoinPlus",
          "TajCoin",
          "Impact",
          "Atmos",
          "HappyCoin",
          "MacronCoin",
          "Condensate",
          "Independent Money System",
          "ArgusCoin",
          "LomoCoin",
          "ProCurrency",
          "GoldReserve",
          "GrowthCoin",
          "Phreak",
          "Degas Coin",
          "HTML5 Coin",
          "Ultimate Secure Cash",
          "QTUM",
          "Espers",
          "Denarius",
          "Virta Unique Coin",
          "Bitcoin Planet",
          "BritCoin",
          "Linda",
          "DeepOnion",
          "Signatum",
          "Cream",
          "Monoeci",
          "Draftcoin",
          "Stakecoin",
          "CoinonatX",
          "Ethereum Dark",
          "Obsidian",
          "Cardano",
          "Regalcoin",
          "TrezarCoin",
          "TerraNovaCoin",
          "Rupee",
          "WomenCoin",
          "Theresa May Coin",
          "NamoCoin",
          "LUXCoin",
          "Xios",
          "Bitcloud 2.0",
          "KekCoin",
          "BlackholeCoin",
          "Infinity Economics",
          "Magnet",
          "Lamden Tau",
          "Electra",
          "Bitcoin Diamond",
          "Cash & Back Coin",
          "Bulwark",
          "Kalkulus",
          "GermanCoin",
          "LiteCoin Ultra",
          "PhantomX",
          "Digiwage",
          "Trollcoin",
          "Litecoin Plus",
          "Monkey Project",
          "TokenPay",
          "1717 Masonic Commemorative Token",
          "My Big Coin",
          "Unified Society USDEX",
          "Tokyo Coin",
          "Stipend",
          "Pushi",
          "Ellerium",
          "Velox",
          "Ontology",
          "Bitspace",
          "Briacoin",
          "Ignition",
          "MedicCoin",
          "Bitcoin Green",
          "Deviant Coin",
          "Abjcoin",
          "Semux",
          "Carebit",
          "Zealium",
          "Proton",
          "iDealCash",
          "Bitcoin Incognito",
          "HollyWoodCoin",
          "Swisscoin",
          "Xt3ch",
          "TheVig",
          "EmaratCoin",
          "Dekado",
          "Lynx",
          "Poseidon Quark",
          "BitcoinWSpectrum",
          "Muse",
          "Trivechain",
          "Dystem",
          "Giant",
          "Peony Coin",
          "Absolute Coin",
          "Vitae",
          "TPCash",
          "ARENON",
          "EUNO",
          "MMOCoin",
          "Ketan",
          "XDNA",
          "PAXEX",
          "ThunderStake",
          "Kcash",
          "Bettex coin",
          "BitMoney",
          "Junson Ming Chan Coin",
          "HerbCoin",
          "Oduwa",
          "Galilel",
          "Crypto Sports",
          "Credit",
          "Dash Platinum",
          "Nasdacoin",
          "Beetle Coin",
          "Titan Coin",
          "Award",
          "Insane Coin",
          "ALAX",
          "LiteDoge",
          "TruckCoin",
          "OrangeCoin",
          "BitstarCoin",
          "NeosCoin",
          "HyperCoin",
          "PinkCoin",
          "AudioCoin",
          "IncaKoin",
          "Piggy Coin",
          "Genstake",
          "XiaoMiCoin",
          "CapriCoin",
          " ClubCoin",
          "Radium",
          "Creditbit ",
          "OKCash",
          "Lisk",
          "HiCoin",
          "WhiteCoin",
          "FriendshipCoin",
          "Triangles Coin",
          "EOS",
          "Oxycoin",
          "TigerCash",
          "Particl",
          "Nxt",
          "ZEPHYR",
          "Gapcoin",
          "BitcoinPlus"
         ],
         "legendgroup": "1",
         "marker": {
          "color": [
           1,
           1,
           1,
           1,
           1,
           1,
           1,
           1,
           1,
           1,
           1,
           1,
           1,
           1,
           1,
           1,
           1,
           1,
           1,
           1,
           1,
           1,
           1,
           1,
           1,
           1,
           1,
           1,
           1,
           1,
           1,
           1,
           1,
           1,
           1,
           1,
           1,
           1,
           1,
           1,
           1,
           1,
           1,
           1,
           1,
           1,
           1,
           1,
           1,
           1,
           1,
           1,
           1,
           1,
           1,
           1,
           1,
           1,
           1,
           1,
           1,
           1,
           1,
           1,
           1,
           1,
           1,
           1,
           1,
           1,
           1,
           1,
           1,
           1,
           1,
           1,
           1,
           1,
           1,
           1,
           1,
           1,
           1,
           1,
           1,
           1,
           1,
           1,
           1,
           1,
           1,
           1,
           1,
           1,
           1,
           1,
           1,
           1,
           1,
           1,
           1,
           1,
           1,
           1,
           1,
           1,
           1,
           1,
           1,
           1,
           1,
           1,
           1,
           1,
           1,
           1,
           1,
           1,
           1,
           1,
           1,
           1,
           1,
           1,
           1,
           1,
           1,
           1,
           1,
           1,
           1,
           1,
           1,
           1,
           1,
           1,
           1,
           1,
           1,
           1,
           1,
           1,
           1,
           1,
           1,
           1,
           1,
           1,
           1,
           1,
           1,
           1,
           1,
           1,
           1,
           1,
           1,
           1,
           1,
           1,
           1,
           1,
           1,
           1,
           1,
           1,
           1,
           1,
           1,
           1,
           1,
           1,
           1,
           1,
           1,
           1,
           1,
           1,
           1,
           1,
           1,
           1,
           1,
           1,
           1,
           1,
           1,
           1,
           1,
           1,
           1,
           1,
           1,
           1,
           1,
           1,
           1,
           1,
           1,
           1,
           1,
           1,
           1,
           1,
           1,
           1,
           1,
           1,
           1,
           1,
           1,
           1,
           1,
           1,
           1,
           1,
           1,
           1,
           1,
           1,
           1,
           1,
           1,
           1,
           1,
           1,
           1,
           1,
           1,
           1,
           1,
           1,
           1,
           1,
           1,
           1,
           1,
           1,
           1,
           1,
           1,
           1,
           1,
           1,
           1,
           1,
           1,
           1,
           1,
           1,
           1,
           1,
           1,
           1,
           1,
           1,
           1,
           1,
           1,
           1,
           1,
           1,
           1,
           1,
           1,
           1,
           1,
           1,
           1,
           1,
           1,
           1,
           1,
           1,
           1,
           1,
           1,
           1,
           1,
           1,
           1,
           1,
           1,
           1,
           1,
           1
          ],
          "coloraxis": "coloraxis",
          "symbol": "circle"
         },
         "mode": "markers",
         "name": "1",
         "scene": "scene",
         "showlegend": true,
         "type": "scatter3d",
         "x": [
          -0.33421645014544415,
          -0.3175792515921986,
          2.299018050368401,
          -0.3981489621042383,
          -0.31271744313857724,
          -0.3099778697267365,
          -0.2579869756290207,
          -0.24183173726595913,
          -0.33387657200653953,
          -0.32646392745917674,
          -0.33271501662552877,
          -0.3342123944700751,
          -0.33419669917293715,
          0.6417472771956145,
          -0.3784940685041358,
          -0.3312323949848476,
          -0.2712514800706403,
          -0.33227846691796836,
          -0.32600842977139044,
          -0.39804379797134387,
          -0.41366312618263557,
          -0.022491295298211336,
          -0.2733461473524265,
          -0.2819771169014535,
          -0.2797582733955706,
          -0.28037965653135594,
          -0.35465701859284776,
          -0.3285285924464191,
          -0.3326208564710192,
          0.023449704301305593,
          -0.3458686429341966,
          -0.3984147550980792,
          -0.2407024945057447,
          -0.3090801025260653,
          -0.398326567322957,
          -0.3094902472609227,
          -0.33289615521778104,
          -0.2725361870326007,
          -0.39829106563448596,
          -0.24116905957054738,
          -0.2801608107919395,
          -0.32533690469470183,
          -0.06372495437956939,
          -0.3339569699797191,
          -0.309190884987236,
          -0.37791637493359226,
          -0.28195731307541694,
          -0.2804550095777464,
          -0.27662120790189093,
          -0.3341985424818409,
          -0.28040724743102935,
          -0.3463130076268723,
          -0.3339333872516335,
          -0.39839630850498214,
          -0.4064541942928545,
          -0.4210671200490519,
          -0.36888681635894355,
          -0.2803615251913269,
          -0.27992974086997957,
          -0.30254988545155603,
          -0.24426815263757728,
          -0.08966714165643792,
          -0.30994882228405707,
          -0.07643934649425706,
          -0.3100123685546024,
          -0.23801780335628825,
          -0.33380955400104967,
          -0.2802314139356523,
          -0.3955713924528929,
          0.8691049327557437,
          -0.30981286003603314,
          -0.08784242533406778,
          -0.3309161997869466,
          -0.3962425829750429,
          -0.30855908317271935,
          -0.30623208527654494,
          -0.3592158586531117,
          -0.397133949094579,
          -0.3440928801940434,
          -0.3101483073192479,
          -0.3338476140338463,
          -0.33228899723255984,
          -0.22716130108069196,
          -0.3338239335346273,
          -0.39787118949201267,
          -0.3330531494430769,
          -0.3099934039767753,
          -0.3983855310542944,
          -0.3340363958396941,
          -0.33419278323480733,
          -0.28021978187001134,
          -0.2230970498430275,
          0.02450819668797485,
          -0.3298749623152219,
          -0.33380745231360753,
          -0.38457457766093844,
          -0.32920430439835124,
          -0.22858891179587895,
          -0.41516870000375977,
          -0.3289550237384017,
          -0.28953101566667666,
          3.7600336102879477,
          -0.3979787645528716,
          0.8502518095394299,
          -0.39834050544171296,
          -0.3303379636702231,
          -0.33373531705019543,
          -0.3338894574512391,
          -0.3309161997869466,
          -0.3979162864855765,
          -0.30985625368829633,
          -0.33373602120278156,
          -0.38033530531505627,
          -0.33388318847007464,
          -0.32948053215574125,
          -0.3983694671777478,
          -0.3330955826554825,
          0.3602600846419864,
          -0.3340821168547916,
          -0.3341525406564651,
          -0.3511831023432351,
          -0.3524750411778739,
          -0.33038706844599947,
          -0.3099698489839286,
          -0.39827956237438317,
          -0.33393073965824943,
          -0.33405753496703944,
          -0.28186425231798373,
          -0.26522618528025954,
          -0.22835714073840346,
          -0.314941913730842,
          -0.28160561255034755,
          -0.3975467853637895,
          -0.41938812222828376,
          -0.3962868863565576,
          -0.3291655819302662,
          -0.39744480614490035,
          -0.3235745337623649,
          -0.3933933989424078,
          -0.33400089279496237,
          -0.3340001248410802,
          -0.32713636728231854,
          0.27355371830417274,
          -0.3979223168258861,
          -0.2645401959782444,
          -0.33095050396444053,
          -0.3332130939485304,
          0.8881018032014022,
          -0.25668016613495886,
          -0.34287322195324227,
          0.5690359002794286,
          -0.36074902528794356,
          -0.35925385211093397,
          -0.4196539905864354,
          -0.2800928705670695,
          0.12983588567913731,
          -0.2801634873463016,
          -0.32067162942644867,
          -0.41915953336736345,
          -0.3981941702907687,
          -0.28193814736450235,
          -0.3308171311865278,
          -0.3336367233129833,
          -0.33413549789863145,
          -0.37068499371195046,
          0.6619953133427575,
          -0.3981351736533846,
          -0.3496650978238978,
          -0.334091236020815,
          -0.3242504322288033,
          0.4338655361089834,
          -0.30831875311173074,
          -0.3455426964778166,
          -0.3965452439890279,
          -0.3340416699195042,
          -0.40155551218332797,
          -0.3249102310716338,
          -0.33391220682521666,
          -0.0847509152552449,
          -0.3969300789106842,
          3.764881093187326,
          0.19783420437293456,
          -0.27683981930710005,
          -0.33137693385668754,
          -0.30858549995254086,
          -0.3510691853563262,
          0.0794057422471224,
          -0.3330526320743917,
          -0.3975099269314491,
          -0.3502355855238033,
          -0.32063906104802936,
          -0.33415759890235613,
          -0.3462849799243095,
          -0.3443743752565431,
          -0.26702810849952174,
          -0.28316075211656266,
          -0.3297100323000894,
          -0.22016813938130683,
          -0.3794168801757022,
          -0.39821147825599673,
          -0.33008535805981637,
          -0.28109983665102434,
          -0.3112749307130839,
          -0.36034873966017955,
          -0.33418491175512305,
          -0.334166658110584,
          -0.2754908075278154,
          -0.3567464633546038,
          -0.3304122735171224,
          -0.3338836838520621,
          3.96855103189169,
          -0.40022530963957764,
          -0.33060064762604546,
          -0.3107605478758516,
          -0.28085235354918203,
          -0.3007093684642375,
          -0.281632810833029,
          -0.13761617126883668,
          -0.2818846334184288,
          -0.35471839593180254,
          -0.33335871244339504,
          -0.19168565002002483,
          2.249843094553361,
          -0.3467863056026278,
          -0.2568071707474436,
          1.0440723465803212,
          -0.36202566242508716,
          -0.3511825719874708,
          -0.403236347645839,
          -0.1628674260646342,
          -0.37610644371227203,
          -0.3499042425175109,
          -0.32707653817600346,
          -0.34586313671084606,
          -0.397685652583496,
          -0.27913496435956225,
          -0.3297023578472094,
          -0.36130742544666294,
          -0.34572494706071044,
          -0.19395272301768962,
          -0.44907719617910713,
          -0.278150931142128,
          0.47244654115676343,
          -0.13651670366093002,
          -0.4025321834615287,
          -0.33388760301682807,
          -0.402987503194101,
          -0.35129935115669836,
          0.5710082412001122,
          -0.3463392155764358,
          -0.3333715573263669,
          -0.3245507652187076,
          -0.3095252988624783,
          -0.39525556810436485,
          -0.39791247714652705,
          3.7771037742374274,
          0.10027187431888995,
          -0.3954552381039572,
          -0.3327584990868508,
          -0.33358159898378204,
          -0.2580196085159434,
          -0.33409894498102494,
          -0.38955402895043684,
          -0.24797414528863113,
          -0.0899305842643298,
          -0.3853107832863129,
          -0.33337830797433327,
          -0.3264539726730792,
          -0.3944866316699034,
          -0.3318203693336794,
          -0.3311914033665071,
          -0.3953779508142297,
          -0.30849536458499754,
          3.760424711693699,
          -0.08947811833369738,
          -0.3290196484852655,
          -0.3542836830362802,
          -0.2805620061256496,
          3.7702804454013075,
          3.7715229224775833,
          -0.2389472129262874,
          -0.3311273533489863,
          -0.3092026107965161,
          2.4944341133650227,
          -0.3322657880737139,
          -0.28228033926991775
         ],
         "y": [
          1.0594305024188215,
          1.0602580016676804,
          1.740703921067393,
          1.1820774060216024,
          2.2284003754358426,
          0.7856778794496506,
          0.5857307174783568,
          1.8111701777706057,
          1.0594433433834205,
          1.0599868346825758,
          1.0595382474875692,
          1.0594304491183826,
          1.0594312310651066,
          0.7987760291061963,
          0.8565504162765509,
          1.4394795784076442,
          0.4408897087276775,
          1.059486926008676,
          0.9835848204800886,
          1.1820849527517954,
          1.7080358579132116,
          0.8781157034543781,
          0.7866555749364523,
          0.8594834819604906,
          1.772021562914817,
          1.771976971562736,
          0.543602948899,
          1.0595494001290515,
          1.0594775079408436,
          1.0850971427247136,
          0.9821596228740633,
          1.1820734839448384,
          0.10030510547836755,
          1.4417811028931764,
          1.1820729257060567,
          1.0601029049507102,
          1.0594563746228611,
          0.44132402304969165,
          1.1820785726929286,
          0.10034049819233998,
          1.771992676249355,
          1.0593789704905712,
          1.5025922008005062,
          1.429821885804469,
          0.7857026725273644,
          0.8565948890877432,
          0.8594960469406467,
          1.7719632992275007,
          0.8595346030742579,
          1.0594317875275696,
          1.7719681041901427,
          0.9821139598018584,
          1.0594370406306959,
          1.1820748083877661,
          1.5390375742780258,
          1.918724925335142,
          0.7905551304573488,
          0.8595416888885647,
          1.7719748211122446,
          0.7855373336656234,
          1.8112182839125315,
          0.8488600166776152,
          0.7856799639361277,
          1.1868928325147183,
          0.7856833242851025,
          1.4229808230730983,
          1.0594307747823233,
          0.8594676519525943,
          1.1820130519129812,
          0.8739125811469898,
          0.7856773234460436,
          0.7724901963856402,
          1.4394884942126338,
          1.1821777072720616,
          0.7856414460915688,
          0.7856002456463005,
          1.414221488736179,
          1.182069662128399,
          1.4775424462576519,
          1.0597801852197362,
          1.059426436477306,
          1.059499945157574,
          1.5719736027583022,
          0.9825714658116971,
          1.1820780546384972,
          1.0594519959000546,
          0.7856774534303868,
          1.182073515570283,
          1.0594289598445352,
          1.0594322008194623,
          0.8596207346916814,
          0.5343507328480054,
          1.7828451396320952,
          1.4395260229061557,
          1.0594598527233927,
          1.1820335643113362,
          1.4395975675511516,
          1.572007181606775,
          1.8771538560994043,
          1.4394356948269948,
          1.7689143615246583,
          0.8870155157074494,
          1.182084109716118,
          1.8525272901539556,
          1.1820761589522129,
          1.4395093270430115,
          1.0594384851770042,
          1.059425040795231,
          1.4394884942126338,
          1.1820679310033009,
          0.7856879842743245,
          1.059442250270997,
          0.6107382089384092,
          1.0594351330400282,
          1.0593222226811851,
          1.182073290855336,
          1.0594117588187537,
          0.88318814021613,
          1.059431188766197,
          1.0594328049653094,
          1.498777974982796,
          0.6927874492160295,
          1.0593609339267693,
          0.7856791437707241,
          1.182076743775785,
          1.0594372306258244,
          1.0594268000455185,
          0.8594648443615133,
          0.5308043420130135,
          1.5720155319103744,
          1.060124930068895,
          0.8594975745906006,
          1.1820668972989508,
          1.7440823183669847,
          1.1821504220632433,
          1.4395519346374073,
          1.1820742154751174,
          1.4397536212090831,
          1.1820894539226756,
          1.0594313614979232,
          1.0594263282724197,
          1.0592498384540228,
          0.5722278822114844,
          1.1820812730768582,
          0.8593684424917573,
          1.4394791450855202,
          1.059430186936509,
          1.8305102136510798,
          0.5856952990919824,
          1.4775841694212983,
          1.9092084587923939,
          1.4141665657601357,
          1.4141981000414796,
          1.8750503052522036,
          1.7719768895088612,
          1.0582945201507326,
          1.7719794682197807,
          1.7371824134374259,
          1.8750857882170209,
          1.1820827660711284,
          0.8594854341492973,
          1.4394669519181669,
          1.0594388713537644,
          1.0594334189859023,
          2.2266574573357163,
          1.5275747105325006,
          1.1820749517958884,
          0.5436882765131467,
          1.0594286518032252,
          0.6300334747567901,
          1.0973306517332895,
          0.785743218260291,
          1.4144381921374765,
          1.6407319044155628,
          1.059428581368944,
          1.698720407682986,
          1.6426974148603992,
          1.0594421500965876,
          0.5919723280859543,
          1.182080848442632,
          0.8871051002221747,
          1.4335959639618447,
          1.7720863597943508,
          1.0594896346366585,
          1.2142130471983026,
          1.4987827061255783,
          1.054675580157409,
          1.0594107085686923,
          1.1821039793620767,
          1.4987736523571142,
          1.059784968639228,
          1.0594319707341215,
          0.9821152823693349,
          1.4775281000633291,
          -0.072462008505589,
          0.43107109896236634,
          1.059594101600549,
          1.572062197566134,
          0.6605061057678308,
          1.1820708535492503,
          1.3092513279777984,
          0.8594721768075362,
          1.4839234044929681,
          1.4141677411964368,
          1.0594306994652987,
          1.0594306318912685,
          0.859615722239182,
          1.3212493847728286,
          1.439477822303935,
          1.0594337200087518,
          0.7467023464033588,
          1.6988158649404348,
          1.4394698142333684,
          0.7754386227633632,
          1.0597322894853443,
          0.9177489306093904,
          0.8595014264253092,
          1.0665136647179523,
          0.8594709579350059,
          1.7693372365426987,
          1.0594342007032853,
          1.6112631594070006,
          0.5767450200174996,
          1.4986561449538223,
          0.5857549365555365,
          1.129113755297638,
          0.9754185509063974,
          1.4987738805960436,
          1.6987339889906141,
          0.8564161617318097,
          0.8299772300209449,
          1.4988112048297233,
          1.0592541318771795,
          0.9821221372549976,
          1.1820913690352606,
          0.8595195101109749,
          1.4394447404797233,
          0.9667587222629411,
          0.9821010606001898,
          1.0570986927223556,
          3.569722614090595,
          1.109300458210525,
          0.6392446690248331,
          0.9971830206706059,
          1.6987508765225272,
          1.059439637432595,
          1.6987422832604486,
          1.4987707554476841,
          1.072872909956846,
          0.9821122857038044,
          1.0594332789359153,
          1.3093454523318508,
          1.7692055277420569,
          1.1820109212496879,
          1.1820888665962204,
          0.887637846995764,
          1.0665040785801871,
          1.1822858638512868,
          1.059397378928331,
          1.0594386918725414,
          0.5857225213969323,
          1.0594389347882038,
          1.1823649726634036,
          1.058387594678938,
          0.8013530822659066,
          1.182325103618808,
          1.0594803176269183,
          1.059712052662504,
          1.1822121143264344,
          1.0594922501145483,
          1.4394763213566593,
          0.5813827197910139,
          0.78572710066079,
          0.8870195319768398,
          0.8664151369870873,
          1.0595968101548179,
          0.5435908962848612,
          1.7719638032433325,
          0.887836936029619,
          0.8879260979807081,
          0.5864169066607468,
          1.4394811696612793,
          1.1479901912172708,
          0.34495365390997607,
          1.0593982995341467,
          0.8594721773729953
         ],
         "z": [
          -0.6111290353441843,
          -0.6117644774065566,
          -0.7461289645496458,
          -0.4995078171612714,
          -0.2903768619983641,
          -0.3996370690683114,
          -0.09026204080000862,
          -0.6969368344131504,
          -0.6111410885423167,
          -0.6114641296989688,
          -0.6111939331791567,
          -0.611129132003761,
          -0.6111297317667017,
          -0.3842255798507628,
          -0.355790305992379,
          -0.12995634095457384,
          -0.46407774242653,
          -0.6111939267612945,
          -0.19100570128590671,
          -0.4995123627663567,
          -0.6718482145408249,
          -0.31297924323659926,
          -0.40084335973125035,
          -0.3017607061720244,
          -0.6840809048797816,
          -0.684054046270619,
          -0.2981380435544546,
          -0.611308821491955,
          -0.6111825879097962,
          -0.6265887652657514,
          -0.1901472652059663,
          -0.49949978895530645,
          0.0896003752784467,
          -0.21034613703033672,
          -0.4995020279495009,
          -0.6119461211567723,
          -0.6111703738246305,
          -0.380377628141348,
          -0.4995042703139409,
          0.0896048122089437,
          -0.6840635056393133,
          -0.611355545668352,
          -0.2291426665189495,
          -0.07937787428488617,
          -0.3996638499017536,
          -0.355815965134501,
          -0.3017641072583281,
          -0.6840489016369288,
          -0.3019161054107912,
          -0.6111298093900442,
          -0.6840512807004167,
          -0.19012491205894025,
          -0.611138124468794,
          -0.49950058644649736,
          -0.5189547565963692,
          -0.7697136344994763,
          -0.1582391191284205,
          -0.30181735361510964,
          -0.6840656284668858,
          -0.3998042977992269,
          -0.6968824408070886,
          -0.3758877254598731,
          -0.39963832461237947,
          -0.5092405539077364,
          -0.399637386825219,
          -0.6189261724786331,
          -0.6111400164621944,
          -0.3018039361516833,
          -0.4995622877946453,
          -0.3359449811343542,
          -0.39964137006192973,
          -0.3586439985289361,
          -0.12996686218032852,
          -0.4995818815092991,
          -0.3996668208579054,
          -0.39971985544478245,
          -0.6136733617086777,
          -0.499533286084597,
          -0.0071254829160459845,
          -0.611854757882814,
          -0.6111380043292776,
          -0.6111966175671554,
          -0.3746991196753813,
          -0.19056453962549613,
          -0.4995154192257165,
          -0.6111651609038775,
          -0.3996365549156368,
          -0.4995005803949773,
          -0.6111335147364216,
          -0.6111300583272237,
          -0.3018392101519635,
          -0.47908905002001395,
          -0.6803346731921041,
          -0.13000337442426468,
          -0.6111467138365457,
          -0.4998620681631226,
          -0.130037711042514,
          -0.3746684791643106,
          -0.8235784965985066,
          -0.1300074310389869,
          -0.6687259560595503,
          -0.039702691231209446,
          -0.49951391537813283,
          -0.7327906561704077,
          -0.4995023923511301,
          -0.1299871368557348,
          -0.6111437695258599,
          -0.6111365627226,
          -0.12996686218032852,
          -0.4995118969736755,
          -0.3996426403858188,
          -0.6111446105225566,
          -0.12840403322422214,
          -0.6111390358695485,
          -0.6112313925210878,
          -0.4995009601418186,
          -0.6111548326629502,
          -0.3244087115314871,
          -0.6111327968822441,
          -0.6111312762006574,
          -0.19780960876104478,
          -0.3824435938467032,
          -0.611215907022384,
          -0.39963757305454406,
          -0.49950416130194136,
          -0.6111382389081339,
          -0.6111324542089174,
          -0.3017594782982895,
          -0.43553464322835284,
          -0.374676605745863,
          -0.6118048578293481,
          -0.30177389391046666,
          -0.49952157632268457,
          -0.7173357743813167,
          -0.4995744611012263,
          -0.13002832825639243,
          -0.4995259842633333,
          -0.13022442431932246,
          -0.49963818258163173,
          -0.6111350159505703,
          -0.6111338870432759,
          -0.6112777658581829,
          -0.1014418973650073,
          -0.4995147822860229,
          -0.30220234644827315,
          -0.12996380643600486,
          -0.6111558880014304,
          -0.7316751826996745,
          -0.09028901952947842,
          -0.007167740973844383,
          -0.7366338645525674,
          -0.6136196761199427,
          -0.6136670005319927,
          -0.7599236279789691,
          -0.6840617233306673,
          -0.623322273971314,
          -0.6840604172942106,
          -0.30534301034418854,
          -0.7599450003536442,
          -0.49950782817245976,
          -0.3017621977571314,
          -0.1299646007063138,
          -0.61114650345106,
          -0.6111318737703582,
          -0.28842326628020737,
          -0.21889418308397018,
          -0.49950762666022763,
          -0.29829148756197255,
          -0.6111319727674227,
          0.028100268071926147,
          -0.6403960834754068,
          -0.3996965133044646,
          -0.6140897680675867,
          -0.5185416722640559,
          -0.6111332867700673,
          -0.507226988385826,
          -0.11031274766587953,
          -0.6111398597653029,
          -0.09633626177323797,
          -0.4995413116594074,
          -0.03985323151337724,
          -0.6330464498748501,
          -0.6841740192226355,
          -0.6112187376932415,
          -0.30424782859758753,
          -0.19781374620690304,
          -0.6211424859557617,
          -0.6111557453648596,
          -0.4995310344063682,
          -0.19783404781541813,
          -0.6115743346787414,
          -0.6111309499382193,
          -0.19012596622749053,
          -0.007114652634682392,
          0.11305349612932732,
          -0.3710936246935803,
          -0.6112873271332827,
          -0.37490701245492586,
          -0.30242258674932443,
          -0.4995046430736229,
          -0.40256060713443204,
          -0.3017816657458313,
          -0.07018436528757858,
          -0.6136306860956882,
          -0.6111299266682726,
          -0.6111304010654498,
          -0.3019649657355991,
          0.07035015466448988,
          -0.12997794755579614,
          -0.6111386998604788,
          -0.007934876158716193,
          -0.5072844849417703,
          -0.12997106367703223,
          -0.08123907826738103,
          -0.612629965759083,
          -0.06129950395015426,
          -0.30177404375686,
          -0.6180224249539806,
          -0.3017603276294055,
          -0.6670732542256101,
          -0.6111528970662146,
          -0.3875214696179178,
          -0.615222055251996,
          -0.1978997710508369,
          -0.09029923172975009,
          -0.06481475991924433,
          -0.39064106588748976,
          -0.1978086878949235,
          -0.5071849855324412,
          -0.3042564415486384,
          -0.28127760168157145,
          -0.1978515157231673,
          -0.6112803519061308,
          -0.1901388517965667,
          -0.4995234388564791,
          -0.3018452026330432,
          -0.12998944248715075,
          -0.42136057350233397,
          -0.19013774646737483,
          -0.6143604116498226,
          -0.5136327052495498,
          -0.09318321678296379,
          0.16298749894335146,
          -0.19919627473090767,
          -0.5072077383945701,
          -0.6111399461441077,
          -0.5071935574751995,
          -0.19780484042904456,
          -0.6384904690873288,
          -0.19012382643837722,
          -0.6111523418601404,
          -0.4027306226018268,
          -0.6682559146434727,
          -0.4995702762170487,
          -0.49951678057906407,
          -0.04030289440645767,
          -0.6244038772137184,
          -0.49962771101083037,
          -0.6111605940247461,
          -0.6111479417020588,
          -0.09025929324294263,
          -0.6111341143835239,
          -0.4998041351672528,
          -0.6132051322329599,
          -0.4091219471568763,
          -0.49990889565789,
          -0.6111629036577092,
          -0.6114016406389824,
          -0.49963685990954365,
          -0.6112074355958855,
          -0.12995669708736654,
          -0.10419548175788954,
          -0.3996880929741082,
          -0.03971410355632001,
          -0.3085094373304171,
          -0.6113064719330218,
          -0.2981453092413831,
          -0.6840461455322384,
          -0.04016526181219772,
          -0.04021896653037144,
          -0.09092968167013542,
          -0.12995952312878148,
          -0.04100023098208351,
          -0.06643009590619676,
          -0.6111740260034751,
          -0.3017499875045858
         ]
        },
        {
         "customdata": [
          [
           "SHA-256"
          ],
          [
           "Ethash"
          ],
          [
           "Scrypt"
          ],
          [
           "CryptoNight-V7"
          ],
          [
           "Ethash"
          ],
          [
           "Equihash"
          ],
          [
           "Multiple"
          ],
          [
           "Scrypt"
          ],
          [
           "X11"
          ],
          [
           "Scrypt"
          ],
          [
           "Multiple"
          ],
          [
           "Scrypt"
          ],
          [
           "SHA-256"
          ],
          [
           "Scrypt"
          ],
          [
           "Scrypt"
          ],
          [
           "Quark"
          ],
          [
           "Groestl"
          ],
          [
           "Scrypt"
          ],
          [
           "Scrypt"
          ],
          [
           "Scrypt"
          ],
          [
           "X11"
          ],
          [
           "Multiple"
          ],
          [
           "SHA-256"
          ],
          [
           "Scrypt"
          ],
          [
           "Scrypt"
          ],
          [
           "Scrypt"
          ],
          [
           "Scrypt"
          ],
          [
           "Scrypt"
          ],
          [
           "NeoScrypt"
          ],
          [
           "Scrypt"
          ],
          [
           "Scrypt"
          ],
          [
           "Scrypt"
          ],
          [
           "Scrypt"
          ],
          [
           "SHA-256"
          ],
          [
           "Scrypt"
          ],
          [
           "Scrypt"
          ],
          [
           "Scrypt"
          ],
          [
           "Scrypt"
          ],
          [
           "HybridScryptHash256"
          ],
          [
           "Scrypt"
          ],
          [
           "Scrypt"
          ],
          [
           "SHA-256"
          ],
          [
           "Scrypt"
          ],
          [
           "Scrypt"
          ],
          [
           "Scrypt"
          ],
          [
           "Scrypt"
          ],
          [
           "SHA-256"
          ],
          [
           "SHA-256"
          ],
          [
           "SHA-256"
          ],
          [
           "SHA-256"
          ],
          [
           "SHA-256"
          ],
          [
           "X11"
          ],
          [
           "Scrypt"
          ],
          [
           "Lyra2REv2"
          ],
          [
           "Scrypt"
          ],
          [
           "SHA-256"
          ],
          [
           "CryptoNight"
          ],
          [
           "CryptoNight"
          ],
          [
           "Scrypt"
          ],
          [
           "Scrypt"
          ],
          [
           "Scrypt"
          ],
          [
           "Scrypt"
          ],
          [
           "Scrypt"
          ],
          [
           "Scrypt"
          ],
          [
           "Stanford Folding"
          ],
          [
           "Multiple"
          ],
          [
           "QuBit"
          ],
          [
           "Scrypt"
          ],
          [
           "Scrypt"
          ],
          [
           "M7 POW"
          ],
          [
           "Scrypt"
          ],
          [
           "SHA-256"
          ],
          [
           "Scrypt"
          ],
          [
           "X11"
          ],
          [
           "Lyra2RE"
          ],
          [
           "SHA-256"
          ],
          [
           "X11"
          ],
          [
           "Scrypt"
          ],
          [
           "Scrypt"
          ],
          [
           "Ethash"
          ],
          [
           "Blake2b"
          ],
          [
           "X11"
          ],
          [
           "SHA-256"
          ],
          [
           "Scrypt"
          ],
          [
           "1GB AES Pattern Search"
          ],
          [
           "Scrypt"
          ],
          [
           "SHA-256"
          ],
          [
           "X11"
          ],
          [
           "Dagger"
          ],
          [
           "Scrypt"
          ],
          [
           "X11GOST"
          ],
          [
           "Scrypt"
          ],
          [
           "X11"
          ],
          [
           "Scrypt"
          ],
          [
           "X11"
          ],
          [
           "Equihash"
          ],
          [
           "CryptoNight"
          ],
          [
           "SHA-256"
          ],
          [
           "Multiple"
          ],
          [
           "Scrypt"
          ],
          [
           "SHA-256"
          ],
          [
           "Scrypt"
          ],
          [
           "Lyra2Z"
          ],
          [
           "Ethash"
          ],
          [
           "Equihash"
          ],
          [
           "Scrypt"
          ],
          [
           "X11"
          ],
          [
           "X11"
          ],
          [
           "CryptoNight"
          ],
          [
           "Scrypt"
          ],
          [
           "CryptoNight"
          ],
          [
           "Lyra2RE"
          ],
          [
           "X11"
          ],
          [
           "CryptoNight-V7"
          ],
          [
           "Scrypt"
          ],
          [
           "X11"
          ],
          [
           "Equihash"
          ],
          [
           "Scrypt"
          ],
          [
           "Lyra2RE"
          ],
          [
           "Dagger-Hashimoto"
          ],
          [
           "Scrypt"
          ],
          [
           "NIST5"
          ],
          [
           "Scrypt"
          ],
          [
           "SHA-256"
          ],
          [
           "Scrypt"
          ],
          [
           "CryptoNight-V7"
          ],
          [
           "Argon2d"
          ],
          [
           "Blake2b"
          ],
          [
           "Cloverhash"
          ],
          [
           "CryptoNight"
          ],
          [
           "X11"
          ],
          [
           "Scrypt"
          ],
          [
           "Scrypt"
          ],
          [
           "X11"
          ],
          [
           "X11"
          ],
          [
           "CryptoNight"
          ],
          [
           "Time Travel"
          ],
          [
           "Scrypt"
          ],
          [
           "Keccak"
          ],
          [
           "X11"
          ],
          [
           "SHA-256"
          ],
          [
           "Scrypt"
          ],
          [
           "Scrypt"
          ],
          [
           "Scrypt"
          ],
          [
           "Scrypt"
          ],
          [
           "Scrypt"
          ],
          [
           "Scrypt"
          ],
          [
           "CryptoNight"
          ],
          [
           "Equihash"
          ],
          [
           "X11"
          ],
          [
           "NeoScrypt"
          ],
          [
           "Equihash"
          ],
          [
           "Dagger"
          ],
          [
           "Scrypt"
          ],
          [
           "X11"
          ],
          [
           "NeoScrypt"
          ],
          [
           "Ethash"
          ],
          [
           "NeoScrypt"
          ],
          [
           "Multiple"
          ],
          [
           "CryptoNight"
          ],
          [
           "CryptoNight"
          ],
          [
           "Ethash"
          ],
          [
           "X11"
          ],
          [
           "CryptoNight-V7"
          ],
          [
           "Scrypt"
          ],
          [
           "BLAKE256"
          ],
          [
           "X11"
          ],
          [
           "NeoScrypt"
          ],
          [
           "NeoScrypt"
          ],
          [
           "Scrypt"
          ],
          [
           "X11"
          ],
          [
           "SHA-256"
          ],
          [
           "C11"
          ],
          [
           "CryptoNight"
          ],
          [
           "SkunkHash"
          ],
          [
           "CryptoNight"
          ],
          [
           "Scrypt"
          ],
          [
           "Dagger"
          ],
          [
           "Lyra2REv2"
          ],
          [
           "Scrypt"
          ],
          [
           "Scrypt"
          ],
          [
           "X11"
          ],
          [
           "Ethash"
          ],
          [
           "CryptoNight"
          ],
          [
           "Scrypt"
          ],
          [
           "IMesh"
          ],
          [
           "Equihash"
          ],
          [
           "Lyra2Z"
          ],
          [
           "X11"
          ],
          [
           "CryptoNight"
          ],
          [
           "NIST5"
          ],
          [
           "Lyra2RE"
          ],
          [
           "Tribus"
          ],
          [
           "Lyra2Z"
          ],
          [
           "CryptoNight"
          ],
          [
           "CryptoNight Heavy"
          ],
          [
           "CryptoNight"
          ],
          [
           "Jump Consistent Hash"
          ],
          [
           "CryptoNight"
          ],
          [
           "X16R"
          ],
          [
           "HMQ1725"
          ],
          [
           "X11"
          ],
          [
           "Scrypt"
          ],
          [
           "CryptoNight-V7"
          ],
          [
           "Cryptonight-GPU"
          ],
          [
           "XEVAN"
          ],
          [
           "CryptoNight Heavy"
          ],
          [
           "SHA-256"
          ],
          [
           "X11"
          ],
          [
           "X16R"
          ],
          [
           "Equihash"
          ],
          [
           "Lyra2Z"
          ],
          [
           "SHA-256"
          ],
          [
           "CryptoNight"
          ],
          [
           "Blake"
          ],
          [
           "Blake"
          ],
          [
           "Equihash"
          ],
          [
           "Exosis"
          ],
          [
           "Scrypt"
          ],
          [
           "Equihash"
          ],
          [
           "Equihash"
          ],
          [
           "QuBit"
          ],
          [
           "SHA-256"
          ],
          [
           "X13"
          ],
          [
           "SHA-256"
          ],
          [
           "Scrypt"
          ],
          [
           "NeoScrypt"
          ],
          [
           "Blake"
          ],
          [
           "Scrypt"
          ],
          [
           "SHA-256"
          ],
          [
           "Scrypt"
          ],
          [
           "Groestl"
          ],
          [
           "Scrypt"
          ],
          [
           "Scrypt"
          ],
          [
           "Multiple"
          ],
          [
           "Equihash+Scrypt"
          ],
          [
           "Ethash"
          ],
          [
           "CryptoNight"
          ],
          [
           "Equihash"
          ]
         ],
         "hovertemplate": "<b>%{hovertext}</b><br><br>Class=%{marker.color}<br>PC 1=%{x}<br>PC 2=%{y}<br>PC 3=%{z}<br>Algorithm=%{customdata[0]}<extra></extra>",
         "hovertext": [
          "Bitcoin",
          "Ethereum",
          "Litecoin",
          "Monero",
          "Ethereum Classic",
          "ZCash",
          "DigiByte",
          "ProsperCoin",
          "Spreadcoin",
          "Argentum",
          "MyriadCoin",
          "MoonCoin",
          "ZetaCoin",
          "SexCoin",
          "Quatloo",
          "QuarkCoin",
          "Riecoin",
          "Digitalcoin ",
          "Catcoin",
          "CannaCoin",
          "CryptCoin",
          "Verge",
          "DevCoin",
          "EarthCoin",
          "E-Gulden",
          "Einsteinium",
          "Emerald",
          "Franko",
          "FeatherCoin",
          "GrandCoin",
          "GlobalCoin",
          "GoldCoin",
          "Infinite Coin",
          "IXcoin",
          "KrugerCoin",
          "LuckyCoin",
          "Litebar ",
          "MegaCoin",
          "MediterraneanCoin",
          "MinCoin",
          "NobleCoin",
          "Namecoin",
          "NyanCoin",
          "RonPaulCoin",
          "StableCoin",
          "SmartCoin",
          "SysCoin",
          "TigerCoin",
          "TerraCoin",
          "UnbreakableCoin",
          "Unobtanium",
          "UroCoin",
          "ViaCoin",
          "Vertcoin",
          "WorldCoin",
          "JouleCoin",
          "ByteCoin",
          "DigitalNote ",
          "MonaCoin",
          "Gulden",
          "PesetaCoin",
          "Wild Beast Coin",
          "Flo",
          "ArtByte",
          "Folding Coin",
          "Unitus",
          "CypherPunkCoin",
          "OmniCron",
          "GreenCoin",
          "Cryptonite",
          "MasterCoin",
          "SoonCoin",
          "1Credit",
          "MarsCoin ",
          "Crypto",
          "Anarchists Prime",
          "BowsCoin",
          "Song Coin",
          "BitZeny",
          "Expanse",
          "Siacoin",
          "MindCoin",
          "I0coin",
          "Revolution VR",
          "HOdlcoin",
          "Gamecredits",
          "CarpeDiemCoin",
          "Adzcoin",
          "SoilCoin",
          "YoCoin",
          "SibCoin",
          "Francs",
          "BolivarCoin",
          "Omni",
          "PizzaCoin",
          "Komodo",
          "Karbo",
          "ZayedCoin",
          "Circuits of Value",
          "DopeCoin",
          "DollarCoin",
          "Shilling",
          "ZCoin",
          "Elementrem",
          "ZClassic",
          "KiloCoin",
          "ArtexCoin",
          "Kurrent",
          "Cannabis Industry Coin",
          "OsmiumCoin",
          "Bikercoins",
          "HexxCoin",
          "PacCoin",
          "Citadel",
          "BeaverCoin",
          "VaultCoin",
          "Zero",
          "Canada eCoin",
          "Zoin",
          "DubaiCoin",
          "EB3coin",
          "Coinonat",
          "BenjiRolls",
          "ILCoin",
          "EquiTrader",
          "Quantum Resistant Ledger",
          "Dynamic",
          "Nano",
          "ChanCoin",
          "Dinastycoin",
          "DigitalPrice",
          "Unify",
          "SocialCoin",
          "ArcticCoin",
          "DAS",
          "LeviarCoin",
          "Bitcore",
          "gCn Coin",
          "SmartCash",
          "Onix",
          "Bitcoin Cash",
          "Sojourn Coin",
          "NewYorkCoin",
          "FrazCoin",
          "Kronecoin",
          "AdCoin",
          "Linx",
          "Sumokoin",
          "BitcoinZ",
          "Elements",
          "VIVO Coin",
          "Bitcoin Gold",
          "Pirl",
          "eBoost",
          "Pura",
          "Innova",
          "Ellaism",
          "GoByte",
          "SHIELD",
          "UltraNote",
          "BitCoal",
          "DaxxCoin",
          "AC3",
          "Lethean",
          "PopularCoin",
          "Photon",
          "Sucre",
          "SparksPay",
          "GunCoin",
          "IrishCoin",
          "Pioneer Coin",
          "UnitedBitcoin",
          "Interzone",
          "TurtleCoin",
          "MUNcoin",
          "Niobio Cash",
          "ShareChain",
          "Travelflex",
          "KREDS",
          "BitFlip",
          "LottoCoin",
          "Crypto Improvement Fund",
          "Callisto Network",
          "BitTube",
          "Poseidon",
          "Aidos Kuneen",
          "Bitrolium",
          "Alpenschillling",
          "FuturoCoin",
          "Monero Classic",
          "Jumpcoin",
          "Infinex",
          "KEYCO",
          "GINcoin",
          "PlatinCoin",
          "Loki",
          "Newton Coin",
          "MassGrid",
          "PluraCoin",
          "Motion",
          "PlusOneCoin",
          "Axe",
          "HexCoin",
          "Webchain",
          "Ryo",
          "Urals Coin",
          "Qwertycoin",
          "Project Pai",
          "Azart",
          "Xchange",
          "CrypticCoin",
          "Actinium",
          "Bitcoin SV",
          "FREDEnergy",
          "Universal Molecule",
          "Lithium",
          "PirateCash",
          "Exosis",
          "Block-Logic",
          "Beam",
          "Bithereum",
          "SLICE",
          "BLAST",
          "Bitcoin Rhodium",
          "GlobalToken",
          "SolarCoin",
          "UFO Coin",
          "BlakeCoin",
          "Crypto Escudo",
          "Crown Coin",
          "SmileyCoin",
          "Groestlcoin",
          "Bata",
          "Pakcoin",
          "JoinCoin",
          "Vollar",
          "Reality Clash",
          "Beldex",
          "Horizen"
         ],
         "legendgroup": "0",
         "marker": {
          "color": [
           0,
           0,
           0,
           0,
           0,
           0,
           0,
           0,
           0,
           0,
           0,
           0,
           0,
           0,
           0,
           0,
           0,
           0,
           0,
           0,
           0,
           0,
           0,
           0,
           0,
           0,
           0,
           0,
           0,
           0,
           0,
           0,
           0,
           0,
           0,
           0,
           0,
           0,
           0,
           0,
           0,
           0,
           0,
           0,
           0,
           0,
           0,
           0,
           0,
           0,
           0,
           0,
           0,
           0,
           0,
           0,
           0,
           0,
           0,
           0,
           0,
           0,
           0,
           0,
           0,
           0,
           0,
           0,
           0,
           0,
           0,
           0,
           0,
           0,
           0,
           0,
           0,
           0,
           0,
           0,
           0,
           0,
           0,
           0,
           0,
           0,
           0,
           0,
           0,
           0,
           0,
           0,
           0,
           0,
           0,
           0,
           0,
           0,
           0,
           0,
           0,
           0,
           0,
           0,
           0,
           0,
           0,
           0,
           0,
           0,
           0,
           0,
           0,
           0,
           0,
           0,
           0,
           0,
           0,
           0,
           0,
           0,
           0,
           0,
           0,
           0,
           0,
           0,
           0,
           0,
           0,
           0,
           0,
           0,
           0,
           0,
           0,
           0,
           0,
           0,
           0,
           0,
           0,
           0,
           0,
           0,
           0,
           0,
           0,
           0,
           0,
           0,
           0,
           0,
           0,
           0,
           0,
           0,
           0,
           0,
           0,
           0,
           0,
           0,
           0,
           0,
           0,
           0,
           0,
           0,
           0,
           0,
           0,
           0,
           0,
           0,
           0,
           0,
           0,
           0,
           0,
           0,
           0,
           0,
           0,
           0,
           0,
           0,
           0,
           0,
           0,
           0,
           0,
           0,
           0,
           0,
           0,
           0,
           0,
           0,
           0,
           0,
           0,
           0,
           0,
           0,
           0,
           0,
           0,
           0,
           0,
           0,
           0,
           0,
           0,
           0,
           0,
           0,
           0,
           0,
           0,
           0,
           0,
           0,
           0,
           0,
           0,
           0,
           0,
           0,
           0,
           0,
           0,
           0,
           0,
           0,
           0,
           0,
           0
          ],
          "coloraxis": "coloraxis",
          "symbol": "diamond"
         },
         "mode": "markers",
         "name": "0",
         "scene": "scene",
         "showlegend": true,
         "type": "scatter3d",
         "x": [
          -0.1418412785699798,
          -0.14973229171590607,
          -0.16491245416176525,
          -0.15583637478945717,
          -0.14817751119973338,
          -0.15619970711799058,
          0.16133992343089748,
          -0.16605685222022631,
          -0.23019659542760704,
          -0.1656741300465188,
          -0.09163031484322223,
          2.5501338425896365,
          -0.13893083469565468,
          -0.16293413558366304,
          -0.16547861493719257,
          -0.23049032322024604,
          -0.20942596583988476,
          -0.1655270339844778,
          -0.16603914132717884,
          -0.166125440371106,
          -0.23028581032502587,
          0.1850829730182498,
          0.2353965566209629,
          0.08220592313613331,
          -0.165872109374627,
          -0.16148469722336026,
          -0.16581154338866816,
          -0.16618235852849417,
          -0.1818595753832118,
          -0.14543958918855568,
          -0.16497936004932717,
          -0.1652564589886355,
          1.5799454745332806,
          -0.1418026982958905,
          -0.1625504549125386,
          -0.16589851098325786,
          -0.16625275895939076,
          -0.165513199615993,
          -0.15574844171355307,
          -0.1661342281000669,
          -0.031298712187064204,
          -0.1418802077921218,
          -0.15980821214586136,
          -0.1661137574648217,
          -0.1642118479711556,
          -0.1656013367307374,
          -0.12905383863382214,
          -0.14134481873192012,
          -0.1416316218487745,
          -0.14161484032150565,
          -0.14220433395389295,
          -0.2304593781746896,
          -0.1658306271240181,
          -0.20748126227936695,
          -0.162938929194187,
          -0.14141201470413012,
          3.848378011610536,
          0.45274517369843015,
          -0.1647001525120552,
          -0.14932786496261008,
          -0.16342097910187545,
          -0.16625497250430274,
          -0.16328615866175497,
          -0.1495324056728206,
          -0.11922948885522049,
          -0.1255815001418419,
          -0.18538318685560226,
          -0.1661282195081818,
          -0.03928723933439332,
          -0.127103026741121,
          -0.1662638422964201,
          -0.1419079491674057,
          0.4845317662073478,
          -0.22984754551523368,
          -0.161574673110128,
          -0.14164833233009358,
          -0.230132006770678,
          -0.16439123348348264,
          -0.16358474782179894,
          -0.15079845509541803,
          0.35639939383184577,
          -0.23016732962402042,
          -0.14180381918680643,
          -0.16222812963112332,
          -0.1439098184877364,
          -0.1648295287457337,
          0.27601508969422855,
          -0.2293295224839119,
          -0.156247982959563,
          -0.16507710295161845,
          -0.18340541806432928,
          -0.1660541352877634,
          -0.23013067107193483,
          -0.1662639006982679,
          -0.23028044708990908,
          -0.2786422251000489,
          0.29790732367553524,
          -0.14206350307651222,
          -0.10568658458455815,
          -0.16343540927523809,
          -0.1420221915871014,
          -0.16592790254818976,
          -0.15665203787192564,
          -0.1505409992343269,
          -0.15622129607424348,
          -0.09314100452920084,
          -0.21688385997286797,
          -0.22811255510692782,
          0.29790163339209,
          -0.16624567402175836,
          0.29803215707076947,
          -0.1621141032733088,
          0.4834757102473898,
          -0.15460371957299446,
          -0.16621400599106276,
          -0.22302940421321754,
          -0.1562336324157837,
          -0.16435023923104924,
          -0.1618329109618896,
          -0.1358620099215875,
          -0.1371978415326171,
          -0.1924651472924218,
          -0.1657771320893136,
          -0.10844634588954136,
          -0.1655996325124998,
          -0.15446119236627254,
          -0.15571630872948788,
          -0.043385299776353525,
          -0.13914136401139218,
          0.3339656139004113,
          -0.22933799472979616,
          -0.16591818366338948,
          -0.16568218397644974,
          -0.22973193775322961,
          -0.23030840907732406,
          0.29829592277323347,
          -0.1680027524747343,
          3.2378833907421036,
          -0.13330137238568632,
          -0.22119845567117769,
          -0.14184044387339773,
          -0.09199303691339489,
          1.5784847895541891,
          -0.1660159080935019,
          -0.1654686224338346,
          -0.16517007590896116,
          -0.16515702381824734,
          0.2984790984693433,
          0.05569914921998341,
          -0.18476460183478874,
          -0.1865404876424117,
          -0.15607990616074513,
          -0.15500939939420397,
          -0.16434845071309476,
          -0.225860483317506,
          -0.18638620136184703,
          -0.14890974877821533,
          -0.18648620225978602,
          -0.1158297097384769,
          1.134278634532693,
          0.29788447311472943,
          -0.07395109671320396,
          -0.2256035149508794,
          -0.14359242538966718,
          -0.08254041475313603,
          1.0817676766894024,
          -0.23028244651778584,
          -0.18653801581684037,
          -0.17958761954465483,
          -0.16526812911911354,
          -0.2302079688388709,
          -0.14181986336720723,
          -0.21144220872314257,
          8.02005996152752,
          -0.14101236767493877,
          0.3017520545334708,
          0.026469589793119266,
          -0.1545129445800991,
          -0.19306377624807622,
          -0.16584097379932364,
          0.140733288777091,
          -0.22435916811512513,
          -0.10204419773754418,
          0.30579177237069954,
          -0.16607756995445955,
          -0.16520997096725867,
          -0.15507258296870666,
          -0.1544399940585522,
          -0.22937871424672734,
          0.2980667217359306,
          -0.19252437844135833,
          -0.16195963420451046,
          -0.15822137874484343,
          -0.1567362435680539,
          0.30198656803851015,
          0.568365150562365,
          2.103170104931197,
          -0.1527634408462706,
          0.3116484880366336,
          -0.19486410627322,
          -0.14848415696768133,
          -0.2302646366342317,
          -0.16610212611077682,
          -0.1434766802594379,
          -0.1511938648420059,
          -0.16090879620090293,
          3.0866111689373508,
          -0.10173202551419391,
          -0.23023606190974868,
          -0.1942930099264753,
          -0.0510053584630833,
          -0.15613519101275908,
          -0.14184048139010058,
          0.37767803514969517,
          -0.14240455443919336,
          -0.14279562060217324,
          -0.27154435266614685,
          -0.1350497903778696,
          -0.16499641134950152,
          -0.15414388779933516,
          -0.15591299755661647,
          -0.18459574671647727,
          -0.1411178049788711,
          -0.11259477048166039,
          -0.13998779779324785,
          0.5283599133793375,
          -0.1118231033572365,
          -0.09336457794440409,
          -0.14968279640961388,
          -0.14163099311659177,
          0.5483644415316554,
          -0.20898765368665906,
          -0.16617876855074143,
          -0.16413812852058415,
          -0.12631544783396187,
          -0.11548238451760508,
          -0.15057410508192118,
          0.3196055558576372,
          -0.15620076269465727
         ],
         "y": [
          -1.3326256596647286,
          -1.9907288826907337,
          -1.0588478049915393,
          -2.2534827827698325,
          -1.9907619449980436,
          -2.110309050864287,
          -1.81192374176352,
          -1.0588865379691135,
          -0.9362386645668064,
          -1.0588886891345892,
          -1.8169911732291266,
          -1.128430838002857,
          -1.3325192836233533,
          -1.0588201689923717,
          -1.0588994533628038,
          -0.4194060305860818,
          -1.26174180252286,
          -1.0588672277839442,
          -1.0588852670098254,
          -1.058886046449908,
          -0.9362436892748629,
          -1.8071584525698305,
          -1.3200036241951103,
          -1.0503543819257195,
          -1.0588732805554528,
          -1.0587504493064217,
          -1.0588765104034703,
          -1.058888819487551,
          -1.5745956298894657,
          -1.0583709818599836,
          -1.0588429638810959,
          -1.0588643956071555,
          -0.9959763557756123,
          -1.3326228910884834,
          -1.0588032564495957,
          -1.0588744864320792,
          -1.0588870627597593,
          -1.0588619882328123,
          -2.2320856318068696,
          -1.0588845144233805,
          -1.0595327500983438,
          -1.3326284532819788,
          -1.058655768672519,
          -1.0588906215717264,
          -1.0589118594803297,
          -1.0588746494965429,
          -1.3323051529148136,
          -1.3326079484972695,
          -1.3326250779558046,
          -1.3326500458461907,
          -1.33263742166867,
          -0.9362437474171139,
          -1.058871681211133,
          -1.2883136312305976,
          -1.0588311339256165,
          -1.33261138485257,
          -2.1557339532814463,
          -2.2792465991785087,
          -1.0588471161276394,
          -1.0588286629376331,
          -1.058797517199143,
          -1.0588881018179077,
          -1.0587834439896018,
          -1.0583749972118266,
          -2.0883663803113253,
          -1.8180500774156372,
          -1.4255374534323133,
          -1.058879517806325,
          -1.056662313480561,
          -2.1976852633331516,
          -1.058887354975612,
          -1.3326304440431715,
          -1.0755490643543475,
          -0.9362225698731883,
          -2.2113807710574402,
          -1.3326343767179636,
          -0.9362347183323921,
          -1.058897348102852,
          -1.0588668578670906,
          -1.9908170362444195,
          -2.0994818748601967,
          -0.936233809446536,
          -1.332622971525236,
          -1.0587419553456403,
          -2.2401188189918453,
          -1.0588418541438043,
          -1.3175201242422518,
          -0.9362205215813326,
          -2.2677601534855527,
          -1.0589177166232921,
          -2.2928071919423036,
          -1.0588856542571372,
          -0.9362373774446188,
          -1.058887357079728,
          -0.9362481255881812,
          -1.7778589742284971,
          -2.2834774647880844,
          -1.332633848838214,
          -1.817448878685356,
          -1.0588217040683698,
          -1.3326315057156188,
          -1.058883483023014,
          -2.186299366625525,
          -1.9908049655397806,
          -2.1103106001189955,
          -1.0605269375206903,
          -0.9356139190938884,
          -0.9362323689435089,
          -2.283485449281773,
          -1.0588874939740625,
          -2.283478837677808,
          -2.2113810571059336,
          -0.9538848309020765,
          -2.2535217427299417,
          -1.0588856661600907,
          -0.9363993027198221,
          -2.1103087304287995,
          -1.0588184794909774,
          -2.211368454490592,
          -2.092378144884509,
          -1.0595560739829089,
          -0.7041534382985152,
          -1.0588764656426122,
          -1.3319365798971183,
          -1.0588888530116543,
          -2.253456415493571,
          -2.220748291788325,
          -2.128405368802122,
          -2.2707432714812525,
          -2.2822604642963364,
          -0.936232149417541,
          -1.058875400074571,
          -1.058896843246966,
          -0.9362328696993861,
          -0.9362459308608734,
          -2.2834798829579745,
          -2.298650383151287,
          -0.9523485968730119,
          -1.1504408121373937,
          -0.9363367853031468,
          -1.3326255997656888,
          -1.060788928192495,
          -0.9336812443260988,
          -1.0588829110184168,
          -1.0588877164307215,
          -1.0588773121561212,
          -1.0588763755192239,
          -2.2834907674119576,
          -2.1095519795273447,
          -0.9342043579662629,
          -1.574718717958596,
          -2.1103004537744137,
          -2.267758263560644,
          -1.0588183511443436,
          -0.9361547834152807,
          -1.5747200434896163,
          -1.9908627032934156,
          -1.5747181283177445,
          -1.817804843882686,
          -2.28199434592869,
          -2.2834808264297974,
          -1.9921781243376162,
          -0.93627409118878,
          -2.253292523134947,
          -1.0563225189998007,
          -1.259418304219874,
          -0.9362446876169473,
          -1.5747144081309716,
          -1.5745455445740686,
          -1.058859553921133,
          -0.9362415469621641,
          -1.3326235484688416,
          -1.4578122620624143,
          -2.418058715902731,
          -2.2775649691324156,
          -2.283426090901645,
          -1.0519435083658282,
          -2.2676838564915465,
          -1.2879787724217868,
          -1.0588841323000813,
          -1.0495340116397576,
          -0.9361503580123084,
          -1.9917835324661244,
          -2.2835935189171774,
          -1.0588880247036712,
          -2.3609441380985654,
          -2.110261915113754,
          -2.186332510399372,
          -0.9362350715089391,
          -2.283471811577037,
          -0.7041389192423414,
          -2.211381184886018,
          -2.1801066243522365,
          -2.18629790207138,
          -2.283591089847626,
          -2.168324282765646,
          -2.2806506499092296,
          -2.1204470245330094,
          -2.2831732325346583,
          -1.142913998108572,
          -2.255553811734365,
          -0.9362442360431277,
          -1.0588905481288624,
          -2.253801129929344,
          -2.1917306790131392,
          -0.8090815812228224,
          -2.114560044640804,
          -1.3311792541710061,
          -0.9362449404434909,
          -1.1429266850675075,
          -2.1079801201861716,
          -2.1863053921327897,
          -1.332625602457942,
          -2.283311142884496,
          -2.227011223584157,
          -2.2269842627133722,
          -0.1919588976469726,
          -2.1379064265125582,
          -1.0588786245557844,
          -2.1103280598658376,
          -2.110295285064979,
          -1.425549819687103,
          -1.332603358015904,
          -0.34635394151555804,
          -1.3325938961281287,
          -1.0766052131024992,
          -1.572093258345384,
          -2.2282408303510466,
          -1.0583857894685003,
          -1.3326250328370741,
          -1.0420412183572483,
          -1.2617248121696012,
          -1.0588842670056338,
          -1.0588597348797042,
          -1.8181046750377305,
          -2.241887328398127,
          -1.9908061582852068,
          -2.282877871555811,
          -2.110309126613995
         ],
         "z": [
          0.2027957300609588,
          0.4060599627680257,
          -0.008733325662734392,
          0.5025344934188088,
          0.40602579172986253,
          0.399649318692477,
          0.37358677053922573,
          -0.008693770100064939,
          0.10293278757211377,
          -0.008703549019555579,
          0.38153246464776824,
          -0.06569888638152695,
          0.20269333459713465,
          -0.008792724800177384,
          -0.008706337206149316,
          0.09508677561480239,
          0.24661491096062707,
          -0.008712397748866334,
          -0.008694535634124251,
          -0.00869204181708208,
          0.1029363291921478,
          0.3718613118656899,
          0.1897899979004646,
          -0.01730443350810761,
          -0.008701755408323011,
          -0.008847542922327388,
          -0.008702643025109504,
          -0.008689881117226652,
          0.3041457118551096,
          -0.009364772536298681,
          -0.008732635905689517,
          -0.008720305360954474,
          -0.06991489040278792,
          0.20279406247063683,
          -0.008806883312658153,
          -0.008700771525911487,
          -0.00868839315748057,
          -0.008713965626073726,
          0.5691006130362571,
          -0.00869215589392677,
          -0.012162371745636757,
          0.20279741273417906,
          -0.008914154478174237,
          -0.008691310432855152,
          -0.00873749707405897,
          -0.008708708850368212,
          0.20237938457905696,
          0.20277836276521624,
          0.20278997114316685,
          0.20279522311768436,
          0.2028081587934363,
          0.10294100010286464,
          -0.008703233836694461,
          0.3211391908620029,
          -0.008790091935004782,
          0.20278095075864672,
          0.3503097846551278,
          0.4696388725234944,
          -0.008739180028872308,
          -0.009155904368703017,
          -0.00878483386466312,
          -0.008688096452106622,
          -0.008791665838664678,
          -0.00925402620542541,
          0.36995933122024177,
          0.38268537092491745,
          0.22002211954472983,
          -0.008693458286597457,
          -0.012603568171359849,
          0.4728938769977067,
          -0.008688029002225017,
          0.20279861182490674,
          -0.02234660840395817,
          0.1029197451485817,
          0.5201554437716838,
          0.2027925432642552,
          0.10293015309613728,
          -0.008735997513566336,
          -0.008764602794905497,
          0.4061087058672708,
          0.5035608749089568,
          0.1029308933961857,
          0.20279411091992575,
          -0.008829533072890352,
          0.39513936540821337,
          -0.00873691002350714,
          0.18813281887284697,
          0.10290537638380128,
          0.4912573644233829,
          -0.008712940576827255,
          0.6143505113847605,
          -0.008694044834873047,
          0.10293072455546176,
          -0.008688026954482479,
          0.10293719846068565,
          0.31153561690308634,
          0.47476015928791415,
          0.2028035636644319,
          0.38201419290609284,
          -0.008778922709000478,
          0.2028019199503007,
          -0.008697928123914796,
          0.4557007641885312,
          0.40609904035792943,
          0.39965025185159464,
          -0.010275797834512528,
          0.10243286229756719,
          0.10287542525870945,
          0.47476213552619884,
          -0.008688484796239113,
          0.4747571229758167,
          0.5201699845186774,
          0.08781176979873494,
          0.5025103134367864,
          -0.008689752042614995,
          0.10277714593388927,
          0.3996501558830723,
          -0.00875511001689126,
          0.5201595605694614,
          0.3031636102345593,
          -0.009315279218375798,
          -0.011187069028534218,
          -0.008703576662886113,
          0.20174221311266013,
          -0.008705510707417144,
          0.5024915689845788,
          0.3994757137921879,
          0.5208946586577484,
          0.39656957545751925,
          0.4735146027120086,
          0.10290825936119158,
          -0.008700034953917727,
          -0.008701470615226378,
          0.10291899518477443,
          0.10293744756712447,
          0.4747502836431478,
          0.6189245658794542,
          -0.1243690100197036,
          0.1792135112603532,
          0.10271373501383159,
          0.20279569398210778,
          -0.010246768303243248,
          -0.0841029854765023,
          -0.008695697163703645,
          -0.008709285895012837,
          -0.008719673469548566,
          -0.008720237631951943,
          0.47474785403815134,
          0.39379018378672265,
          0.10124903022303687,
          0.3042994339946906,
          0.3996441404266018,
          0.4912236958401337,
          -0.008755187323631536,
          0.102797272308982,
          0.30429559650879423,
          0.40606845278689097,
          0.30429784260029774,
          0.3823676773263739,
          0.45197770822804756,
          0.47476154022441824,
          0.40435738678289507,
          0.10281762480363989,
          0.5021624788487654,
          -0.011520488590008187,
          0.1973323073130539,
          0.10293646693229552,
          0.3042983833625515,
          0.30407330597021903,
          -0.008721097967380022,
          0.10293375107051221,
          0.20279467322531244,
          0.30001794409970917,
          0.29827531231680887,
          0.49861668224101,
          0.47464525425069054,
          -0.015445835480515648,
          0.49119338016476843,
          0.3206758258691999,
          -0.008700112540772234,
          -0.019062355242366203,
          0.10275597434905313,
          0.40502113620569197,
          0.4745750879600214,
          -0.008692874598570955,
          0.5990583700551543,
          0.39960830759865273,
          0.4556489743279435,
          0.10291001941795455,
          0.4747545907866286,
          -0.011188795521601975,
          0.5201658685789334,
          0.5126194534224562,
          0.4557026893358747,
          0.47467664450892416,
          0.40316364171749536,
          0.42567096767879337,
          0.4570637435137172,
          0.474321937805168,
          0.21182452339825653,
          0.36680028555977884,
          0.10293588587751369,
          -0.008691639329404114,
          0.5022755312197249,
          0.4609078261392609,
          0.1998509924467431,
          0.32330843480645216,
          0.20138907458367195,
          0.10293527995962254,
          0.21181209574551652,
          0.39629457184668215,
          0.4556882709235093,
          0.20279569560372623,
          0.47258155496062176,
          0.43415544255161953,
          0.4341597792054009,
          0.10657147335102846,
          0.38057051125211555,
          -0.008724033963717664,
          0.3995984928857776,
          0.39963848103561056,
          0.22000381313867928,
          0.20277122253263583,
          -0.08160555744629236,
          0.20273873823261157,
          -0.023281512315053748,
          0.30169480284165423,
          0.4331202963170717,
          -0.009247525729650357,
          0.20278994396690314,
          -0.0317122374620079,
          0.24659926866086457,
          -0.008691017173274506,
          -0.008751379805617422,
          0.38271753544982273,
          0.426605618100555,
          0.406100201147249,
          0.47404095657731604,
          0.39964936431862924
         ]
        },
        {
         "customdata": [
          [
           "VeChainThor Authority"
          ],
          [
           "Proof-of-BibleHash"
          ],
          [
           "SHA-256 + Hive"
          ],
          [
           "Proof-of-Authority"
          ],
          [
           "ECC 256K1"
          ],
          [
           "Leased POS"
          ]
         ],
         "hovertemplate": "<b>%{hovertext}</b><br><br>Class=%{marker.color}<br>PC 1=%{x}<br>PC 2=%{y}<br>PC 3=%{z}<br>Algorithm=%{customdata[0]}<extra></extra>",
         "hovertext": [
          "Vechain",
          "BiblePay",
          "LitecoinCash",
          "Poa Network",
          "Acute Angle Cloud",
          "Waves"
         ],
         "legendgroup": "2",
         "marker": {
          "color": [
           2,
           2,
           2,
           2,
           2,
           2
          ],
          "coloraxis": "coloraxis",
          "symbol": "square"
         },
         "mode": "markers",
         "name": "2",
         "scene": "scene",
         "showlegend": true,
         "type": "scatter3d",
         "x": [
          4.476478318945977,
          -0.17372408592625024,
          -0.3946304063527966,
          -0.4644617214665401,
          -0.39069982148761234,
          -0.3976715971938499
         ],
         "y": [
          1.1603722256274842,
          3.345040348898291,
          3.8340352566365086,
          5.725709209913507,
          5.283601944923911,
          2.3476108307073598
         ],
         "z": [
          8.91890643444616,
          16.795143439807543,
          13.60342944653324,
          9.171028671008795,
          6.440781224415641,
          17.62017211748164
         ]
        },
        {
         "customdata": [
          [
           "TRC10"
          ]
         ],
         "hovertemplate": "<b>%{hovertext}</b><br><br>Class=%{marker.color}<br>PC 1=%{x}<br>PC 2=%{y}<br>PC 3=%{z}<br>Algorithm=%{customdata[0]}<extra></extra>",
         "hovertext": [
          "BitTorrent"
         ],
         "legendgroup": "3",
         "marker": {
          "color": [
           3
          ],
          "coloraxis": "coloraxis",
          "symbol": "x"
         },
         "mode": "markers",
         "name": "3",
         "scene": "scene",
         "showlegend": true,
         "type": "scatter3d",
         "x": [
          34.03148060319357
         ],
         "y": [
          2.503511896871869
         ],
         "z": [
          -1.4372489799334005
         ]
        }
       ],
       "layout": {
        "coloraxis": {
         "colorbar": {
          "title": {
           "text": "Class"
          }
         },
         "colorscale": [
          [
           0,
           "#0d0887"
          ],
          [
           0.1111111111111111,
           "#46039f"
          ],
          [
           0.2222222222222222,
           "#7201a8"
          ],
          [
           0.3333333333333333,
           "#9c179e"
          ],
          [
           0.4444444444444444,
           "#bd3786"
          ],
          [
           0.5555555555555556,
           "#d8576b"
          ],
          [
           0.6666666666666666,
           "#ed7953"
          ],
          [
           0.7777777777777778,
           "#fb9f3a"
          ],
          [
           0.8888888888888888,
           "#fdca26"
          ],
          [
           1,
           "#f0f921"
          ]
         ]
        },
        "legend": {
         "title": {
          "text": "Class"
         },
         "tracegroupgap": 0,
         "x": 0,
         "y": 1
        },
        "margin": {
         "t": 60
        },
        "scene": {
         "domain": {
          "x": [
           0,
           1
          ],
          "y": [
           0,
           1
          ]
         },
         "xaxis": {
          "title": {
           "text": "PC 1"
          }
         },
         "yaxis": {
          "title": {
           "text": "PC 2"
          }
         },
         "zaxis": {
          "title": {
           "text": "PC 3"
          }
         }
        },
        "template": {
         "data": {
          "bar": [
           {
            "error_x": {
             "color": "#2a3f5f"
            },
            "error_y": {
             "color": "#2a3f5f"
            },
            "marker": {
             "line": {
              "color": "#E5ECF6",
              "width": 0.5
             },
             "pattern": {
              "fillmode": "overlay",
              "size": 10,
              "solidity": 0.2
             }
            },
            "type": "bar"
           }
          ],
          "barpolar": [
           {
            "marker": {
             "line": {
              "color": "#E5ECF6",
              "width": 0.5
             },
             "pattern": {
              "fillmode": "overlay",
              "size": 10,
              "solidity": 0.2
             }
            },
            "type": "barpolar"
           }
          ],
          "carpet": [
           {
            "aaxis": {
             "endlinecolor": "#2a3f5f",
             "gridcolor": "white",
             "linecolor": "white",
             "minorgridcolor": "white",
             "startlinecolor": "#2a3f5f"
            },
            "baxis": {
             "endlinecolor": "#2a3f5f",
             "gridcolor": "white",
             "linecolor": "white",
             "minorgridcolor": "white",
             "startlinecolor": "#2a3f5f"
            },
            "type": "carpet"
           }
          ],
          "choropleth": [
           {
            "colorbar": {
             "outlinewidth": 0,
             "ticks": ""
            },
            "type": "choropleth"
           }
          ],
          "contour": [
           {
            "colorbar": {
             "outlinewidth": 0,
             "ticks": ""
            },
            "colorscale": [
             [
              0,
              "#0d0887"
             ],
             [
              0.1111111111111111,
              "#46039f"
             ],
             [
              0.2222222222222222,
              "#7201a8"
             ],
             [
              0.3333333333333333,
              "#9c179e"
             ],
             [
              0.4444444444444444,
              "#bd3786"
             ],
             [
              0.5555555555555556,
              "#d8576b"
             ],
             [
              0.6666666666666666,
              "#ed7953"
             ],
             [
              0.7777777777777778,
              "#fb9f3a"
             ],
             [
              0.8888888888888888,
              "#fdca26"
             ],
             [
              1,
              "#f0f921"
             ]
            ],
            "type": "contour"
           }
          ],
          "contourcarpet": [
           {
            "colorbar": {
             "outlinewidth": 0,
             "ticks": ""
            },
            "type": "contourcarpet"
           }
          ],
          "heatmap": [
           {
            "colorbar": {
             "outlinewidth": 0,
             "ticks": ""
            },
            "colorscale": [
             [
              0,
              "#0d0887"
             ],
             [
              0.1111111111111111,
              "#46039f"
             ],
             [
              0.2222222222222222,
              "#7201a8"
             ],
             [
              0.3333333333333333,
              "#9c179e"
             ],
             [
              0.4444444444444444,
              "#bd3786"
             ],
             [
              0.5555555555555556,
              "#d8576b"
             ],
             [
              0.6666666666666666,
              "#ed7953"
             ],
             [
              0.7777777777777778,
              "#fb9f3a"
             ],
             [
              0.8888888888888888,
              "#fdca26"
             ],
             [
              1,
              "#f0f921"
             ]
            ],
            "type": "heatmap"
           }
          ],
          "heatmapgl": [
           {
            "colorbar": {
             "outlinewidth": 0,
             "ticks": ""
            },
            "colorscale": [
             [
              0,
              "#0d0887"
             ],
             [
              0.1111111111111111,
              "#46039f"
             ],
             [
              0.2222222222222222,
              "#7201a8"
             ],
             [
              0.3333333333333333,
              "#9c179e"
             ],
             [
              0.4444444444444444,
              "#bd3786"
             ],
             [
              0.5555555555555556,
              "#d8576b"
             ],
             [
              0.6666666666666666,
              "#ed7953"
             ],
             [
              0.7777777777777778,
              "#fb9f3a"
             ],
             [
              0.8888888888888888,
              "#fdca26"
             ],
             [
              1,
              "#f0f921"
             ]
            ],
            "type": "heatmapgl"
           }
          ],
          "histogram": [
           {
            "marker": {
             "pattern": {
              "fillmode": "overlay",
              "size": 10,
              "solidity": 0.2
             }
            },
            "type": "histogram"
           }
          ],
          "histogram2d": [
           {
            "colorbar": {
             "outlinewidth": 0,
             "ticks": ""
            },
            "colorscale": [
             [
              0,
              "#0d0887"
             ],
             [
              0.1111111111111111,
              "#46039f"
             ],
             [
              0.2222222222222222,
              "#7201a8"
             ],
             [
              0.3333333333333333,
              "#9c179e"
             ],
             [
              0.4444444444444444,
              "#bd3786"
             ],
             [
              0.5555555555555556,
              "#d8576b"
             ],
             [
              0.6666666666666666,
              "#ed7953"
             ],
             [
              0.7777777777777778,
              "#fb9f3a"
             ],
             [
              0.8888888888888888,
              "#fdca26"
             ],
             [
              1,
              "#f0f921"
             ]
            ],
            "type": "histogram2d"
           }
          ],
          "histogram2dcontour": [
           {
            "colorbar": {
             "outlinewidth": 0,
             "ticks": ""
            },
            "colorscale": [
             [
              0,
              "#0d0887"
             ],
             [
              0.1111111111111111,
              "#46039f"
             ],
             [
              0.2222222222222222,
              "#7201a8"
             ],
             [
              0.3333333333333333,
              "#9c179e"
             ],
             [
              0.4444444444444444,
              "#bd3786"
             ],
             [
              0.5555555555555556,
              "#d8576b"
             ],
             [
              0.6666666666666666,
              "#ed7953"
             ],
             [
              0.7777777777777778,
              "#fb9f3a"
             ],
             [
              0.8888888888888888,
              "#fdca26"
             ],
             [
              1,
              "#f0f921"
             ]
            ],
            "type": "histogram2dcontour"
           }
          ],
          "mesh3d": [
           {
            "colorbar": {
             "outlinewidth": 0,
             "ticks": ""
            },
            "type": "mesh3d"
           }
          ],
          "parcoords": [
           {
            "line": {
             "colorbar": {
              "outlinewidth": 0,
              "ticks": ""
             }
            },
            "type": "parcoords"
           }
          ],
          "pie": [
           {
            "automargin": true,
            "type": "pie"
           }
          ],
          "scatter": [
           {
            "marker": {
             "colorbar": {
              "outlinewidth": 0,
              "ticks": ""
             }
            },
            "type": "scatter"
           }
          ],
          "scatter3d": [
           {
            "line": {
             "colorbar": {
              "outlinewidth": 0,
              "ticks": ""
             }
            },
            "marker": {
             "colorbar": {
              "outlinewidth": 0,
              "ticks": ""
             }
            },
            "type": "scatter3d"
           }
          ],
          "scattercarpet": [
           {
            "marker": {
             "colorbar": {
              "outlinewidth": 0,
              "ticks": ""
             }
            },
            "type": "scattercarpet"
           }
          ],
          "scattergeo": [
           {
            "marker": {
             "colorbar": {
              "outlinewidth": 0,
              "ticks": ""
             }
            },
            "type": "scattergeo"
           }
          ],
          "scattergl": [
           {
            "marker": {
             "colorbar": {
              "outlinewidth": 0,
              "ticks": ""
             }
            },
            "type": "scattergl"
           }
          ],
          "scattermapbox": [
           {
            "marker": {
             "colorbar": {
              "outlinewidth": 0,
              "ticks": ""
             }
            },
            "type": "scattermapbox"
           }
          ],
          "scatterpolar": [
           {
            "marker": {
             "colorbar": {
              "outlinewidth": 0,
              "ticks": ""
             }
            },
            "type": "scatterpolar"
           }
          ],
          "scatterpolargl": [
           {
            "marker": {
             "colorbar": {
              "outlinewidth": 0,
              "ticks": ""
             }
            },
            "type": "scatterpolargl"
           }
          ],
          "scatterternary": [
           {
            "marker": {
             "colorbar": {
              "outlinewidth": 0,
              "ticks": ""
             }
            },
            "type": "scatterternary"
           }
          ],
          "surface": [
           {
            "colorbar": {
             "outlinewidth": 0,
             "ticks": ""
            },
            "colorscale": [
             [
              0,
              "#0d0887"
             ],
             [
              0.1111111111111111,
              "#46039f"
             ],
             [
              0.2222222222222222,
              "#7201a8"
             ],
             [
              0.3333333333333333,
              "#9c179e"
             ],
             [
              0.4444444444444444,
              "#bd3786"
             ],
             [
              0.5555555555555556,
              "#d8576b"
             ],
             [
              0.6666666666666666,
              "#ed7953"
             ],
             [
              0.7777777777777778,
              "#fb9f3a"
             ],
             [
              0.8888888888888888,
              "#fdca26"
             ],
             [
              1,
              "#f0f921"
             ]
            ],
            "type": "surface"
           }
          ],
          "table": [
           {
            "cells": {
             "fill": {
              "color": "#EBF0F8"
             },
             "line": {
              "color": "white"
             }
            },
            "header": {
             "fill": {
              "color": "#C8D4E3"
             },
             "line": {
              "color": "white"
             }
            },
            "type": "table"
           }
          ]
         },
         "layout": {
          "annotationdefaults": {
           "arrowcolor": "#2a3f5f",
           "arrowhead": 0,
           "arrowwidth": 1
          },
          "autotypenumbers": "strict",
          "coloraxis": {
           "colorbar": {
            "outlinewidth": 0,
            "ticks": ""
           }
          },
          "colorscale": {
           "diverging": [
            [
             0,
             "#8e0152"
            ],
            [
             0.1,
             "#c51b7d"
            ],
            [
             0.2,
             "#de77ae"
            ],
            [
             0.3,
             "#f1b6da"
            ],
            [
             0.4,
             "#fde0ef"
            ],
            [
             0.5,
             "#f7f7f7"
            ],
            [
             0.6,
             "#e6f5d0"
            ],
            [
             0.7,
             "#b8e186"
            ],
            [
             0.8,
             "#7fbc41"
            ],
            [
             0.9,
             "#4d9221"
            ],
            [
             1,
             "#276419"
            ]
           ],
           "sequential": [
            [
             0,
             "#0d0887"
            ],
            [
             0.1111111111111111,
             "#46039f"
            ],
            [
             0.2222222222222222,
             "#7201a8"
            ],
            [
             0.3333333333333333,
             "#9c179e"
            ],
            [
             0.4444444444444444,
             "#bd3786"
            ],
            [
             0.5555555555555556,
             "#d8576b"
            ],
            [
             0.6666666666666666,
             "#ed7953"
            ],
            [
             0.7777777777777778,
             "#fb9f3a"
            ],
            [
             0.8888888888888888,
             "#fdca26"
            ],
            [
             1,
             "#f0f921"
            ]
           ],
           "sequentialminus": [
            [
             0,
             "#0d0887"
            ],
            [
             0.1111111111111111,
             "#46039f"
            ],
            [
             0.2222222222222222,
             "#7201a8"
            ],
            [
             0.3333333333333333,
             "#9c179e"
            ],
            [
             0.4444444444444444,
             "#bd3786"
            ],
            [
             0.5555555555555556,
             "#d8576b"
            ],
            [
             0.6666666666666666,
             "#ed7953"
            ],
            [
             0.7777777777777778,
             "#fb9f3a"
            ],
            [
             0.8888888888888888,
             "#fdca26"
            ],
            [
             1,
             "#f0f921"
            ]
           ]
          },
          "colorway": [
           "#636efa",
           "#EF553B",
           "#00cc96",
           "#ab63fa",
           "#FFA15A",
           "#19d3f3",
           "#FF6692",
           "#B6E880",
           "#FF97FF",
           "#FECB52"
          ],
          "font": {
           "color": "#2a3f5f"
          },
          "geo": {
           "bgcolor": "white",
           "lakecolor": "white",
           "landcolor": "#E5ECF6",
           "showlakes": true,
           "showland": true,
           "subunitcolor": "white"
          },
          "hoverlabel": {
           "align": "left"
          },
          "hovermode": "closest",
          "mapbox": {
           "style": "light"
          },
          "paper_bgcolor": "white",
          "plot_bgcolor": "#E5ECF6",
          "polar": {
           "angularaxis": {
            "gridcolor": "white",
            "linecolor": "white",
            "ticks": ""
           },
           "bgcolor": "#E5ECF6",
           "radialaxis": {
            "gridcolor": "white",
            "linecolor": "white",
            "ticks": ""
           }
          },
          "scene": {
           "xaxis": {
            "backgroundcolor": "#E5ECF6",
            "gridcolor": "white",
            "gridwidth": 2,
            "linecolor": "white",
            "showbackground": true,
            "ticks": "",
            "zerolinecolor": "white"
           },
           "yaxis": {
            "backgroundcolor": "#E5ECF6",
            "gridcolor": "white",
            "gridwidth": 2,
            "linecolor": "white",
            "showbackground": true,
            "ticks": "",
            "zerolinecolor": "white"
           },
           "zaxis": {
            "backgroundcolor": "#E5ECF6",
            "gridcolor": "white",
            "gridwidth": 2,
            "linecolor": "white",
            "showbackground": true,
            "ticks": "",
            "zerolinecolor": "white"
           }
          },
          "shapedefaults": {
           "line": {
            "color": "#2a3f5f"
           }
          },
          "ternary": {
           "aaxis": {
            "gridcolor": "white",
            "linecolor": "white",
            "ticks": ""
           },
           "baxis": {
            "gridcolor": "white",
            "linecolor": "white",
            "ticks": ""
           },
           "bgcolor": "#E5ECF6",
           "caxis": {
            "gridcolor": "white",
            "linecolor": "white",
            "ticks": ""
           }
          },
          "title": {
           "x": 0.05
          },
          "xaxis": {
           "automargin": true,
           "gridcolor": "white",
           "linecolor": "white",
           "ticks": "",
           "title": {
            "standoff": 15
           },
           "zerolinecolor": "white",
           "zerolinewidth": 2
          },
          "yaxis": {
           "automargin": true,
           "gridcolor": "white",
           "linecolor": "white",
           "ticks": "",
           "title": {
            "standoff": 15
           },
           "zerolinecolor": "white",
           "zerolinewidth": 2
          }
         }
        },
        "width": 1000
       }
      },
      "text/html": [
       "<div>                            <div id=\"7d6f706a-02c1-4904-bcd9-743f20035c8c\" class=\"plotly-graph-div\" style=\"height:525px; width:1000px;\"></div>            <script type=\"text/javascript\">                require([\"plotly\"], function(Plotly) {                    window.PLOTLYENV=window.PLOTLYENV || {};                                    if (document.getElementById(\"7d6f706a-02c1-4904-bcd9-743f20035c8c\")) {                    Plotly.newPlot(                        \"7d6f706a-02c1-4904-bcd9-743f20035c8c\",                        [{\"customdata\":[[\"Scrypt\"],[\"Scrypt\"],[\"X13\"],[\"X11\"],[\"SHA-512\"],[\"SHA-256\"],[\"SHA-256\"],[\"X15\"],[\"Scrypt\"],[\"Scrypt\"],[\"Scrypt\"],[\"Scrypt\"],[\"Scrypt\"],[\"Scrypt\"],[\"Groestl\"],[\"PoS\"],[\"Scrypt\"],[\"Scrypt\"],[\"X11\"],[\"X11\"],[\"SHA3\"],[\"Scrypt\"],[\"SHA-256\"],[\"Scrypt\"],[\"X13\"],[\"X13\"],[\"NeoScrypt\"],[\"Scrypt\"],[\"Scrypt\"],[\"Scrypt\"],[\"X11\"],[\"X11\"],[\"Multiple\"],[\"PHI1612\"],[\"X11\"],[\"Scrypt\"],[\"Scrypt\"],[\"Scrypt\"],[\"X11\"],[\"Multiple\"],[\"X13\"],[\"Scrypt\"],[\"Shabal256\"],[\"Counterparty\"],[\"SHA-256\"],[\"Groestl\"],[\"Scrypt\"],[\"X13\"],[\"Scrypt\"],[\"Scrypt\"],[\"X13\"],[\"X11\"],[\"Scrypt\"],[\"X11\"],[\"SHA3\"],[\"QUAIT\"],[\"X11\"],[\"Scrypt\"],[\"X13\"],[\"SHA-256\"],[\"X15\"],[\"BLAKE256\"],[\"SHA-256\"],[\"X11\"],[\"SHA-256\"],[\"NIST5\"],[\"Scrypt\"],[\"Scrypt\"],[\"X11\"],[\"Scrypt\"],[\"SHA-256\"],[\"Scrypt\"],[\"PoS\"],[\"X11\"],[\"SHA-256\"],[\"SHA-256\"],[\"NIST5\"],[\"X11\"],[\"POS 3.0\"],[\"Scrypt\"],[\"Scrypt\"],[\"Scrypt\"],[\"X13\"],[\"X11\"],[\"X11\"],[\"Scrypt\"],[\"SHA-256\"],[\"X11\"],[\"Scrypt\"],[\"Scrypt\"],[\"Scrypt\"],[\"Scrypt\"],[\"SHA-256D\"],[\"PoS\"],[\"Scrypt\"],[\"X11\"],[\"PoS\"],[\"X13\"],[\"X14\"],[\"PoS\"],[\"SHA-256D\"],[\"DPoS\"],[\"X11\"],[\"X13\"],[\"X11\"],[\"PoS\"],[\"Scrypt\"],[\"Scrypt\"],[\"PoS\"],[\"X11\"],[\"SHA-256\"],[\"Scrypt\"],[\"X11\"],[\"Scrypt\"],[\"Scrypt\"],[\"X11\"],[\"Scrypt\"],[\"Scrypt\"],[\"Scrypt\"],[\"Scrypt\"],[\"Quark\"],[\"QuBit\"],[\"Scrypt\"],[\"SHA-256\"],[\"X11\"],[\"Scrypt\"],[\"Scrypt\"],[\"Scrypt\"],[\"Scrypt\"],[\"X13\"],[\"Scrypt\"],[\"Scrypt\"],[\"X11\"],[\"Blake2S\"],[\"X11\"],[\"PoS\"],[\"X11\"],[\"PoS\"],[\"X11\"],[\"Scrypt\"],[\"Scrypt\"],[\"Scrypt\"],[\"SHA-256\"],[\"X11\"],[\"Scrypt\"],[\"PoS\"],[\"Scrypt\"],[\"X15\"],[\"SHA-256\"],[\"POS 3.0\"],[\"536\"],[\"NIST5\"],[\"NIST5\"],[\"Skein\"],[\"X13\"],[\"Scrypt\"],[\"X13\"],[\"SkunkHash v2 Raptor\"],[\"Skein\"],[\"X11\"],[\"Scrypt\"],[\"PoS\"],[\"Scrypt\"],[\"Scrypt\"],[\"SHA-512\"],[\"Ouroboros\"],[\"X11\"],[\"NeoScrypt\"],[\"Scrypt\"],[\"Lyra2REv2\"],[\"Scrypt\"],[\"SHA-256\"],[\"NIST5\"],[\"PHI1612\"],[\"Scrypt\"],[\"Quark\"],[\"POS 2.0\"],[\"Scrypt\"],[\"SHA-256\"],[\"X11\"],[\"DPoS\"],[\"NIST5\"],[\"X13\"],[\"Scrypt\"],[\"NIST5\"],[\"Quark\"],[\"Scrypt\"],[\"Scrypt\"],[\"X11\"],[\"Quark\"],[\"Scrypt\"],[\"Scrypt\"],[\"X11\"],[\"POS 3.0\"],[\"Ethash\"],[\"Scrypt\"],[\"Scrypt\"],[\"X13\"],[\"C11\"],[\"X11\"],[\"XEVAN\"],[\"Scrypt\"],[\"VBFT\"],[\"NIST5\"],[\"Scrypt\"],[\"Scrypt\"],[\"Scrypt\"],[\"Green Protocol\"],[\"PoS\"],[\"Scrypt\"],[\"Semux BFT consensus\"],[\"Quark\"],[\"PoS\"],[\"X16R\"],[\"Scrypt\"],[\"XEVAN\"],[\"Scrypt\"],[\"Scrypt\"],[\"Scrypt\"],[\"SHA-256D\"],[\"Scrypt\"],[\"X15\"],[\"Scrypt\"],[\"Quark\"],[\"SHA-256\"],[\"DPoS\"],[\"X16R\"],[\"Quark\"],[\"Quark\"],[\"Scrypt\"],[\"Lyra2REv2\"],[\"Quark\"],[\"Scrypt\"],[\"X11\"],[\"X11\"],[\"Scrypt\"],[\"PoS\"],[\"Keccak\"],[\"X11\"],[\"Scrypt\"],[\"SHA-512\"],[\"XEVAN\"],[\"XEVAN\"],[\"X11\"],[\"Quark\"],[\"Scrypt\"],[\"Quark\"],[\"Quark\"],[\"Scrypt\"],[\"X11\"],[\"Scrypt\"],[\"XEVAN\"],[\"SHA-256D\"],[\"X11\"],[\"X11\"],[\"DPoS\"],[\"Scrypt\"],[\"X11\"],[\"Scrypt\"],[\"Scrypt\"],[\"SHA-256\"],[\"Scrypt\"],[\"X11\"],[\"Scrypt\"],[\"SHA-256\"],[\"X11\"],[\"Scrypt\"],[\"Scrypt\"],[\"X11\"],[\"Scrypt\"],[\"PoS\"],[\"X11\"],[\"SHA-256\"],[\"DPoS\"],[\"Scrypt\"],[\"Scrypt\"],[\"NeoScrypt\"],[\"X13\"],[\"DPoS\"],[\"DPoS\"],[\"SHA-256\"],[\"PoS\"],[\"PoS\"],[\"SHA-256\"],[\"Scrypt\"],[\"Scrypt\"]],\"hovertemplate\":\"<b>%{hovertext}</b><br><br>Class=%{marker.color}<br>PC 1=%{x}<br>PC 2=%{y}<br>PC 3=%{z}<br>Algorithm=%{customdata[0]}<extra></extra>\",\"hovertext\":[\"42 Coin\",\"404Coin\",\"EliteCoin\",\"Dash\",\"Bitshares\",\"BitcoinDark\",\"PayCoin\",\"KoboCoin\",\"Aurora Coin\",\"BlueCoin\",\"EnergyCoin\",\"BitBar\",\"CryptoBullion\",\"CasinoCoin\",\"Diamond\",\"Exclusive Coin\",\"FlutterCoin\",\"HoboNickels\",\"HyperStake\",\"IOCoin\",\"MaxCoin\",\"MintCoin\",\"MazaCoin\",\"Nautilus Coin\",\"NavCoin\",\"OpalCoin\",\"Orbitcoin\",\"PotCoin\",\"PhoenixCoin\",\"Reddcoin\",\"SuperCoin\",\"SyncCoin\",\"TeslaCoin\",\"TittieCoin\",\"TorCoin\",\"UnitaryStatus Dollar\",\"UltraCoin\",\"VeriCoin\",\"X11 Coin\",\"Crypti\",\"StealthCoin\",\"ZCC Coin\",\"BurstCoin\",\"StorjCoin\",\"Neutron\",\"FairCoin\",\"RubyCoin\",\"Kore\",\"Dnotes\",\"8BIT Coin\",\"Sativa Coin\",\"Ucoin\",\"Vtorrent\",\"IslaCoin\",\"Nexus\",\"Droidz\",\"Squall Coin\",\"Diggits\",\"Paycon\",\"Emercoin\",\"EverGreenCoin\",\"Decred\",\"EDRCoin\",\"Hitcoin\",\"DubaiCoin\",\"PWR Coin\",\"BillaryCoin\",\"GPU Coin\",\"EuropeCoin\",\"ZeitCoin\",\"SwingCoin\",\"SafeExchangeCoin\",\"Nebuchadnezzar\",\"Ratecoin\",\"Revenu\",\"Clockcoin\",\"VIP Tokens\",\"BitSend\",\"Let it Ride\",\"PutinCoin\",\"iBankCoin\",\"Frankywillcoin\",\"MudraCoin\",\"Lutetium Coin\",\"GoldBlocks\",\"CarterCoin\",\"BitTokens\",\"MustangCoin\",\"ZoneCoin\",\"RootCoin\",\"BitCurrency\",\"Swiscoin\",\"BuzzCoin\",\"Opair\",\"PesoBit\",\"Halloween Coin\",\"CoffeeCoin\",\"RoyalCoin\",\"GanjaCoin V2\",\"TeamUP\",\"LanaCoin\",\"ARK\",\"InsaneCoin\",\"EmberCoin\",\"XenixCoin\",\"FreeCoin\",\"PLNCoin\",\"AquariusCoin\",\"Creatio\",\"Eternity\",\"Eurocoin\",\"BitcoinFast\",\"Stakenet\",\"BitConnect Coin\",\"MoneyCoin\",\"Enigma\",\"Russiacoin\",\"PandaCoin\",\"GameUnits\",\"GAKHcoin\",\"Allsafe\",\"LiteCreed\",\"Klingon Empire Darsek\",\"Internet of People\",\"KushCoin\",\"Printerium\",\"Impeach\",\"Zilbercoin\",\"FirstCoin\",\"FindCoin\",\"OpenChat\",\"RenosCoin\",\"VirtacoinPlus\",\"TajCoin\",\"Impact\",\"Atmos\",\"HappyCoin\",\"MacronCoin\",\"Condensate\",\"Independent Money System\",\"ArgusCoin\",\"LomoCoin\",\"ProCurrency\",\"GoldReserve\",\"GrowthCoin\",\"Phreak\",\"Degas Coin\",\"HTML5 Coin\",\"Ultimate Secure Cash\",\"QTUM\",\"Espers\",\"Denarius\",\"Virta Unique Coin\",\"Bitcoin Planet\",\"BritCoin\",\"Linda\",\"DeepOnion\",\"Signatum\",\"Cream\",\"Monoeci\",\"Draftcoin\",\"Stakecoin\",\"CoinonatX\",\"Ethereum Dark\",\"Obsidian\",\"Cardano\",\"Regalcoin\",\"TrezarCoin\",\"TerraNovaCoin\",\"Rupee\",\"WomenCoin\",\"Theresa May Coin\",\"NamoCoin\",\"LUXCoin\",\"Xios\",\"Bitcloud 2.0\",\"KekCoin\",\"BlackholeCoin\",\"Infinity Economics\",\"Magnet\",\"Lamden Tau\",\"Electra\",\"Bitcoin Diamond\",\"Cash & Back Coin\",\"Bulwark\",\"Kalkulus\",\"GermanCoin\",\"LiteCoin Ultra\",\"PhantomX\",\"Digiwage\",\"Trollcoin\",\"Litecoin Plus\",\"Monkey Project\",\"TokenPay\",\"1717 Masonic Commemorative Token\",\"My Big Coin\",\"Unified Society USDEX\",\"Tokyo Coin\",\"Stipend\",\"Pushi\",\"Ellerium\",\"Velox\",\"Ontology\",\"Bitspace\",\"Briacoin\",\"Ignition\",\"MedicCoin\",\"Bitcoin Green\",\"Deviant Coin\",\"Abjcoin\",\"Semux\",\"Carebit\",\"Zealium\",\"Proton\",\"iDealCash\",\"Bitcoin Incognito\",\"HollyWoodCoin\",\"Swisscoin\",\"Xt3ch\",\"TheVig\",\"EmaratCoin\",\"Dekado\",\"Lynx\",\"Poseidon Quark\",\"BitcoinWSpectrum\",\"Muse\",\"Trivechain\",\"Dystem\",\"Giant\",\"Peony Coin\",\"Absolute Coin\",\"Vitae\",\"TPCash\",\"ARENON\",\"EUNO\",\"MMOCoin\",\"Ketan\",\"XDNA\",\"PAXEX\",\"ThunderStake\",\"Kcash\",\"Bettex coin\",\"BitMoney\",\"Junson Ming Chan Coin\",\"HerbCoin\",\"Oduwa\",\"Galilel\",\"Crypto Sports\",\"Credit\",\"Dash Platinum\",\"Nasdacoin\",\"Beetle Coin\",\"Titan Coin\",\"Award\",\"Insane Coin\",\"ALAX\",\"LiteDoge\",\"TruckCoin\",\"OrangeCoin\",\"BitstarCoin\",\"NeosCoin\",\"HyperCoin\",\"PinkCoin\",\"AudioCoin\",\"IncaKoin\",\"Piggy Coin\",\"Genstake\",\"XiaoMiCoin\",\"CapriCoin\",\" ClubCoin\",\"Radium\",\"Creditbit \",\"OKCash\",\"Lisk\",\"HiCoin\",\"WhiteCoin\",\"FriendshipCoin\",\"Triangles Coin\",\"EOS\",\"Oxycoin\",\"TigerCash\",\"Particl\",\"Nxt\",\"ZEPHYR\",\"Gapcoin\",\"BitcoinPlus\"],\"legendgroup\":\"1\",\"marker\":{\"color\":[1,1,1,1,1,1,1,1,1,1,1,1,1,1,1,1,1,1,1,1,1,1,1,1,1,1,1,1,1,1,1,1,1,1,1,1,1,1,1,1,1,1,1,1,1,1,1,1,1,1,1,1,1,1,1,1,1,1,1,1,1,1,1,1,1,1,1,1,1,1,1,1,1,1,1,1,1,1,1,1,1,1,1,1,1,1,1,1,1,1,1,1,1,1,1,1,1,1,1,1,1,1,1,1,1,1,1,1,1,1,1,1,1,1,1,1,1,1,1,1,1,1,1,1,1,1,1,1,1,1,1,1,1,1,1,1,1,1,1,1,1,1,1,1,1,1,1,1,1,1,1,1,1,1,1,1,1,1,1,1,1,1,1,1,1,1,1,1,1,1,1,1,1,1,1,1,1,1,1,1,1,1,1,1,1,1,1,1,1,1,1,1,1,1,1,1,1,1,1,1,1,1,1,1,1,1,1,1,1,1,1,1,1,1,1,1,1,1,1,1,1,1,1,1,1,1,1,1,1,1,1,1,1,1,1,1,1,1,1,1,1,1,1,1,1,1,1,1,1,1,1,1,1,1,1,1,1,1,1,1,1,1,1,1,1,1,1,1,1,1,1,1,1,1,1,1,1,1,1,1,1,1,1,1,1,1],\"coloraxis\":\"coloraxis\",\"symbol\":\"circle\"},\"mode\":\"markers\",\"name\":\"1\",\"scene\":\"scene\",\"showlegend\":true,\"x\":[-0.33421645014544415,-0.3175792515921986,2.299018050368401,-0.3981489621042383,-0.31271744313857724,-0.3099778697267365,-0.2579869756290207,-0.24183173726595913,-0.33387657200653953,-0.32646392745917674,-0.33271501662552877,-0.3342123944700751,-0.33419669917293715,0.6417472771956145,-0.3784940685041358,-0.3312323949848476,-0.2712514800706403,-0.33227846691796836,-0.32600842977139044,-0.39804379797134387,-0.41366312618263557,-0.022491295298211336,-0.2733461473524265,-0.2819771169014535,-0.2797582733955706,-0.28037965653135594,-0.35465701859284776,-0.3285285924464191,-0.3326208564710192,0.023449704301305593,-0.3458686429341966,-0.3984147550980792,-0.2407024945057447,-0.3090801025260653,-0.398326567322957,-0.3094902472609227,-0.33289615521778104,-0.2725361870326007,-0.39829106563448596,-0.24116905957054738,-0.2801608107919395,-0.32533690469470183,-0.06372495437956939,-0.3339569699797191,-0.309190884987236,-0.37791637493359226,-0.28195731307541694,-0.2804550095777464,-0.27662120790189093,-0.3341985424818409,-0.28040724743102935,-0.3463130076268723,-0.3339333872516335,-0.39839630850498214,-0.4064541942928545,-0.4210671200490519,-0.36888681635894355,-0.2803615251913269,-0.27992974086997957,-0.30254988545155603,-0.24426815263757728,-0.08966714165643792,-0.30994882228405707,-0.07643934649425706,-0.3100123685546024,-0.23801780335628825,-0.33380955400104967,-0.2802314139356523,-0.3955713924528929,0.8691049327557437,-0.30981286003603314,-0.08784242533406778,-0.3309161997869466,-0.3962425829750429,-0.30855908317271935,-0.30623208527654494,-0.3592158586531117,-0.397133949094579,-0.3440928801940434,-0.3101483073192479,-0.3338476140338463,-0.33228899723255984,-0.22716130108069196,-0.3338239335346273,-0.39787118949201267,-0.3330531494430769,-0.3099934039767753,-0.3983855310542944,-0.3340363958396941,-0.33419278323480733,-0.28021978187001134,-0.2230970498430275,0.02450819668797485,-0.3298749623152219,-0.33380745231360753,-0.38457457766093844,-0.32920430439835124,-0.22858891179587895,-0.41516870000375977,-0.3289550237384017,-0.28953101566667666,3.7600336102879477,-0.3979787645528716,0.8502518095394299,-0.39834050544171296,-0.3303379636702231,-0.33373531705019543,-0.3338894574512391,-0.3309161997869466,-0.3979162864855765,-0.30985625368829633,-0.33373602120278156,-0.38033530531505627,-0.33388318847007464,-0.32948053215574125,-0.3983694671777478,-0.3330955826554825,0.3602600846419864,-0.3340821168547916,-0.3341525406564651,-0.3511831023432351,-0.3524750411778739,-0.33038706844599947,-0.3099698489839286,-0.39827956237438317,-0.33393073965824943,-0.33405753496703944,-0.28186425231798373,-0.26522618528025954,-0.22835714073840346,-0.314941913730842,-0.28160561255034755,-0.3975467853637895,-0.41938812222828376,-0.3962868863565576,-0.3291655819302662,-0.39744480614490035,-0.3235745337623649,-0.3933933989424078,-0.33400089279496237,-0.3340001248410802,-0.32713636728231854,0.27355371830417274,-0.3979223168258861,-0.2645401959782444,-0.33095050396444053,-0.3332130939485304,0.8881018032014022,-0.25668016613495886,-0.34287322195324227,0.5690359002794286,-0.36074902528794356,-0.35925385211093397,-0.4196539905864354,-0.2800928705670695,0.12983588567913731,-0.2801634873463016,-0.32067162942644867,-0.41915953336736345,-0.3981941702907687,-0.28193814736450235,-0.3308171311865278,-0.3336367233129833,-0.33413549789863145,-0.37068499371195046,0.6619953133427575,-0.3981351736533846,-0.3496650978238978,-0.334091236020815,-0.3242504322288033,0.4338655361089834,-0.30831875311173074,-0.3455426964778166,-0.3965452439890279,-0.3340416699195042,-0.40155551218332797,-0.3249102310716338,-0.33391220682521666,-0.0847509152552449,-0.3969300789106842,3.764881093187326,0.19783420437293456,-0.27683981930710005,-0.33137693385668754,-0.30858549995254086,-0.3510691853563262,0.0794057422471224,-0.3330526320743917,-0.3975099269314491,-0.3502355855238033,-0.32063906104802936,-0.33415759890235613,-0.3462849799243095,-0.3443743752565431,-0.26702810849952174,-0.28316075211656266,-0.3297100323000894,-0.22016813938130683,-0.3794168801757022,-0.39821147825599673,-0.33008535805981637,-0.28109983665102434,-0.3112749307130839,-0.36034873966017955,-0.33418491175512305,-0.334166658110584,-0.2754908075278154,-0.3567464633546038,-0.3304122735171224,-0.3338836838520621,3.96855103189169,-0.40022530963957764,-0.33060064762604546,-0.3107605478758516,-0.28085235354918203,-0.3007093684642375,-0.281632810833029,-0.13761617126883668,-0.2818846334184288,-0.35471839593180254,-0.33335871244339504,-0.19168565002002483,2.249843094553361,-0.3467863056026278,-0.2568071707474436,1.0440723465803212,-0.36202566242508716,-0.3511825719874708,-0.403236347645839,-0.1628674260646342,-0.37610644371227203,-0.3499042425175109,-0.32707653817600346,-0.34586313671084606,-0.397685652583496,-0.27913496435956225,-0.3297023578472094,-0.36130742544666294,-0.34572494706071044,-0.19395272301768962,-0.44907719617910713,-0.278150931142128,0.47244654115676343,-0.13651670366093002,-0.4025321834615287,-0.33388760301682807,-0.402987503194101,-0.35129935115669836,0.5710082412001122,-0.3463392155764358,-0.3333715573263669,-0.3245507652187076,-0.3095252988624783,-0.39525556810436485,-0.39791247714652705,3.7771037742374274,0.10027187431888995,-0.3954552381039572,-0.3327584990868508,-0.33358159898378204,-0.2580196085159434,-0.33409894498102494,-0.38955402895043684,-0.24797414528863113,-0.0899305842643298,-0.3853107832863129,-0.33337830797433327,-0.3264539726730792,-0.3944866316699034,-0.3318203693336794,-0.3311914033665071,-0.3953779508142297,-0.30849536458499754,3.760424711693699,-0.08947811833369738,-0.3290196484852655,-0.3542836830362802,-0.2805620061256496,3.7702804454013075,3.7715229224775833,-0.2389472129262874,-0.3311273533489863,-0.3092026107965161,2.4944341133650227,-0.3322657880737139,-0.28228033926991775],\"y\":[1.0594305024188215,1.0602580016676804,1.740703921067393,1.1820774060216024,2.2284003754358426,0.7856778794496506,0.5857307174783568,1.8111701777706057,1.0594433433834205,1.0599868346825758,1.0595382474875692,1.0594304491183826,1.0594312310651066,0.7987760291061963,0.8565504162765509,1.4394795784076442,0.4408897087276775,1.059486926008676,0.9835848204800886,1.1820849527517954,1.7080358579132116,0.8781157034543781,0.7866555749364523,0.8594834819604906,1.772021562914817,1.771976971562736,0.543602948899,1.0595494001290515,1.0594775079408436,1.0850971427247136,0.9821596228740633,1.1820734839448384,0.10030510547836755,1.4417811028931764,1.1820729257060567,1.0601029049507102,1.0594563746228611,0.44132402304969165,1.1820785726929286,0.10034049819233998,1.771992676249355,1.0593789704905712,1.5025922008005062,1.429821885804469,0.7857026725273644,0.8565948890877432,0.8594960469406467,1.7719632992275007,0.8595346030742579,1.0594317875275696,1.7719681041901427,0.9821139598018584,1.0594370406306959,1.1820748083877661,1.5390375742780258,1.918724925335142,0.7905551304573488,0.8595416888885647,1.7719748211122446,0.7855373336656234,1.8112182839125315,0.8488600166776152,0.7856799639361277,1.1868928325147183,0.7856833242851025,1.4229808230730983,1.0594307747823233,0.8594676519525943,1.1820130519129812,0.8739125811469898,0.7856773234460436,0.7724901963856402,1.4394884942126338,1.1821777072720616,0.7856414460915688,0.7856002456463005,1.414221488736179,1.182069662128399,1.4775424462576519,1.0597801852197362,1.059426436477306,1.059499945157574,1.5719736027583022,0.9825714658116971,1.1820780546384972,1.0594519959000546,0.7856774534303868,1.182073515570283,1.0594289598445352,1.0594322008194623,0.8596207346916814,0.5343507328480054,1.7828451396320952,1.4395260229061557,1.0594598527233927,1.1820335643113362,1.4395975675511516,1.572007181606775,1.8771538560994043,1.4394356948269948,1.7689143615246583,0.8870155157074494,1.182084109716118,1.8525272901539556,1.1820761589522129,1.4395093270430115,1.0594384851770042,1.059425040795231,1.4394884942126338,1.1820679310033009,0.7856879842743245,1.059442250270997,0.6107382089384092,1.0594351330400282,1.0593222226811851,1.182073290855336,1.0594117588187537,0.88318814021613,1.059431188766197,1.0594328049653094,1.498777974982796,0.6927874492160295,1.0593609339267693,0.7856791437707241,1.182076743775785,1.0594372306258244,1.0594268000455185,0.8594648443615133,0.5308043420130135,1.5720155319103744,1.060124930068895,0.8594975745906006,1.1820668972989508,1.7440823183669847,1.1821504220632433,1.4395519346374073,1.1820742154751174,1.4397536212090831,1.1820894539226756,1.0594313614979232,1.0594263282724197,1.0592498384540228,0.5722278822114844,1.1820812730768582,0.8593684424917573,1.4394791450855202,1.059430186936509,1.8305102136510798,0.5856952990919824,1.4775841694212983,1.9092084587923939,1.4141665657601357,1.4141981000414796,1.8750503052522036,1.7719768895088612,1.0582945201507326,1.7719794682197807,1.7371824134374259,1.8750857882170209,1.1820827660711284,0.8594854341492973,1.4394669519181669,1.0594388713537644,1.0594334189859023,2.2266574573357163,1.5275747105325006,1.1820749517958884,0.5436882765131467,1.0594286518032252,0.6300334747567901,1.0973306517332895,0.785743218260291,1.4144381921374765,1.6407319044155628,1.059428581368944,1.698720407682986,1.6426974148603992,1.0594421500965876,0.5919723280859543,1.182080848442632,0.8871051002221747,1.4335959639618447,1.7720863597943508,1.0594896346366585,1.2142130471983026,1.4987827061255783,1.054675580157409,1.0594107085686923,1.1821039793620767,1.4987736523571142,1.059784968639228,1.0594319707341215,0.9821152823693349,1.4775281000633291,-0.072462008505589,0.43107109896236634,1.059594101600549,1.572062197566134,0.6605061057678308,1.1820708535492503,1.3092513279777984,0.8594721768075362,1.4839234044929681,1.4141677411964368,1.0594306994652987,1.0594306318912685,0.859615722239182,1.3212493847728286,1.439477822303935,1.0594337200087518,0.7467023464033588,1.6988158649404348,1.4394698142333684,0.7754386227633632,1.0597322894853443,0.9177489306093904,0.8595014264253092,1.0665136647179523,0.8594709579350059,1.7693372365426987,1.0594342007032853,1.6112631594070006,0.5767450200174996,1.4986561449538223,0.5857549365555365,1.129113755297638,0.9754185509063974,1.4987738805960436,1.6987339889906141,0.8564161617318097,0.8299772300209449,1.4988112048297233,1.0592541318771795,0.9821221372549976,1.1820913690352606,0.8595195101109749,1.4394447404797233,0.9667587222629411,0.9821010606001898,1.0570986927223556,3.569722614090595,1.109300458210525,0.6392446690248331,0.9971830206706059,1.6987508765225272,1.059439637432595,1.6987422832604486,1.4987707554476841,1.072872909956846,0.9821122857038044,1.0594332789359153,1.3093454523318508,1.7692055277420569,1.1820109212496879,1.1820888665962204,0.887637846995764,1.0665040785801871,1.1822858638512868,1.059397378928331,1.0594386918725414,0.5857225213969323,1.0594389347882038,1.1823649726634036,1.058387594678938,0.8013530822659066,1.182325103618808,1.0594803176269183,1.059712052662504,1.1822121143264344,1.0594922501145483,1.4394763213566593,0.5813827197910139,0.78572710066079,0.8870195319768398,0.8664151369870873,1.0595968101548179,0.5435908962848612,1.7719638032433325,0.887836936029619,0.8879260979807081,0.5864169066607468,1.4394811696612793,1.1479901912172708,0.34495365390997607,1.0593982995341467,0.8594721773729953],\"z\":[-0.6111290353441843,-0.6117644774065566,-0.7461289645496458,-0.4995078171612714,-0.2903768619983641,-0.3996370690683114,-0.09026204080000862,-0.6969368344131504,-0.6111410885423167,-0.6114641296989688,-0.6111939331791567,-0.611129132003761,-0.6111297317667017,-0.3842255798507628,-0.355790305992379,-0.12995634095457384,-0.46407774242653,-0.6111939267612945,-0.19100570128590671,-0.4995123627663567,-0.6718482145408249,-0.31297924323659926,-0.40084335973125035,-0.3017607061720244,-0.6840809048797816,-0.684054046270619,-0.2981380435544546,-0.611308821491955,-0.6111825879097962,-0.6265887652657514,-0.1901472652059663,-0.49949978895530645,0.0896003752784467,-0.21034613703033672,-0.4995020279495009,-0.6119461211567723,-0.6111703738246305,-0.380377628141348,-0.4995042703139409,0.0896048122089437,-0.6840635056393133,-0.611355545668352,-0.2291426665189495,-0.07937787428488617,-0.3996638499017536,-0.355815965134501,-0.3017641072583281,-0.6840489016369288,-0.3019161054107912,-0.6111298093900442,-0.6840512807004167,-0.19012491205894025,-0.611138124468794,-0.49950058644649736,-0.5189547565963692,-0.7697136344994763,-0.1582391191284205,-0.30181735361510964,-0.6840656284668858,-0.3998042977992269,-0.6968824408070886,-0.3758877254598731,-0.39963832461237947,-0.5092405539077364,-0.399637386825219,-0.6189261724786331,-0.6111400164621944,-0.3018039361516833,-0.4995622877946453,-0.3359449811343542,-0.39964137006192973,-0.3586439985289361,-0.12996686218032852,-0.4995818815092991,-0.3996668208579054,-0.39971985544478245,-0.6136733617086777,-0.499533286084597,-0.0071254829160459845,-0.611854757882814,-0.6111380043292776,-0.6111966175671554,-0.3746991196753813,-0.19056453962549613,-0.4995154192257165,-0.6111651609038775,-0.3996365549156368,-0.4995005803949773,-0.6111335147364216,-0.6111300583272237,-0.3018392101519635,-0.47908905002001395,-0.6803346731921041,-0.13000337442426468,-0.6111467138365457,-0.4998620681631226,-0.130037711042514,-0.3746684791643106,-0.8235784965985066,-0.1300074310389869,-0.6687259560595503,-0.039702691231209446,-0.49951391537813283,-0.7327906561704077,-0.4995023923511301,-0.1299871368557348,-0.6111437695258599,-0.6111365627226,-0.12996686218032852,-0.4995118969736755,-0.3996426403858188,-0.6111446105225566,-0.12840403322422214,-0.6111390358695485,-0.6112313925210878,-0.4995009601418186,-0.6111548326629502,-0.3244087115314871,-0.6111327968822441,-0.6111312762006574,-0.19780960876104478,-0.3824435938467032,-0.611215907022384,-0.39963757305454406,-0.49950416130194136,-0.6111382389081339,-0.6111324542089174,-0.3017594782982895,-0.43553464322835284,-0.374676605745863,-0.6118048578293481,-0.30177389391046666,-0.49952157632268457,-0.7173357743813167,-0.4995744611012263,-0.13002832825639243,-0.4995259842633333,-0.13022442431932246,-0.49963818258163173,-0.6111350159505703,-0.6111338870432759,-0.6112777658581829,-0.1014418973650073,-0.4995147822860229,-0.30220234644827315,-0.12996380643600486,-0.6111558880014304,-0.7316751826996745,-0.09028901952947842,-0.007167740973844383,-0.7366338645525674,-0.6136196761199427,-0.6136670005319927,-0.7599236279789691,-0.6840617233306673,-0.623322273971314,-0.6840604172942106,-0.30534301034418854,-0.7599450003536442,-0.49950782817245976,-0.3017621977571314,-0.1299646007063138,-0.61114650345106,-0.6111318737703582,-0.28842326628020737,-0.21889418308397018,-0.49950762666022763,-0.29829148756197255,-0.6111319727674227,0.028100268071926147,-0.6403960834754068,-0.3996965133044646,-0.6140897680675867,-0.5185416722640559,-0.6111332867700673,-0.507226988385826,-0.11031274766587953,-0.6111398597653029,-0.09633626177323797,-0.4995413116594074,-0.03985323151337724,-0.6330464498748501,-0.6841740192226355,-0.6112187376932415,-0.30424782859758753,-0.19781374620690304,-0.6211424859557617,-0.6111557453648596,-0.4995310344063682,-0.19783404781541813,-0.6115743346787414,-0.6111309499382193,-0.19012596622749053,-0.007114652634682392,0.11305349612932732,-0.3710936246935803,-0.6112873271332827,-0.37490701245492586,-0.30242258674932443,-0.4995046430736229,-0.40256060713443204,-0.3017816657458313,-0.07018436528757858,-0.6136306860956882,-0.6111299266682726,-0.6111304010654498,-0.3019649657355991,0.07035015466448988,-0.12997794755579614,-0.6111386998604788,-0.007934876158716193,-0.5072844849417703,-0.12997106367703223,-0.08123907826738103,-0.612629965759083,-0.06129950395015426,-0.30177404375686,-0.6180224249539806,-0.3017603276294055,-0.6670732542256101,-0.6111528970662146,-0.3875214696179178,-0.615222055251996,-0.1978997710508369,-0.09029923172975009,-0.06481475991924433,-0.39064106588748976,-0.1978086878949235,-0.5071849855324412,-0.3042564415486384,-0.28127760168157145,-0.1978515157231673,-0.6112803519061308,-0.1901388517965667,-0.4995234388564791,-0.3018452026330432,-0.12998944248715075,-0.42136057350233397,-0.19013774646737483,-0.6143604116498226,-0.5136327052495498,-0.09318321678296379,0.16298749894335146,-0.19919627473090767,-0.5072077383945701,-0.6111399461441077,-0.5071935574751995,-0.19780484042904456,-0.6384904690873288,-0.19012382643837722,-0.6111523418601404,-0.4027306226018268,-0.6682559146434727,-0.4995702762170487,-0.49951678057906407,-0.04030289440645767,-0.6244038772137184,-0.49962771101083037,-0.6111605940247461,-0.6111479417020588,-0.09025929324294263,-0.6111341143835239,-0.4998041351672528,-0.6132051322329599,-0.4091219471568763,-0.49990889565789,-0.6111629036577092,-0.6114016406389824,-0.49963685990954365,-0.6112074355958855,-0.12995669708736654,-0.10419548175788954,-0.3996880929741082,-0.03971410355632001,-0.3085094373304171,-0.6113064719330218,-0.2981453092413831,-0.6840461455322384,-0.04016526181219772,-0.04021896653037144,-0.09092968167013542,-0.12995952312878148,-0.04100023098208351,-0.06643009590619676,-0.6111740260034751,-0.3017499875045858],\"type\":\"scatter3d\"},{\"customdata\":[[\"SHA-256\"],[\"Ethash\"],[\"Scrypt\"],[\"CryptoNight-V7\"],[\"Ethash\"],[\"Equihash\"],[\"Multiple\"],[\"Scrypt\"],[\"X11\"],[\"Scrypt\"],[\"Multiple\"],[\"Scrypt\"],[\"SHA-256\"],[\"Scrypt\"],[\"Scrypt\"],[\"Quark\"],[\"Groestl\"],[\"Scrypt\"],[\"Scrypt\"],[\"Scrypt\"],[\"X11\"],[\"Multiple\"],[\"SHA-256\"],[\"Scrypt\"],[\"Scrypt\"],[\"Scrypt\"],[\"Scrypt\"],[\"Scrypt\"],[\"NeoScrypt\"],[\"Scrypt\"],[\"Scrypt\"],[\"Scrypt\"],[\"Scrypt\"],[\"SHA-256\"],[\"Scrypt\"],[\"Scrypt\"],[\"Scrypt\"],[\"Scrypt\"],[\"HybridScryptHash256\"],[\"Scrypt\"],[\"Scrypt\"],[\"SHA-256\"],[\"Scrypt\"],[\"Scrypt\"],[\"Scrypt\"],[\"Scrypt\"],[\"SHA-256\"],[\"SHA-256\"],[\"SHA-256\"],[\"SHA-256\"],[\"SHA-256\"],[\"X11\"],[\"Scrypt\"],[\"Lyra2REv2\"],[\"Scrypt\"],[\"SHA-256\"],[\"CryptoNight\"],[\"CryptoNight\"],[\"Scrypt\"],[\"Scrypt\"],[\"Scrypt\"],[\"Scrypt\"],[\"Scrypt\"],[\"Scrypt\"],[\"Stanford Folding\"],[\"Multiple\"],[\"QuBit\"],[\"Scrypt\"],[\"Scrypt\"],[\"M7 POW\"],[\"Scrypt\"],[\"SHA-256\"],[\"Scrypt\"],[\"X11\"],[\"Lyra2RE\"],[\"SHA-256\"],[\"X11\"],[\"Scrypt\"],[\"Scrypt\"],[\"Ethash\"],[\"Blake2b\"],[\"X11\"],[\"SHA-256\"],[\"Scrypt\"],[\"1GB AES Pattern Search\"],[\"Scrypt\"],[\"SHA-256\"],[\"X11\"],[\"Dagger\"],[\"Scrypt\"],[\"X11GOST\"],[\"Scrypt\"],[\"X11\"],[\"Scrypt\"],[\"X11\"],[\"Equihash\"],[\"CryptoNight\"],[\"SHA-256\"],[\"Multiple\"],[\"Scrypt\"],[\"SHA-256\"],[\"Scrypt\"],[\"Lyra2Z\"],[\"Ethash\"],[\"Equihash\"],[\"Scrypt\"],[\"X11\"],[\"X11\"],[\"CryptoNight\"],[\"Scrypt\"],[\"CryptoNight\"],[\"Lyra2RE\"],[\"X11\"],[\"CryptoNight-V7\"],[\"Scrypt\"],[\"X11\"],[\"Equihash\"],[\"Scrypt\"],[\"Lyra2RE\"],[\"Dagger-Hashimoto\"],[\"Scrypt\"],[\"NIST5\"],[\"Scrypt\"],[\"SHA-256\"],[\"Scrypt\"],[\"CryptoNight-V7\"],[\"Argon2d\"],[\"Blake2b\"],[\"Cloverhash\"],[\"CryptoNight\"],[\"X11\"],[\"Scrypt\"],[\"Scrypt\"],[\"X11\"],[\"X11\"],[\"CryptoNight\"],[\"Time Travel\"],[\"Scrypt\"],[\"Keccak\"],[\"X11\"],[\"SHA-256\"],[\"Scrypt\"],[\"Scrypt\"],[\"Scrypt\"],[\"Scrypt\"],[\"Scrypt\"],[\"Scrypt\"],[\"CryptoNight\"],[\"Equihash\"],[\"X11\"],[\"NeoScrypt\"],[\"Equihash\"],[\"Dagger\"],[\"Scrypt\"],[\"X11\"],[\"NeoScrypt\"],[\"Ethash\"],[\"NeoScrypt\"],[\"Multiple\"],[\"CryptoNight\"],[\"CryptoNight\"],[\"Ethash\"],[\"X11\"],[\"CryptoNight-V7\"],[\"Scrypt\"],[\"BLAKE256\"],[\"X11\"],[\"NeoScrypt\"],[\"NeoScrypt\"],[\"Scrypt\"],[\"X11\"],[\"SHA-256\"],[\"C11\"],[\"CryptoNight\"],[\"SkunkHash\"],[\"CryptoNight\"],[\"Scrypt\"],[\"Dagger\"],[\"Lyra2REv2\"],[\"Scrypt\"],[\"Scrypt\"],[\"X11\"],[\"Ethash\"],[\"CryptoNight\"],[\"Scrypt\"],[\"IMesh\"],[\"Equihash\"],[\"Lyra2Z\"],[\"X11\"],[\"CryptoNight\"],[\"NIST5\"],[\"Lyra2RE\"],[\"Tribus\"],[\"Lyra2Z\"],[\"CryptoNight\"],[\"CryptoNight Heavy\"],[\"CryptoNight\"],[\"Jump Consistent Hash\"],[\"CryptoNight\"],[\"X16R\"],[\"HMQ1725\"],[\"X11\"],[\"Scrypt\"],[\"CryptoNight-V7\"],[\"Cryptonight-GPU\"],[\"XEVAN\"],[\"CryptoNight Heavy\"],[\"SHA-256\"],[\"X11\"],[\"X16R\"],[\"Equihash\"],[\"Lyra2Z\"],[\"SHA-256\"],[\"CryptoNight\"],[\"Blake\"],[\"Blake\"],[\"Equihash\"],[\"Exosis\"],[\"Scrypt\"],[\"Equihash\"],[\"Equihash\"],[\"QuBit\"],[\"SHA-256\"],[\"X13\"],[\"SHA-256\"],[\"Scrypt\"],[\"NeoScrypt\"],[\"Blake\"],[\"Scrypt\"],[\"SHA-256\"],[\"Scrypt\"],[\"Groestl\"],[\"Scrypt\"],[\"Scrypt\"],[\"Multiple\"],[\"Equihash+Scrypt\"],[\"Ethash\"],[\"CryptoNight\"],[\"Equihash\"]],\"hovertemplate\":\"<b>%{hovertext}</b><br><br>Class=%{marker.color}<br>PC 1=%{x}<br>PC 2=%{y}<br>PC 3=%{z}<br>Algorithm=%{customdata[0]}<extra></extra>\",\"hovertext\":[\"Bitcoin\",\"Ethereum\",\"Litecoin\",\"Monero\",\"Ethereum Classic\",\"ZCash\",\"DigiByte\",\"ProsperCoin\",\"Spreadcoin\",\"Argentum\",\"MyriadCoin\",\"MoonCoin\",\"ZetaCoin\",\"SexCoin\",\"Quatloo\",\"QuarkCoin\",\"Riecoin\",\"Digitalcoin \",\"Catcoin\",\"CannaCoin\",\"CryptCoin\",\"Verge\",\"DevCoin\",\"EarthCoin\",\"E-Gulden\",\"Einsteinium\",\"Emerald\",\"Franko\",\"FeatherCoin\",\"GrandCoin\",\"GlobalCoin\",\"GoldCoin\",\"Infinite Coin\",\"IXcoin\",\"KrugerCoin\",\"LuckyCoin\",\"Litebar \",\"MegaCoin\",\"MediterraneanCoin\",\"MinCoin\",\"NobleCoin\",\"Namecoin\",\"NyanCoin\",\"RonPaulCoin\",\"StableCoin\",\"SmartCoin\",\"SysCoin\",\"TigerCoin\",\"TerraCoin\",\"UnbreakableCoin\",\"Unobtanium\",\"UroCoin\",\"ViaCoin\",\"Vertcoin\",\"WorldCoin\",\"JouleCoin\",\"ByteCoin\",\"DigitalNote \",\"MonaCoin\",\"Gulden\",\"PesetaCoin\",\"Wild Beast Coin\",\"Flo\",\"ArtByte\",\"Folding Coin\",\"Unitus\",\"CypherPunkCoin\",\"OmniCron\",\"GreenCoin\",\"Cryptonite\",\"MasterCoin\",\"SoonCoin\",\"1Credit\",\"MarsCoin \",\"Crypto\",\"Anarchists Prime\",\"BowsCoin\",\"Song Coin\",\"BitZeny\",\"Expanse\",\"Siacoin\",\"MindCoin\",\"I0coin\",\"Revolution VR\",\"HOdlcoin\",\"Gamecredits\",\"CarpeDiemCoin\",\"Adzcoin\",\"SoilCoin\",\"YoCoin\",\"SibCoin\",\"Francs\",\"BolivarCoin\",\"Omni\",\"PizzaCoin\",\"Komodo\",\"Karbo\",\"ZayedCoin\",\"Circuits of Value\",\"DopeCoin\",\"DollarCoin\",\"Shilling\",\"ZCoin\",\"Elementrem\",\"ZClassic\",\"KiloCoin\",\"ArtexCoin\",\"Kurrent\",\"Cannabis Industry Coin\",\"OsmiumCoin\",\"Bikercoins\",\"HexxCoin\",\"PacCoin\",\"Citadel\",\"BeaverCoin\",\"VaultCoin\",\"Zero\",\"Canada eCoin\",\"Zoin\",\"DubaiCoin\",\"EB3coin\",\"Coinonat\",\"BenjiRolls\",\"ILCoin\",\"EquiTrader\",\"Quantum Resistant Ledger\",\"Dynamic\",\"Nano\",\"ChanCoin\",\"Dinastycoin\",\"DigitalPrice\",\"Unify\",\"SocialCoin\",\"ArcticCoin\",\"DAS\",\"LeviarCoin\",\"Bitcore\",\"gCn Coin\",\"SmartCash\",\"Onix\",\"Bitcoin Cash\",\"Sojourn Coin\",\"NewYorkCoin\",\"FrazCoin\",\"Kronecoin\",\"AdCoin\",\"Linx\",\"Sumokoin\",\"BitcoinZ\",\"Elements\",\"VIVO Coin\",\"Bitcoin Gold\",\"Pirl\",\"eBoost\",\"Pura\",\"Innova\",\"Ellaism\",\"GoByte\",\"SHIELD\",\"UltraNote\",\"BitCoal\",\"DaxxCoin\",\"AC3\",\"Lethean\",\"PopularCoin\",\"Photon\",\"Sucre\",\"SparksPay\",\"GunCoin\",\"IrishCoin\",\"Pioneer Coin\",\"UnitedBitcoin\",\"Interzone\",\"TurtleCoin\",\"MUNcoin\",\"Niobio Cash\",\"ShareChain\",\"Travelflex\",\"KREDS\",\"BitFlip\",\"LottoCoin\",\"Crypto Improvement Fund\",\"Callisto Network\",\"BitTube\",\"Poseidon\",\"Aidos Kuneen\",\"Bitrolium\",\"Alpenschillling\",\"FuturoCoin\",\"Monero Classic\",\"Jumpcoin\",\"Infinex\",\"KEYCO\",\"GINcoin\",\"PlatinCoin\",\"Loki\",\"Newton Coin\",\"MassGrid\",\"PluraCoin\",\"Motion\",\"PlusOneCoin\",\"Axe\",\"HexCoin\",\"Webchain\",\"Ryo\",\"Urals Coin\",\"Qwertycoin\",\"Project Pai\",\"Azart\",\"Xchange\",\"CrypticCoin\",\"Actinium\",\"Bitcoin SV\",\"FREDEnergy\",\"Universal Molecule\",\"Lithium\",\"PirateCash\",\"Exosis\",\"Block-Logic\",\"Beam\",\"Bithereum\",\"SLICE\",\"BLAST\",\"Bitcoin Rhodium\",\"GlobalToken\",\"SolarCoin\",\"UFO Coin\",\"BlakeCoin\",\"Crypto Escudo\",\"Crown Coin\",\"SmileyCoin\",\"Groestlcoin\",\"Bata\",\"Pakcoin\",\"JoinCoin\",\"Vollar\",\"Reality Clash\",\"Beldex\",\"Horizen\"],\"legendgroup\":\"0\",\"marker\":{\"color\":[0,0,0,0,0,0,0,0,0,0,0,0,0,0,0,0,0,0,0,0,0,0,0,0,0,0,0,0,0,0,0,0,0,0,0,0,0,0,0,0,0,0,0,0,0,0,0,0,0,0,0,0,0,0,0,0,0,0,0,0,0,0,0,0,0,0,0,0,0,0,0,0,0,0,0,0,0,0,0,0,0,0,0,0,0,0,0,0,0,0,0,0,0,0,0,0,0,0,0,0,0,0,0,0,0,0,0,0,0,0,0,0,0,0,0,0,0,0,0,0,0,0,0,0,0,0,0,0,0,0,0,0,0,0,0,0,0,0,0,0,0,0,0,0,0,0,0,0,0,0,0,0,0,0,0,0,0,0,0,0,0,0,0,0,0,0,0,0,0,0,0,0,0,0,0,0,0,0,0,0,0,0,0,0,0,0,0,0,0,0,0,0,0,0,0,0,0,0,0,0,0,0,0,0,0,0,0,0,0,0,0,0,0,0,0,0,0,0,0,0,0,0,0,0,0,0,0,0,0,0,0,0,0,0,0,0,0,0,0],\"coloraxis\":\"coloraxis\",\"symbol\":\"diamond\"},\"mode\":\"markers\",\"name\":\"0\",\"scene\":\"scene\",\"showlegend\":true,\"x\":[-0.1418412785699798,-0.14973229171590607,-0.16491245416176525,-0.15583637478945717,-0.14817751119973338,-0.15619970711799058,0.16133992343089748,-0.16605685222022631,-0.23019659542760704,-0.1656741300465188,-0.09163031484322223,2.5501338425896365,-0.13893083469565468,-0.16293413558366304,-0.16547861493719257,-0.23049032322024604,-0.20942596583988476,-0.1655270339844778,-0.16603914132717884,-0.166125440371106,-0.23028581032502587,0.1850829730182498,0.2353965566209629,0.08220592313613331,-0.165872109374627,-0.16148469722336026,-0.16581154338866816,-0.16618235852849417,-0.1818595753832118,-0.14543958918855568,-0.16497936004932717,-0.1652564589886355,1.5799454745332806,-0.1418026982958905,-0.1625504549125386,-0.16589851098325786,-0.16625275895939076,-0.165513199615993,-0.15574844171355307,-0.1661342281000669,-0.031298712187064204,-0.1418802077921218,-0.15980821214586136,-0.1661137574648217,-0.1642118479711556,-0.1656013367307374,-0.12905383863382214,-0.14134481873192012,-0.1416316218487745,-0.14161484032150565,-0.14220433395389295,-0.2304593781746896,-0.1658306271240181,-0.20748126227936695,-0.162938929194187,-0.14141201470413012,3.848378011610536,0.45274517369843015,-0.1647001525120552,-0.14932786496261008,-0.16342097910187545,-0.16625497250430274,-0.16328615866175497,-0.1495324056728206,-0.11922948885522049,-0.1255815001418419,-0.18538318685560226,-0.1661282195081818,-0.03928723933439332,-0.127103026741121,-0.1662638422964201,-0.1419079491674057,0.4845317662073478,-0.22984754551523368,-0.161574673110128,-0.14164833233009358,-0.230132006770678,-0.16439123348348264,-0.16358474782179894,-0.15079845509541803,0.35639939383184577,-0.23016732962402042,-0.14180381918680643,-0.16222812963112332,-0.1439098184877364,-0.1648295287457337,0.27601508969422855,-0.2293295224839119,-0.156247982959563,-0.16507710295161845,-0.18340541806432928,-0.1660541352877634,-0.23013067107193483,-0.1662639006982679,-0.23028044708990908,-0.2786422251000489,0.29790732367553524,-0.14206350307651222,-0.10568658458455815,-0.16343540927523809,-0.1420221915871014,-0.16592790254818976,-0.15665203787192564,-0.1505409992343269,-0.15622129607424348,-0.09314100452920084,-0.21688385997286797,-0.22811255510692782,0.29790163339209,-0.16624567402175836,0.29803215707076947,-0.1621141032733088,0.4834757102473898,-0.15460371957299446,-0.16621400599106276,-0.22302940421321754,-0.1562336324157837,-0.16435023923104924,-0.1618329109618896,-0.1358620099215875,-0.1371978415326171,-0.1924651472924218,-0.1657771320893136,-0.10844634588954136,-0.1655996325124998,-0.15446119236627254,-0.15571630872948788,-0.043385299776353525,-0.13914136401139218,0.3339656139004113,-0.22933799472979616,-0.16591818366338948,-0.16568218397644974,-0.22973193775322961,-0.23030840907732406,0.29829592277323347,-0.1680027524747343,3.2378833907421036,-0.13330137238568632,-0.22119845567117769,-0.14184044387339773,-0.09199303691339489,1.5784847895541891,-0.1660159080935019,-0.1654686224338346,-0.16517007590896116,-0.16515702381824734,0.2984790984693433,0.05569914921998341,-0.18476460183478874,-0.1865404876424117,-0.15607990616074513,-0.15500939939420397,-0.16434845071309476,-0.225860483317506,-0.18638620136184703,-0.14890974877821533,-0.18648620225978602,-0.1158297097384769,1.134278634532693,0.29788447311472943,-0.07395109671320396,-0.2256035149508794,-0.14359242538966718,-0.08254041475313603,1.0817676766894024,-0.23028244651778584,-0.18653801581684037,-0.17958761954465483,-0.16526812911911354,-0.2302079688388709,-0.14181986336720723,-0.21144220872314257,8.02005996152752,-0.14101236767493877,0.3017520545334708,0.026469589793119266,-0.1545129445800991,-0.19306377624807622,-0.16584097379932364,0.140733288777091,-0.22435916811512513,-0.10204419773754418,0.30579177237069954,-0.16607756995445955,-0.16520997096725867,-0.15507258296870666,-0.1544399940585522,-0.22937871424672734,0.2980667217359306,-0.19252437844135833,-0.16195963420451046,-0.15822137874484343,-0.1567362435680539,0.30198656803851015,0.568365150562365,2.103170104931197,-0.1527634408462706,0.3116484880366336,-0.19486410627322,-0.14848415696768133,-0.2302646366342317,-0.16610212611077682,-0.1434766802594379,-0.1511938648420059,-0.16090879620090293,3.0866111689373508,-0.10173202551419391,-0.23023606190974868,-0.1942930099264753,-0.0510053584630833,-0.15613519101275908,-0.14184048139010058,0.37767803514969517,-0.14240455443919336,-0.14279562060217324,-0.27154435266614685,-0.1350497903778696,-0.16499641134950152,-0.15414388779933516,-0.15591299755661647,-0.18459574671647727,-0.1411178049788711,-0.11259477048166039,-0.13998779779324785,0.5283599133793375,-0.1118231033572365,-0.09336457794440409,-0.14968279640961388,-0.14163099311659177,0.5483644415316554,-0.20898765368665906,-0.16617876855074143,-0.16413812852058415,-0.12631544783396187,-0.11548238451760508,-0.15057410508192118,0.3196055558576372,-0.15620076269465727],\"y\":[-1.3326256596647286,-1.9907288826907337,-1.0588478049915393,-2.2534827827698325,-1.9907619449980436,-2.110309050864287,-1.81192374176352,-1.0588865379691135,-0.9362386645668064,-1.0588886891345892,-1.8169911732291266,-1.128430838002857,-1.3325192836233533,-1.0588201689923717,-1.0588994533628038,-0.4194060305860818,-1.26174180252286,-1.0588672277839442,-1.0588852670098254,-1.058886046449908,-0.9362436892748629,-1.8071584525698305,-1.3200036241951103,-1.0503543819257195,-1.0588732805554528,-1.0587504493064217,-1.0588765104034703,-1.058888819487551,-1.5745956298894657,-1.0583709818599836,-1.0588429638810959,-1.0588643956071555,-0.9959763557756123,-1.3326228910884834,-1.0588032564495957,-1.0588744864320792,-1.0588870627597593,-1.0588619882328123,-2.2320856318068696,-1.0588845144233805,-1.0595327500983438,-1.3326284532819788,-1.058655768672519,-1.0588906215717264,-1.0589118594803297,-1.0588746494965429,-1.3323051529148136,-1.3326079484972695,-1.3326250779558046,-1.3326500458461907,-1.33263742166867,-0.9362437474171139,-1.058871681211133,-1.2883136312305976,-1.0588311339256165,-1.33261138485257,-2.1557339532814463,-2.2792465991785087,-1.0588471161276394,-1.0588286629376331,-1.058797517199143,-1.0588881018179077,-1.0587834439896018,-1.0583749972118266,-2.0883663803113253,-1.8180500774156372,-1.4255374534323133,-1.058879517806325,-1.056662313480561,-2.1976852633331516,-1.058887354975612,-1.3326304440431715,-1.0755490643543475,-0.9362225698731883,-2.2113807710574402,-1.3326343767179636,-0.9362347183323921,-1.058897348102852,-1.0588668578670906,-1.9908170362444195,-2.0994818748601967,-0.936233809446536,-1.332622971525236,-1.0587419553456403,-2.2401188189918453,-1.0588418541438043,-1.3175201242422518,-0.9362205215813326,-2.2677601534855527,-1.0589177166232921,-2.2928071919423036,-1.0588856542571372,-0.9362373774446188,-1.058887357079728,-0.9362481255881812,-1.7778589742284971,-2.2834774647880844,-1.332633848838214,-1.817448878685356,-1.0588217040683698,-1.3326315057156188,-1.058883483023014,-2.186299366625525,-1.9908049655397806,-2.1103106001189955,-1.0605269375206903,-0.9356139190938884,-0.9362323689435089,-2.283485449281773,-1.0588874939740625,-2.283478837677808,-2.2113810571059336,-0.9538848309020765,-2.2535217427299417,-1.0588856661600907,-0.9363993027198221,-2.1103087304287995,-1.0588184794909774,-2.211368454490592,-2.092378144884509,-1.0595560739829089,-0.7041534382985152,-1.0588764656426122,-1.3319365798971183,-1.0588888530116543,-2.253456415493571,-2.220748291788325,-2.128405368802122,-2.2707432714812525,-2.2822604642963364,-0.936232149417541,-1.058875400074571,-1.058896843246966,-0.9362328696993861,-0.9362459308608734,-2.2834798829579745,-2.298650383151287,-0.9523485968730119,-1.1504408121373937,-0.9363367853031468,-1.3326255997656888,-1.060788928192495,-0.9336812443260988,-1.0588829110184168,-1.0588877164307215,-1.0588773121561212,-1.0588763755192239,-2.2834907674119576,-2.1095519795273447,-0.9342043579662629,-1.574718717958596,-2.1103004537744137,-2.267758263560644,-1.0588183511443436,-0.9361547834152807,-1.5747200434896163,-1.9908627032934156,-1.5747181283177445,-1.817804843882686,-2.28199434592869,-2.2834808264297974,-1.9921781243376162,-0.93627409118878,-2.253292523134947,-1.0563225189998007,-1.259418304219874,-0.9362446876169473,-1.5747144081309716,-1.5745455445740686,-1.058859553921133,-0.9362415469621641,-1.3326235484688416,-1.4578122620624143,-2.418058715902731,-2.2775649691324156,-2.283426090901645,-1.0519435083658282,-2.2676838564915465,-1.2879787724217868,-1.0588841323000813,-1.0495340116397576,-0.9361503580123084,-1.9917835324661244,-2.2835935189171774,-1.0588880247036712,-2.3609441380985654,-2.110261915113754,-2.186332510399372,-0.9362350715089391,-2.283471811577037,-0.7041389192423414,-2.211381184886018,-2.1801066243522365,-2.18629790207138,-2.283591089847626,-2.168324282765646,-2.2806506499092296,-2.1204470245330094,-2.2831732325346583,-1.142913998108572,-2.255553811734365,-0.9362442360431277,-1.0588905481288624,-2.253801129929344,-2.1917306790131392,-0.8090815812228224,-2.114560044640804,-1.3311792541710061,-0.9362449404434909,-1.1429266850675075,-2.1079801201861716,-2.1863053921327897,-1.332625602457942,-2.283311142884496,-2.227011223584157,-2.2269842627133722,-0.1919588976469726,-2.1379064265125582,-1.0588786245557844,-2.1103280598658376,-2.110295285064979,-1.425549819687103,-1.332603358015904,-0.34635394151555804,-1.3325938961281287,-1.0766052131024992,-1.572093258345384,-2.2282408303510466,-1.0583857894685003,-1.3326250328370741,-1.0420412183572483,-1.2617248121696012,-1.0588842670056338,-1.0588597348797042,-1.8181046750377305,-2.241887328398127,-1.9908061582852068,-2.282877871555811,-2.110309126613995],\"z\":[0.2027957300609588,0.4060599627680257,-0.008733325662734392,0.5025344934188088,0.40602579172986253,0.399649318692477,0.37358677053922573,-0.008693770100064939,0.10293278757211377,-0.008703549019555579,0.38153246464776824,-0.06569888638152695,0.20269333459713465,-0.008792724800177384,-0.008706337206149316,0.09508677561480239,0.24661491096062707,-0.008712397748866334,-0.008694535634124251,-0.00869204181708208,0.1029363291921478,0.3718613118656899,0.1897899979004646,-0.01730443350810761,-0.008701755408323011,-0.008847542922327388,-0.008702643025109504,-0.008689881117226652,0.3041457118551096,-0.009364772536298681,-0.008732635905689517,-0.008720305360954474,-0.06991489040278792,0.20279406247063683,-0.008806883312658153,-0.008700771525911487,-0.00868839315748057,-0.008713965626073726,0.5691006130362571,-0.00869215589392677,-0.012162371745636757,0.20279741273417906,-0.008914154478174237,-0.008691310432855152,-0.00873749707405897,-0.008708708850368212,0.20237938457905696,0.20277836276521624,0.20278997114316685,0.20279522311768436,0.2028081587934363,0.10294100010286464,-0.008703233836694461,0.3211391908620029,-0.008790091935004782,0.20278095075864672,0.3503097846551278,0.4696388725234944,-0.008739180028872308,-0.009155904368703017,-0.00878483386466312,-0.008688096452106622,-0.008791665838664678,-0.00925402620542541,0.36995933122024177,0.38268537092491745,0.22002211954472983,-0.008693458286597457,-0.012603568171359849,0.4728938769977067,-0.008688029002225017,0.20279861182490674,-0.02234660840395817,0.1029197451485817,0.5201554437716838,0.2027925432642552,0.10293015309613728,-0.008735997513566336,-0.008764602794905497,0.4061087058672708,0.5035608749089568,0.1029308933961857,0.20279411091992575,-0.008829533072890352,0.39513936540821337,-0.00873691002350714,0.18813281887284697,0.10290537638380128,0.4912573644233829,-0.008712940576827255,0.6143505113847605,-0.008694044834873047,0.10293072455546176,-0.008688026954482479,0.10293719846068565,0.31153561690308634,0.47476015928791415,0.2028035636644319,0.38201419290609284,-0.008778922709000478,0.2028019199503007,-0.008697928123914796,0.4557007641885312,0.40609904035792943,0.39965025185159464,-0.010275797834512528,0.10243286229756719,0.10287542525870945,0.47476213552619884,-0.008688484796239113,0.4747571229758167,0.5201699845186774,0.08781176979873494,0.5025103134367864,-0.008689752042614995,0.10277714593388927,0.3996501558830723,-0.00875511001689126,0.5201595605694614,0.3031636102345593,-0.009315279218375798,-0.011187069028534218,-0.008703576662886113,0.20174221311266013,-0.008705510707417144,0.5024915689845788,0.3994757137921879,0.5208946586577484,0.39656957545751925,0.4735146027120086,0.10290825936119158,-0.008700034953917727,-0.008701470615226378,0.10291899518477443,0.10293744756712447,0.4747502836431478,0.6189245658794542,-0.1243690100197036,0.1792135112603532,0.10271373501383159,0.20279569398210778,-0.010246768303243248,-0.0841029854765023,-0.008695697163703645,-0.008709285895012837,-0.008719673469548566,-0.008720237631951943,0.47474785403815134,0.39379018378672265,0.10124903022303687,0.3042994339946906,0.3996441404266018,0.4912236958401337,-0.008755187323631536,0.102797272308982,0.30429559650879423,0.40606845278689097,0.30429784260029774,0.3823676773263739,0.45197770822804756,0.47476154022441824,0.40435738678289507,0.10281762480363989,0.5021624788487654,-0.011520488590008187,0.1973323073130539,0.10293646693229552,0.3042983833625515,0.30407330597021903,-0.008721097967380022,0.10293375107051221,0.20279467322531244,0.30001794409970917,0.29827531231680887,0.49861668224101,0.47464525425069054,-0.015445835480515648,0.49119338016476843,0.3206758258691999,-0.008700112540772234,-0.019062355242366203,0.10275597434905313,0.40502113620569197,0.4745750879600214,-0.008692874598570955,0.5990583700551543,0.39960830759865273,0.4556489743279435,0.10291001941795455,0.4747545907866286,-0.011188795521601975,0.5201658685789334,0.5126194534224562,0.4557026893358747,0.47467664450892416,0.40316364171749536,0.42567096767879337,0.4570637435137172,0.474321937805168,0.21182452339825653,0.36680028555977884,0.10293588587751369,-0.008691639329404114,0.5022755312197249,0.4609078261392609,0.1998509924467431,0.32330843480645216,0.20138907458367195,0.10293527995962254,0.21181209574551652,0.39629457184668215,0.4556882709235093,0.20279569560372623,0.47258155496062176,0.43415544255161953,0.4341597792054009,0.10657147335102846,0.38057051125211555,-0.008724033963717664,0.3995984928857776,0.39963848103561056,0.22000381313867928,0.20277122253263583,-0.08160555744629236,0.20273873823261157,-0.023281512315053748,0.30169480284165423,0.4331202963170717,-0.009247525729650357,0.20278994396690314,-0.0317122374620079,0.24659926866086457,-0.008691017173274506,-0.008751379805617422,0.38271753544982273,0.426605618100555,0.406100201147249,0.47404095657731604,0.39964936431862924],\"type\":\"scatter3d\"},{\"customdata\":[[\"VeChainThor Authority\"],[\"Proof-of-BibleHash\"],[\"SHA-256 + Hive\"],[\"Proof-of-Authority\"],[\"ECC 256K1\"],[\"Leased POS\"]],\"hovertemplate\":\"<b>%{hovertext}</b><br><br>Class=%{marker.color}<br>PC 1=%{x}<br>PC 2=%{y}<br>PC 3=%{z}<br>Algorithm=%{customdata[0]}<extra></extra>\",\"hovertext\":[\"Vechain\",\"BiblePay\",\"LitecoinCash\",\"Poa Network\",\"Acute Angle Cloud\",\"Waves\"],\"legendgroup\":\"2\",\"marker\":{\"color\":[2,2,2,2,2,2],\"coloraxis\":\"coloraxis\",\"symbol\":\"square\"},\"mode\":\"markers\",\"name\":\"2\",\"scene\":\"scene\",\"showlegend\":true,\"x\":[4.476478318945977,-0.17372408592625024,-0.3946304063527966,-0.4644617214665401,-0.39069982148761234,-0.3976715971938499],\"y\":[1.1603722256274842,3.345040348898291,3.8340352566365086,5.725709209913507,5.283601944923911,2.3476108307073598],\"z\":[8.91890643444616,16.795143439807543,13.60342944653324,9.171028671008795,6.440781224415641,17.62017211748164],\"type\":\"scatter3d\"},{\"customdata\":[[\"TRC10\"]],\"hovertemplate\":\"<b>%{hovertext}</b><br><br>Class=%{marker.color}<br>PC 1=%{x}<br>PC 2=%{y}<br>PC 3=%{z}<br>Algorithm=%{customdata[0]}<extra></extra>\",\"hovertext\":[\"BitTorrent\"],\"legendgroup\":\"3\",\"marker\":{\"color\":[3],\"coloraxis\":\"coloraxis\",\"symbol\":\"x\"},\"mode\":\"markers\",\"name\":\"3\",\"scene\":\"scene\",\"showlegend\":true,\"x\":[34.03148060319357],\"y\":[2.503511896871869],\"z\":[-1.4372489799334005],\"type\":\"scatter3d\"}],                        {\"template\":{\"data\":{\"bar\":[{\"error_x\":{\"color\":\"#2a3f5f\"},\"error_y\":{\"color\":\"#2a3f5f\"},\"marker\":{\"line\":{\"color\":\"#E5ECF6\",\"width\":0.5},\"pattern\":{\"fillmode\":\"overlay\",\"size\":10,\"solidity\":0.2}},\"type\":\"bar\"}],\"barpolar\":[{\"marker\":{\"line\":{\"color\":\"#E5ECF6\",\"width\":0.5},\"pattern\":{\"fillmode\":\"overlay\",\"size\":10,\"solidity\":0.2}},\"type\":\"barpolar\"}],\"carpet\":[{\"aaxis\":{\"endlinecolor\":\"#2a3f5f\",\"gridcolor\":\"white\",\"linecolor\":\"white\",\"minorgridcolor\":\"white\",\"startlinecolor\":\"#2a3f5f\"},\"baxis\":{\"endlinecolor\":\"#2a3f5f\",\"gridcolor\":\"white\",\"linecolor\":\"white\",\"minorgridcolor\":\"white\",\"startlinecolor\":\"#2a3f5f\"},\"type\":\"carpet\"}],\"choropleth\":[{\"colorbar\":{\"outlinewidth\":0,\"ticks\":\"\"},\"type\":\"choropleth\"}],\"contour\":[{\"colorbar\":{\"outlinewidth\":0,\"ticks\":\"\"},\"colorscale\":[[0.0,\"#0d0887\"],[0.1111111111111111,\"#46039f\"],[0.2222222222222222,\"#7201a8\"],[0.3333333333333333,\"#9c179e\"],[0.4444444444444444,\"#bd3786\"],[0.5555555555555556,\"#d8576b\"],[0.6666666666666666,\"#ed7953\"],[0.7777777777777778,\"#fb9f3a\"],[0.8888888888888888,\"#fdca26\"],[1.0,\"#f0f921\"]],\"type\":\"contour\"}],\"contourcarpet\":[{\"colorbar\":{\"outlinewidth\":0,\"ticks\":\"\"},\"type\":\"contourcarpet\"}],\"heatmap\":[{\"colorbar\":{\"outlinewidth\":0,\"ticks\":\"\"},\"colorscale\":[[0.0,\"#0d0887\"],[0.1111111111111111,\"#46039f\"],[0.2222222222222222,\"#7201a8\"],[0.3333333333333333,\"#9c179e\"],[0.4444444444444444,\"#bd3786\"],[0.5555555555555556,\"#d8576b\"],[0.6666666666666666,\"#ed7953\"],[0.7777777777777778,\"#fb9f3a\"],[0.8888888888888888,\"#fdca26\"],[1.0,\"#f0f921\"]],\"type\":\"heatmap\"}],\"heatmapgl\":[{\"colorbar\":{\"outlinewidth\":0,\"ticks\":\"\"},\"colorscale\":[[0.0,\"#0d0887\"],[0.1111111111111111,\"#46039f\"],[0.2222222222222222,\"#7201a8\"],[0.3333333333333333,\"#9c179e\"],[0.4444444444444444,\"#bd3786\"],[0.5555555555555556,\"#d8576b\"],[0.6666666666666666,\"#ed7953\"],[0.7777777777777778,\"#fb9f3a\"],[0.8888888888888888,\"#fdca26\"],[1.0,\"#f0f921\"]],\"type\":\"heatmapgl\"}],\"histogram\":[{\"marker\":{\"pattern\":{\"fillmode\":\"overlay\",\"size\":10,\"solidity\":0.2}},\"type\":\"histogram\"}],\"histogram2d\":[{\"colorbar\":{\"outlinewidth\":0,\"ticks\":\"\"},\"colorscale\":[[0.0,\"#0d0887\"],[0.1111111111111111,\"#46039f\"],[0.2222222222222222,\"#7201a8\"],[0.3333333333333333,\"#9c179e\"],[0.4444444444444444,\"#bd3786\"],[0.5555555555555556,\"#d8576b\"],[0.6666666666666666,\"#ed7953\"],[0.7777777777777778,\"#fb9f3a\"],[0.8888888888888888,\"#fdca26\"],[1.0,\"#f0f921\"]],\"type\":\"histogram2d\"}],\"histogram2dcontour\":[{\"colorbar\":{\"outlinewidth\":0,\"ticks\":\"\"},\"colorscale\":[[0.0,\"#0d0887\"],[0.1111111111111111,\"#46039f\"],[0.2222222222222222,\"#7201a8\"],[0.3333333333333333,\"#9c179e\"],[0.4444444444444444,\"#bd3786\"],[0.5555555555555556,\"#d8576b\"],[0.6666666666666666,\"#ed7953\"],[0.7777777777777778,\"#fb9f3a\"],[0.8888888888888888,\"#fdca26\"],[1.0,\"#f0f921\"]],\"type\":\"histogram2dcontour\"}],\"mesh3d\":[{\"colorbar\":{\"outlinewidth\":0,\"ticks\":\"\"},\"type\":\"mesh3d\"}],\"parcoords\":[{\"line\":{\"colorbar\":{\"outlinewidth\":0,\"ticks\":\"\"}},\"type\":\"parcoords\"}],\"pie\":[{\"automargin\":true,\"type\":\"pie\"}],\"scatter\":[{\"marker\":{\"colorbar\":{\"outlinewidth\":0,\"ticks\":\"\"}},\"type\":\"scatter\"}],\"scatter3d\":[{\"line\":{\"colorbar\":{\"outlinewidth\":0,\"ticks\":\"\"}},\"marker\":{\"colorbar\":{\"outlinewidth\":0,\"ticks\":\"\"}},\"type\":\"scatter3d\"}],\"scattercarpet\":[{\"marker\":{\"colorbar\":{\"outlinewidth\":0,\"ticks\":\"\"}},\"type\":\"scattercarpet\"}],\"scattergeo\":[{\"marker\":{\"colorbar\":{\"outlinewidth\":0,\"ticks\":\"\"}},\"type\":\"scattergeo\"}],\"scattergl\":[{\"marker\":{\"colorbar\":{\"outlinewidth\":0,\"ticks\":\"\"}},\"type\":\"scattergl\"}],\"scattermapbox\":[{\"marker\":{\"colorbar\":{\"outlinewidth\":0,\"ticks\":\"\"}},\"type\":\"scattermapbox\"}],\"scatterpolar\":[{\"marker\":{\"colorbar\":{\"outlinewidth\":0,\"ticks\":\"\"}},\"type\":\"scatterpolar\"}],\"scatterpolargl\":[{\"marker\":{\"colorbar\":{\"outlinewidth\":0,\"ticks\":\"\"}},\"type\":\"scatterpolargl\"}],\"scatterternary\":[{\"marker\":{\"colorbar\":{\"outlinewidth\":0,\"ticks\":\"\"}},\"type\":\"scatterternary\"}],\"surface\":[{\"colorbar\":{\"outlinewidth\":0,\"ticks\":\"\"},\"colorscale\":[[0.0,\"#0d0887\"],[0.1111111111111111,\"#46039f\"],[0.2222222222222222,\"#7201a8\"],[0.3333333333333333,\"#9c179e\"],[0.4444444444444444,\"#bd3786\"],[0.5555555555555556,\"#d8576b\"],[0.6666666666666666,\"#ed7953\"],[0.7777777777777778,\"#fb9f3a\"],[0.8888888888888888,\"#fdca26\"],[1.0,\"#f0f921\"]],\"type\":\"surface\"}],\"table\":[{\"cells\":{\"fill\":{\"color\":\"#EBF0F8\"},\"line\":{\"color\":\"white\"}},\"header\":{\"fill\":{\"color\":\"#C8D4E3\"},\"line\":{\"color\":\"white\"}},\"type\":\"table\"}]},\"layout\":{\"annotationdefaults\":{\"arrowcolor\":\"#2a3f5f\",\"arrowhead\":0,\"arrowwidth\":1},\"autotypenumbers\":\"strict\",\"coloraxis\":{\"colorbar\":{\"outlinewidth\":0,\"ticks\":\"\"}},\"colorscale\":{\"diverging\":[[0,\"#8e0152\"],[0.1,\"#c51b7d\"],[0.2,\"#de77ae\"],[0.3,\"#f1b6da\"],[0.4,\"#fde0ef\"],[0.5,\"#f7f7f7\"],[0.6,\"#e6f5d0\"],[0.7,\"#b8e186\"],[0.8,\"#7fbc41\"],[0.9,\"#4d9221\"],[1,\"#276419\"]],\"sequential\":[[0.0,\"#0d0887\"],[0.1111111111111111,\"#46039f\"],[0.2222222222222222,\"#7201a8\"],[0.3333333333333333,\"#9c179e\"],[0.4444444444444444,\"#bd3786\"],[0.5555555555555556,\"#d8576b\"],[0.6666666666666666,\"#ed7953\"],[0.7777777777777778,\"#fb9f3a\"],[0.8888888888888888,\"#fdca26\"],[1.0,\"#f0f921\"]],\"sequentialminus\":[[0.0,\"#0d0887\"],[0.1111111111111111,\"#46039f\"],[0.2222222222222222,\"#7201a8\"],[0.3333333333333333,\"#9c179e\"],[0.4444444444444444,\"#bd3786\"],[0.5555555555555556,\"#d8576b\"],[0.6666666666666666,\"#ed7953\"],[0.7777777777777778,\"#fb9f3a\"],[0.8888888888888888,\"#fdca26\"],[1.0,\"#f0f921\"]]},\"colorway\":[\"#636efa\",\"#EF553B\",\"#00cc96\",\"#ab63fa\",\"#FFA15A\",\"#19d3f3\",\"#FF6692\",\"#B6E880\",\"#FF97FF\",\"#FECB52\"],\"font\":{\"color\":\"#2a3f5f\"},\"geo\":{\"bgcolor\":\"white\",\"lakecolor\":\"white\",\"landcolor\":\"#E5ECF6\",\"showlakes\":true,\"showland\":true,\"subunitcolor\":\"white\"},\"hoverlabel\":{\"align\":\"left\"},\"hovermode\":\"closest\",\"mapbox\":{\"style\":\"light\"},\"paper_bgcolor\":\"white\",\"plot_bgcolor\":\"#E5ECF6\",\"polar\":{\"angularaxis\":{\"gridcolor\":\"white\",\"linecolor\":\"white\",\"ticks\":\"\"},\"bgcolor\":\"#E5ECF6\",\"radialaxis\":{\"gridcolor\":\"white\",\"linecolor\":\"white\",\"ticks\":\"\"}},\"scene\":{\"xaxis\":{\"backgroundcolor\":\"#E5ECF6\",\"gridcolor\":\"white\",\"gridwidth\":2,\"linecolor\":\"white\",\"showbackground\":true,\"ticks\":\"\",\"zerolinecolor\":\"white\"},\"yaxis\":{\"backgroundcolor\":\"#E5ECF6\",\"gridcolor\":\"white\",\"gridwidth\":2,\"linecolor\":\"white\",\"showbackground\":true,\"ticks\":\"\",\"zerolinecolor\":\"white\"},\"zaxis\":{\"backgroundcolor\":\"#E5ECF6\",\"gridcolor\":\"white\",\"gridwidth\":2,\"linecolor\":\"white\",\"showbackground\":true,\"ticks\":\"\",\"zerolinecolor\":\"white\"}},\"shapedefaults\":{\"line\":{\"color\":\"#2a3f5f\"}},\"ternary\":{\"aaxis\":{\"gridcolor\":\"white\",\"linecolor\":\"white\",\"ticks\":\"\"},\"baxis\":{\"gridcolor\":\"white\",\"linecolor\":\"white\",\"ticks\":\"\"},\"bgcolor\":\"#E5ECF6\",\"caxis\":{\"gridcolor\":\"white\",\"linecolor\":\"white\",\"ticks\":\"\"}},\"title\":{\"x\":0.05},\"xaxis\":{\"automargin\":true,\"gridcolor\":\"white\",\"linecolor\":\"white\",\"ticks\":\"\",\"title\":{\"standoff\":15},\"zerolinecolor\":\"white\",\"zerolinewidth\":2},\"yaxis\":{\"automargin\":true,\"gridcolor\":\"white\",\"linecolor\":\"white\",\"ticks\":\"\",\"title\":{\"standoff\":15},\"zerolinecolor\":\"white\",\"zerolinewidth\":2}}},\"scene\":{\"domain\":{\"x\":[0.0,1.0],\"y\":[0.0,1.0]},\"xaxis\":{\"title\":{\"text\":\"PC 1\"}},\"yaxis\":{\"title\":{\"text\":\"PC 2\"}},\"zaxis\":{\"title\":{\"text\":\"PC 3\"}}},\"coloraxis\":{\"colorbar\":{\"title\":{\"text\":\"Class\"}},\"colorscale\":[[0.0,\"#0d0887\"],[0.1111111111111111,\"#46039f\"],[0.2222222222222222,\"#7201a8\"],[0.3333333333333333,\"#9c179e\"],[0.4444444444444444,\"#bd3786\"],[0.5555555555555556,\"#d8576b\"],[0.6666666666666666,\"#ed7953\"],[0.7777777777777778,\"#fb9f3a\"],[0.8888888888888888,\"#fdca26\"],[1.0,\"#f0f921\"]]},\"legend\":{\"title\":{\"text\":\"Class\"},\"tracegroupgap\":0,\"x\":0,\"y\":1},\"margin\":{\"t\":60},\"width\":1000},                        {\"responsive\": true}                    ).then(function(){\n",
       "                            \n",
       "var gd = document.getElementById('7d6f706a-02c1-4904-bcd9-743f20035c8c');\n",
       "var x = new MutationObserver(function (mutations, observer) {{\n",
       "        var display = window.getComputedStyle(gd).display;\n",
       "        if (!display || display === 'none') {{\n",
       "            console.log([gd, 'removed!']);\n",
       "            Plotly.purge(gd);\n",
       "            observer.disconnect();\n",
       "        }}\n",
       "}});\n",
       "\n",
       "// Listen for the removal of the full notebook cells\n",
       "var notebookContainer = gd.closest('#notebook-container');\n",
       "if (notebookContainer) {{\n",
       "    x.observe(notebookContainer, {childList: true});\n",
       "}}\n",
       "\n",
       "// Listen for the clearing of the current output cell\n",
       "var outputEl = gd.closest('.output');\n",
       "if (outputEl) {{\n",
       "    x.observe(outputEl, {childList: true});\n",
       "}}\n",
       "\n",
       "                        })                };                });            </script>        </div>"
      ]
     },
     "metadata": {},
     "output_type": "display_data"
    }
   ],
   "source": [
    "# Creating a 3D-Scatter with the PCA data and the clusters\n",
    "fig = px.scatter_3d(\n",
    "    clustered_df,\n",
    "    x=\"PC 1\",\n",
    "    y=\"PC 2\",\n",
    "    z=\"PC 3\",  \n",
    "    hover_name=\"CoinName\",\n",
    "    hover_data=[\"Algorithm\"],\n",
    "    color=\"Class\",\n",
    "    symbol=\"Class\",\n",
    "    width=1000,\n",
    ")\n",
    "\n",
    "fig.update_layout(legend=dict(x=0, y=1))\n",
    "fig.show()"
   ]
  },
  {
   "cell_type": "code",
   "execution_count": 119,
   "metadata": {},
   "outputs": [
    {
     "data": {},
     "metadata": {},
     "output_type": "display_data"
    },
    {
     "data": {
      "application/vnd.holoviews_exec.v0+json": "",
      "text/html": [
       "<div id='1291'>\n",
       "\n",
       "\n",
       "\n",
       "\n",
       "\n",
       "  <div class=\"bk-root\" id=\"6d217a37-22e0-4746-9b10-3e0125aa1e79\" data-root-id=\"1291\"></div>\n",
       "</div>\n",
       "<script type=\"application/javascript\">(function(root) {\n",
       "  function embed_document(root) {\n",
       "    var docs_json = {\"75bf44d4-b0b0-47e1-bbcf-8dc6d8fdcb6e\":{\"defs\":[{\"extends\":null,\"module\":null,\"name\":\"ReactiveHTML1\",\"overrides\":[],\"properties\":[]},{\"extends\":null,\"module\":null,\"name\":\"FlexBox1\",\"overrides\":[],\"properties\":[{\"default\":\"flex-start\",\"kind\":null,\"name\":\"align_content\"},{\"default\":\"flex-start\",\"kind\":null,\"name\":\"align_items\"},{\"default\":\"row\",\"kind\":null,\"name\":\"flex_direction\"},{\"default\":\"wrap\",\"kind\":null,\"name\":\"flex_wrap\"},{\"default\":\"flex-start\",\"kind\":null,\"name\":\"justify_content\"}]},{\"extends\":null,\"module\":null,\"name\":\"GridStack1\",\"overrides\":[],\"properties\":[{\"default\":\"warn\",\"kind\":null,\"name\":\"mode\"},{\"default\":null,\"kind\":null,\"name\":\"ncols\"},{\"default\":null,\"kind\":null,\"name\":\"nrows\"},{\"default\":true,\"kind\":null,\"name\":\"allow_resize\"},{\"default\":true,\"kind\":null,\"name\":\"allow_drag\"},{\"default\":[],\"kind\":null,\"name\":\"state\"}]},{\"extends\":null,\"module\":null,\"name\":\"click1\",\"overrides\":[],\"properties\":[{\"default\":\"\",\"kind\":null,\"name\":\"terminal_output\"},{\"default\":\"\",\"kind\":null,\"name\":\"debug_name\"},{\"default\":0,\"kind\":null,\"name\":\"clears\"}]},{\"extends\":null,\"module\":null,\"name\":\"TemplateActions1\",\"overrides\":[],\"properties\":[{\"default\":0,\"kind\":null,\"name\":\"open_modal\"},{\"default\":0,\"kind\":null,\"name\":\"close_modal\"}]},{\"extends\":null,\"module\":null,\"name\":\"MaterialTemplateActions1\",\"overrides\":[],\"properties\":[{\"default\":0,\"kind\":null,\"name\":\"open_modal\"},{\"default\":0,\"kind\":null,\"name\":\"close_modal\"}]}],\"roots\":{\"references\":[{\"attributes\":{},\"id\":\"1306\",\"type\":\"StringEditor\"},{\"attributes\":{\"editor\":{\"id\":\"1316\"},\"field\":\"TotalCoinsMined\",\"formatter\":{\"id\":\"1315\"},\"title\":\"TotalCoinsMined\"},\"id\":\"1317\",\"type\":\"TableColumn\"},{\"attributes\":{\"editor\":{\"id\":\"1306\"},\"field\":\"ProofType\",\"formatter\":{\"id\":\"1305\"},\"title\":\"ProofType\"},\"id\":\"1307\",\"type\":\"TableColumn\"},{\"attributes\":{\"data\":{\"Algorithm\":[\"Scrypt\",\"Scrypt\",\"X13\",\"SHA-256\",\"Ethash\",\"Scrypt\",\"X11\",\"CryptoNight-V7\",\"Ethash\",\"Equihash\",\"SHA-512\",\"Multiple\",\"SHA-256\",\"SHA-256\",\"Scrypt\",\"X15\",\"X11\",\"Scrypt\",\"Scrypt\",\"Scrypt\",\"Multiple\",\"Scrypt\",\"SHA-256\",\"Scrypt\",\"Scrypt\",\"Scrypt\",\"Quark\",\"Groestl\",\"Scrypt\",\"Scrypt\",\"Scrypt\",\"Scrypt\",\"Scrypt\",\"X11\",\"Scrypt\",\"Groestl\",\"Multiple\",\"SHA-256\",\"Scrypt\",\"Scrypt\",\"Scrypt\",\"Scrypt\",\"PoS\",\"Scrypt\",\"Scrypt\",\"NeoScrypt\",\"Scrypt\",\"Scrypt\",\"Scrypt\",\"Scrypt\",\"X11\",\"Scrypt\",\"X11\",\"SHA-256\",\"Scrypt\",\"Scrypt\",\"Scrypt\",\"SHA3\",\"Scrypt\",\"HybridScryptHash256\",\"Scrypt\",\"Scrypt\",\"SHA-256\",\"Scrypt\",\"X13\",\"Scrypt\",\"SHA-256\",\"Scrypt\",\"X13\",\"NeoScrypt\",\"Scrypt\",\"Scrypt\",\"Scrypt\",\"Scrypt\",\"Scrypt\",\"Scrypt\",\"X11\",\"X11\",\"SHA-256\",\"Multiple\",\"SHA-256\",\"PHI1612\",\"X11\",\"SHA-256\",\"SHA-256\",\"SHA-256\",\"X11\",\"Scrypt\",\"Scrypt\",\"Scrypt\",\"Scrypt\",\"Lyra2REv2\",\"Scrypt\",\"X11\",\"Multiple\",\"SHA-256\",\"X13\",\"Scrypt\",\"CryptoNight\",\"CryptoNight\",\"Shabal256\",\"Counterparty\",\"Scrypt\",\"SHA-256\",\"Groestl\",\"Scrypt\",\"Scrypt\",\"Scrypt\",\"X13\",\"Scrypt\",\"Scrypt\",\"Scrypt\",\"Scrypt\",\"X13\",\"Scrypt\",\"Stanford Folding\",\"X11\",\"Multiple\",\"QuBit\",\"Scrypt\",\"Scrypt\",\"Scrypt\",\"M7 POW\",\"Scrypt\",\"SHA-256\",\"Scrypt\",\"X11\",\"SHA3\",\"X11\",\"Lyra2RE\",\"SHA-256\",\"QUAIT\",\"X11\",\"X11\",\"Scrypt\",\"Scrypt\",\"Scrypt\",\"Ethash\",\"X13\",\"Blake2b\",\"SHA-256\",\"X15\",\"X11\",\"SHA-256\",\"BLAKE256\",\"Scrypt\",\"1GB AES Pattern Search\",\"SHA-256\",\"X11\",\"Scrypt\",\"SHA-256\",\"SHA-256\",\"NIST5\",\"Scrypt\",\"Scrypt\",\"X11\",\"Dagger\",\"Scrypt\",\"X11GOST\",\"X11\",\"Scrypt\",\"SHA-256\",\"Scrypt\",\"PoS\",\"Scrypt\",\"X11\",\"X11\",\"SHA-256\",\"SHA-256\",\"NIST5\",\"X11\",\"Scrypt\",\"POS 3.0\",\"Scrypt\",\"Scrypt\",\"Scrypt\",\"X13\",\"X11\",\"X11\",\"Equihash\",\"X11\",\"Scrypt\",\"CryptoNight\",\"SHA-256\",\"SHA-256\",\"X11\",\"Scrypt\",\"Multiple\",\"Scrypt\",\"Scrypt\",\"Scrypt\",\"SHA-256\",\"Scrypt\",\"Scrypt\",\"SHA-256D\",\"PoS\",\"Scrypt\",\"X11\",\"Lyra2Z\",\"PoS\",\"X13\",\"X14\",\"PoS\",\"SHA-256D\",\"Ethash\",\"Equihash\",\"DPoS\",\"X11\",\"Scrypt\",\"X11\",\"X13\",\"X11\",\"PoS\",\"Scrypt\",\"Scrypt\",\"X11\",\"PoS\",\"X11\",\"SHA-256\",\"Scrypt\",\"X11\",\"Scrypt\",\"Scrypt\",\"X11\",\"CryptoNight\",\"Scrypt\",\"Scrypt\",\"Scrypt\",\"Scrypt\",\"Quark\",\"QuBit\",\"Scrypt\",\"CryptoNight\",\"Lyra2RE\",\"Scrypt\",\"SHA-256\",\"X11\",\"Scrypt\",\"X11\",\"Scrypt\",\"CryptoNight-V7\",\"Scrypt\",\"Scrypt\",\"Scrypt\",\"X13\",\"X11\",\"Equihash\",\"Scrypt\",\"Scrypt\",\"Lyra2RE\",\"Scrypt\",\"Dagger-Hashimoto\",\"X11\",\"Blake2S\",\"X11\",\"Scrypt\",\"PoS\",\"X11\",\"NIST5\",\"PoS\",\"X11\",\"Scrypt\",\"Scrypt\",\"Scrypt\",\"SHA-256\",\"X11\",\"Scrypt\",\"Scrypt\",\"SHA-256\",\"PoS\",\"Scrypt\",\"X15\",\"SHA-256\",\"Scrypt\",\"POS 3.0\",\"CryptoNight-V7\",\"536\",\"Argon2d\",\"Blake2b\",\"Cloverhash\",\"CryptoNight\",\"NIST5\",\"X11\",\"NIST5\",\"Skein\",\"Scrypt\",\"X13\",\"Scrypt\",\"X11\",\"X11\",\"Scrypt\",\"CryptoNight\",\"X13\",\"Time Travel\",\"Scrypt\",\"Keccak\",\"SkunkHash v2 Raptor\",\"X11\",\"Skein\",\"SHA-256\",\"X11\",\"Scrypt\",\"VeChainThor Authority\",\"Scrypt\",\"PoS\",\"Scrypt\",\"Scrypt\",\"Scrypt\",\"Scrypt\",\"Scrypt\",\"Scrypt\",\"Scrypt\",\"CryptoNight\",\"SHA-512\",\"Ouroboros\",\"X11\",\"Equihash\",\"NeoScrypt\",\"X11\",\"Scrypt\",\"NeoScrypt\",\"Lyra2REv2\",\"Equihash\",\"Scrypt\",\"SHA-256\",\"NIST5\",\"PHI1612\",\"Dagger\",\"Scrypt\",\"Quark\",\"Scrypt\",\"POS 2.0\",\"Scrypt\",\"SHA-256\",\"X11\",\"NeoScrypt\",\"Ethash\",\"NeoScrypt\",\"X11\",\"DPoS\",\"NIST5\",\"X13\",\"Multiple\",\"Scrypt\",\"CryptoNight\",\"CryptoNight\",\"Ethash\",\"NIST5\",\"Quark\",\"X11\",\"CryptoNight-V7\",\"Scrypt\",\"Scrypt\",\"Scrypt\",\"X11\",\"BLAKE256\",\"X11\",\"NeoScrypt\",\"Quark\",\"NeoScrypt\",\"Scrypt\",\"Scrypt\",\"Scrypt\",\"X11\",\"X11\",\"SHA-256\",\"C11\",\"POS 3.0\",\"Ethash\",\"Scrypt\",\"CryptoNight\",\"SkunkHash\",\"Scrypt\",\"CryptoNight\",\"Scrypt\",\"Dagger\",\"Lyra2REv2\",\"X13\",\"Proof-of-BibleHash\",\"SHA-256 + Hive\",\"Scrypt\",\"Scrypt\",\"X11\",\"C11\",\"Proof-of-Authority\",\"X11\",\"XEVAN\",\"Scrypt\",\"VBFT\",\"Ethash\",\"CryptoNight\",\"Scrypt\",\"IMesh\",\"NIST5\",\"Scrypt\",\"Scrypt\",\"Equihash\",\"Scrypt\",\"Lyra2Z\",\"Green Protocol\",\"PoS\",\"Scrypt\",\"Semux BFT consensus\",\"X11\",\"Quark\",\"PoS\",\"CryptoNight\",\"X16R\",\"Scrypt\",\"NIST5\",\"Lyra2RE\",\"XEVAN\",\"Tribus\",\"Scrypt\",\"Lyra2Z\",\"CryptoNight\",\"CryptoNight Heavy\",\"CryptoNight\",\"Scrypt\",\"Scrypt\",\"Jump Consistent Hash\",\"SHA-256D\",\"CryptoNight\",\"Scrypt\",\"X15\",\"Scrypt\",\"Quark\",\"SHA-256\",\"DPoS\",\"X16R\",\"HMQ1725\",\"X11\",\"X16R\",\"Quark\",\"Quark\",\"Scrypt\",\"Lyra2REv2\",\"Quark\",\"Scrypt\",\"Scrypt\",\"CryptoNight-V7\",\"Cryptonight-GPU\",\"XEVAN\",\"CryptoNight Heavy\",\"X11\",\"X11\",\"Scrypt\",\"PoS\",\"SHA-256\",\"Keccak\",\"X11\",\"X11\",\"Scrypt\",\"SHA-512\",\"X16R\",\"ECC 256K1\",\"Equihash\",\"XEVAN\",\"Lyra2Z\",\"SHA-256\",\"XEVAN\",\"X11\",\"CryptoNight\",\"Quark\",\"Blake\",\"Blake\",\"Equihash\",\"Exosis\",\"Scrypt\",\"Scrypt\",\"Equihash\",\"Quark\",\"Equihash\",\"Quark\",\"Scrypt\",\"QuBit\",\"X11\",\"Scrypt\",\"XEVAN\",\"SHA-256D\",\"X11\",\"SHA-256\",\"X13\",\"SHA-256\",\"X11\",\"DPoS\",\"Scrypt\",\"Scrypt\",\"X11\",\"NeoScrypt\",\"Scrypt\",\"Blake\",\"Scrypt\",\"SHA-256\",\"Scrypt\",\"X11\",\"Scrypt\",\"Scrypt\",\"SHA-256\",\"X11\",\"SHA-256\",\"Scrypt\",\"Scrypt\",\"Scrypt\",\"Groestl\",\"X11\",\"Scrypt\",\"PoS\",\"Scrypt\",\"Scrypt\",\"X11\",\"SHA-256\",\"DPoS\",\"Scrypt\",\"Scrypt\",\"NeoScrypt\",\"Multiple\",\"X13\",\"Equihash+Scrypt\",\"DPoS\",\"Ethash\",\"DPoS\",\"SHA-256\",\"Leased POS\",\"PoS\",\"TRC10\",\"PoS\",\"SHA-256\",\"Scrypt\",\"CryptoNight\",\"Equihash\",\"Scrypt\"],\"Class\":{\"__ndarray__\":\"AQAAAAEAAAABAAAAAAAAAAAAAAAAAAAAAQAAAAAAAAAAAAAAAAAAAAEAAAAAAAAAAQAAAAEAAAAAAAAAAQAAAAAAAAAAAAAAAQAAAAEAAAAAAAAAAAAAAAAAAAAAAAAAAAAAAAEAAAAAAAAAAAAAAAAAAAABAAAAAAAAAAEAAAAAAAAAAAAAAAEAAAABAAAAAAAAAAAAAAAAAAAAAAAAAAAAAAAAAAAAAQAAAAEAAAAAAAAAAAAAAAAAAAAAAAAAAAAAAAEAAAABAAAAAAAAAAEAAAAAAAAAAAAAAAAAAAAAAAAAAQAAAAAAAAAAAAAAAQAAAAAAAAABAAAAAQAAAAEAAAAAAAAAAAAAAAAAAAABAAAAAQAAAAEAAAABAAAAAQAAAAAAAAAAAAAAAAAAAAEAAAABAAAAAAAAAAEAAAAAAAAAAQAAAAEAAAAAAAAAAAAAAAAAAAAAAAAAAQAAAAEAAAAAAAAAAQAAAAAAAAAAAAAAAQAAAAEAAAAAAAAAAQAAAAEAAAAAAAAAAAAAAAEAAAABAAAAAAAAAAEAAAABAAAAAAAAAAEAAAAAAAAAAQAAAAAAAAABAAAAAAAAAAEAAAABAAAAAAAAAAAAAAABAAAAAAAAAAAAAAAAAAAAAQAAAAAAAAAAAAAAAAAAAAAAAAAAAAAAAQAAAAEAAAAAAAAAAAAAAAAAAAABAAAAAAAAAAEAAAAAAAAAAAAAAAEAAAAAAAAAAQAAAAAAAAABAAAAAQAAAAAAAAAAAAAAAQAAAAAAAAAAAAAAAQAAAAEAAAAAAAAAAQAAAAAAAAABAAAAAQAAAAEAAAAAAAAAAAAAAAAAAAAAAAAAAQAAAAEAAAABAAAAAQAAAAEAAAAAAAAAAAAAAAEAAAABAAAAAQAAAAEAAAABAAAAAAAAAAEAAAABAAAAAQAAAAEAAAABAAAAAAAAAAEAAAAAAAAAAQAAAAEAAAAAAAAAAQAAAAAAAAABAAAAAQAAAAAAAAABAAAAAAAAAAEAAAAAAAAAAQAAAAAAAAABAAAAAQAAAAEAAAABAAAAAAAAAAEAAAABAAAAAQAAAAEAAAABAAAAAAAAAAAAAAABAAAAAQAAAAAAAAAAAAAAAQAAAAEAAAABAAAAAQAAAAEAAAAAAAAAAQAAAAEAAAABAAAAAQAAAAEAAAABAAAAAQAAAAEAAAAAAAAAAQAAAAEAAAABAAAAAQAAAAEAAAABAAAAAAAAAAAAAAAAAAAAAQAAAAEAAAABAAAAAQAAAAAAAAABAAAAAAAAAAEAAAABAAAAAAAAAAEAAAAAAAAAAAAAAAEAAAAAAAAAAAAAAAEAAAAAAAAAAQAAAAEAAAABAAAAAAAAAAEAAAABAAAAAAAAAAEAAAABAAAAAQAAAAEAAAABAAAAAQAAAAEAAAAAAAAAAQAAAAAAAAABAAAAAQAAAAEAAAABAAAAAAAAAAEAAAAAAAAAAQAAAAAAAAAAAAAAAAAAAAAAAAABAAAAAAAAAAEAAAABAAAAAAAAAAEAAAAAAAAAAAAAAAAAAAABAAAAAAAAAAEAAAAAAAAAAAAAAAAAAAABAAAAAAAAAAEAAAAAAAAAAQAAAAEAAAACAAAAAAAAAAEAAAAAAAAAAAAAAAAAAAAAAAAAAAAAAAEAAAABAAAAAAAAAAEAAAABAAAAAQAAAAAAAAABAAAAAAAAAAEAAAAAAAAAAQAAAAAAAAABAAAAAQAAAAEAAAABAAAAAAAAAAEAAAABAAAAAAAAAAEAAAABAAAAAQAAAAAAAAAAAAAAAAAAAAAAAAABAAAAAQAAAAEAAAABAAAAAAAAAAEAAAAAAAAAAAAAAAAAAAABAAAAAQAAAAAAAAAAAAAAAQAAAAEAAAAAAAAAAQAAAAAAAAAAAAAAAAAAAAEAAAAAAAAAAAAAAAEAAAABAAAAAQAAAAAAAAAAAAAAAAAAAAEAAAABAAAAAQAAAAAAAAAAAAAAAQAAAAAAAAAAAAAAAAAAAAAAAAABAAAAAgAAAAIAAAAAAAAAAAAAAAAAAAABAAAAAgAAAAEAAAABAAAAAQAAAAEAAAAAAAAAAAAAAAAAAAAAAAAAAQAAAAEAAAABAAAAAAAAAAEAAAAAAAAAAQAAAAEAAAABAAAAAQAAAAAAAAABAAAAAQAAAAAAAAABAAAAAQAAAAAAAAAAAAAAAQAAAAAAAAABAAAAAAAAAAAAAAAAAAAAAAAAAAEAAAABAAAAAAAAAAEAAAAAAAAAAQAAAAEAAAABAAAAAQAAAAEAAAABAAAAAAAAAAAAAAAAAAAAAQAAAAEAAAABAAAAAQAAAAEAAAABAAAAAAAAAAEAAAAAAAAAAAAAAAAAAAAAAAAAAQAAAAEAAAABAAAAAQAAAAAAAAABAAAAAQAAAAAAAAABAAAAAQAAAAAAAAACAAAAAAAAAAEAAAAAAAAAAAAAAAEAAAABAAAAAAAAAAEAAAAAAAAAAAAAAAAAAAAAAAAAAAAAAAEAAAAAAAAAAQAAAAAAAAABAAAAAQAAAAAAAAABAAAAAQAAAAEAAAABAAAAAQAAAAAAAAAAAAAAAAAAAAEAAAABAAAAAQAAAAAAAAABAAAAAAAAAAEAAAAAAAAAAQAAAAEAAAABAAAAAQAAAAAAAAABAAAAAQAAAAEAAAAAAAAAAQAAAAAAAAABAAAAAAAAAAEAAAABAAAAAQAAAAAAAAAAAAAAAQAAAAEAAAABAAAAAQAAAAEAAAABAAAAAAAAAAEAAAAAAAAAAQAAAAAAAAABAAAAAQAAAAIAAAABAAAAAwAAAAEAAAABAAAAAQAAAAAAAAAAAAAAAQAAAA==\",\"dtype\":\"int32\",\"order\":\"little\",\"shape\":[532]},\"CoinName\":[\"42 Coin\",\"404Coin\",\"EliteCoin\",\"Bitcoin\",\"Ethereum\",\"Litecoin\",\"Dash\",\"Monero\",\"Ethereum Classic\",\"ZCash\",\"Bitshares\",\"DigiByte\",\"BitcoinDark\",\"PayCoin\",\"ProsperCoin\",\"KoboCoin\",\"Spreadcoin\",\"Argentum\",\"Aurora Coin\",\"BlueCoin\",\"MyriadCoin\",\"MoonCoin\",\"ZetaCoin\",\"SexCoin\",\"Quatloo\",\"EnergyCoin\",\"QuarkCoin\",\"Riecoin\",\"Digitalcoin \",\"BitBar\",\"Catcoin\",\"CryptoBullion\",\"CannaCoin\",\"CryptCoin\",\"CasinoCoin\",\"Diamond\",\"Verge\",\"DevCoin\",\"EarthCoin\",\"E-Gulden\",\"Einsteinium\",\"Emerald\",\"Exclusive Coin\",\"FlutterCoin\",\"Franko\",\"FeatherCoin\",\"GrandCoin\",\"GlobalCoin\",\"GoldCoin\",\"HoboNickels\",\"HyperStake\",\"Infinite Coin\",\"IOCoin\",\"IXcoin\",\"KrugerCoin\",\"LuckyCoin\",\"Litebar \",\"MaxCoin\",\"MegaCoin\",\"MediterraneanCoin\",\"MintCoin\",\"MinCoin\",\"MazaCoin\",\"Nautilus Coin\",\"NavCoin\",\"NobleCoin\",\"Namecoin\",\"NyanCoin\",\"OpalCoin\",\"Orbitcoin\",\"PotCoin\",\"PhoenixCoin\",\"Reddcoin\",\"RonPaulCoin\",\"StableCoin\",\"SmartCoin\",\"SuperCoin\",\"SyncCoin\",\"SysCoin\",\"TeslaCoin\",\"TigerCoin\",\"TittieCoin\",\"TorCoin\",\"TerraCoin\",\"UnbreakableCoin\",\"Unobtanium\",\"UroCoin\",\"UnitaryStatus Dollar\",\"UltraCoin\",\"ViaCoin\",\"VeriCoin\",\"Vertcoin\",\"WorldCoin\",\"X11 Coin\",\"Crypti\",\"JouleCoin\",\"StealthCoin\",\"ZCC Coin\",\"ByteCoin\",\"DigitalNote \",\"BurstCoin\",\"StorjCoin\",\"MonaCoin\",\"Neutron\",\"FairCoin\",\"Gulden\",\"RubyCoin\",\"PesetaCoin\",\"Kore\",\"Wild Beast Coin\",\"Dnotes\",\"Flo\",\"8BIT Coin\",\"Sativa Coin\",\"ArtByte\",\"Folding Coin\",\"Ucoin\",\"Unitus\",\"CypherPunkCoin\",\"OmniCron\",\"Vtorrent\",\"GreenCoin\",\"Cryptonite\",\"MasterCoin\",\"SoonCoin\",\"1Credit\",\"IslaCoin\",\"Nexus\",\"MarsCoin \",\"Crypto\",\"Anarchists Prime\",\"Droidz\",\"BowsCoin\",\"Squall Coin\",\"Song Coin\",\"BitZeny\",\"Diggits\",\"Expanse\",\"Paycon\",\"Siacoin\",\"Emercoin\",\"EverGreenCoin\",\"MindCoin\",\"I0coin\",\"Decred\",\"Revolution VR\",\"HOdlcoin\",\"EDRCoin\",\"Hitcoin\",\"Gamecredits\",\"DubaiCoin\",\"CarpeDiemCoin\",\"PWR Coin\",\"BillaryCoin\",\"GPU Coin\",\"Adzcoin\",\"SoilCoin\",\"YoCoin\",\"SibCoin\",\"EuropeCoin\",\"ZeitCoin\",\"SwingCoin\",\"SafeExchangeCoin\",\"Nebuchadnezzar\",\"Francs\",\"BolivarCoin\",\"Ratecoin\",\"Revenu\",\"Clockcoin\",\"VIP Tokens\",\"BitSend\",\"Omni\",\"Let it Ride\",\"PutinCoin\",\"iBankCoin\",\"Frankywillcoin\",\"MudraCoin\",\"PizzaCoin\",\"Lutetium Coin\",\"Komodo\",\"GoldBlocks\",\"CarterCoin\",\"Karbo\",\"BitTokens\",\"ZayedCoin\",\"MustangCoin\",\"ZoneCoin\",\"Circuits of Value\",\"RootCoin\",\"DopeCoin\",\"BitCurrency\",\"DollarCoin\",\"Swiscoin\",\"Shilling\",\"BuzzCoin\",\"Opair\",\"PesoBit\",\"Halloween Coin\",\"ZCoin\",\"CoffeeCoin\",\"RoyalCoin\",\"GanjaCoin V2\",\"TeamUP\",\"LanaCoin\",\"Elementrem\",\"ZClassic\",\"ARK\",\"InsaneCoin\",\"KiloCoin\",\"ArtexCoin\",\"EmberCoin\",\"XenixCoin\",\"FreeCoin\",\"PLNCoin\",\"AquariusCoin\",\"Kurrent\",\"Creatio\",\"Eternity\",\"Eurocoin\",\"BitcoinFast\",\"Stakenet\",\"BitConnect Coin\",\"MoneyCoin\",\"Enigma\",\"Cannabis Industry Coin\",\"Russiacoin\",\"PandaCoin\",\"GameUnits\",\"GAKHcoin\",\"Allsafe\",\"LiteCreed\",\"OsmiumCoin\",\"Bikercoins\",\"HexxCoin\",\"Klingon Empire Darsek\",\"Internet of People\",\"KushCoin\",\"Printerium\",\"PacCoin\",\"Impeach\",\"Citadel\",\"Zilbercoin\",\"FirstCoin\",\"BeaverCoin\",\"FindCoin\",\"VaultCoin\",\"Zero\",\"OpenChat\",\"Canada eCoin\",\"Zoin\",\"RenosCoin\",\"DubaiCoin\",\"VirtacoinPlus\",\"TajCoin\",\"Impact\",\"EB3coin\",\"Atmos\",\"HappyCoin\",\"Coinonat\",\"MacronCoin\",\"Condensate\",\"Independent Money System\",\"ArgusCoin\",\"LomoCoin\",\"ProCurrency\",\"GoldReserve\",\"BenjiRolls\",\"GrowthCoin\",\"ILCoin\",\"Phreak\",\"Degas Coin\",\"HTML5 Coin\",\"Ultimate Secure Cash\",\"EquiTrader\",\"QTUM\",\"Quantum Resistant Ledger\",\"Espers\",\"Dynamic\",\"Nano\",\"ChanCoin\",\"Dinastycoin\",\"Denarius\",\"DigitalPrice\",\"Virta Unique Coin\",\"Bitcoin Planet\",\"Unify\",\"BritCoin\",\"SocialCoin\",\"ArcticCoin\",\"DAS\",\"Linda\",\"LeviarCoin\",\"DeepOnion\",\"Bitcore\",\"gCn Coin\",\"SmartCash\",\"Signatum\",\"Onix\",\"Cream\",\"Bitcoin Cash\",\"Monoeci\",\"Draftcoin\",\"Vechain\",\"Sojourn Coin\",\"Stakecoin\",\"NewYorkCoin\",\"FrazCoin\",\"Kronecoin\",\"AdCoin\",\"Linx\",\"CoinonatX\",\"Ethereum Dark\",\"Sumokoin\",\"Obsidian\",\"Cardano\",\"Regalcoin\",\"BitcoinZ\",\"TrezarCoin\",\"Elements\",\"TerraNovaCoin\",\"VIVO Coin\",\"Rupee\",\"Bitcoin Gold\",\"WomenCoin\",\"Theresa May Coin\",\"NamoCoin\",\"LUXCoin\",\"Pirl\",\"Xios\",\"Bitcloud 2.0\",\"eBoost\",\"KekCoin\",\"BlackholeCoin\",\"Infinity Economics\",\"Pura\",\"Innova\",\"Ellaism\",\"GoByte\",\"Magnet\",\"Lamden Tau\",\"Electra\",\"Bitcoin Diamond\",\"SHIELD\",\"Cash & Back Coin\",\"UltraNote\",\"BitCoal\",\"DaxxCoin\",\"Bulwark\",\"Kalkulus\",\"AC3\",\"Lethean\",\"GermanCoin\",\"LiteCoin Ultra\",\"PopularCoin\",\"PhantomX\",\"Photon\",\"Sucre\",\"SparksPay\",\"Digiwage\",\"GunCoin\",\"IrishCoin\",\"Trollcoin\",\"Litecoin Plus\",\"Monkey Project\",\"Pioneer Coin\",\"UnitedBitcoin\",\"Interzone\",\"TokenPay\",\"1717 Masonic Commemorative Token\",\"My Big Coin\",\"TurtleCoin\",\"MUNcoin\",\"Unified Society USDEX\",\"Niobio Cash\",\"ShareChain\",\"Travelflex\",\"KREDS\",\"Tokyo Coin\",\"BiblePay\",\"LitecoinCash\",\"BitFlip\",\"LottoCoin\",\"Crypto Improvement Fund\",\"Stipend\",\"Poa Network\",\"Pushi\",\"Ellerium\",\"Velox\",\"Ontology\",\"Callisto Network\",\"BitTube\",\"Poseidon\",\"Aidos Kuneen\",\"Bitspace\",\"Briacoin\",\"Ignition\",\"Bitrolium\",\"MedicCoin\",\"Alpenschillling\",\"Bitcoin Green\",\"Deviant Coin\",\"Abjcoin\",\"Semux\",\"FuturoCoin\",\"Carebit\",\"Zealium\",\"Monero Classic\",\"Proton\",\"iDealCash\",\"Jumpcoin\",\"Infinex\",\"Bitcoin Incognito\",\"KEYCO\",\"HollyWoodCoin\",\"GINcoin\",\"PlatinCoin\",\"Loki\",\"Newton Coin\",\"Swisscoin\",\"Xt3ch\",\"MassGrid\",\"TheVig\",\"PluraCoin\",\"EmaratCoin\",\"Dekado\",\"Lynx\",\"Poseidon Quark\",\"BitcoinWSpectrum\",\"Muse\",\"Motion\",\"PlusOneCoin\",\"Axe\",\"Trivechain\",\"Dystem\",\"Giant\",\"Peony Coin\",\"Absolute Coin\",\"Vitae\",\"HexCoin\",\"TPCash\",\"Webchain\",\"Ryo\",\"Urals Coin\",\"Qwertycoin\",\"ARENON\",\"EUNO\",\"MMOCoin\",\"Ketan\",\"Project Pai\",\"XDNA\",\"PAXEX\",\"Azart\",\"ThunderStake\",\"Kcash\",\"Xchange\",\"Acute Angle Cloud\",\"CrypticCoin\",\"Bettex coin\",\"Actinium\",\"Bitcoin SV\",\"BitMoney\",\"Junson Ming Chan Coin\",\"FREDEnergy\",\"HerbCoin\",\"Universal Molecule\",\"Lithium\",\"PirateCash\",\"Exosis\",\"Block-Logic\",\"Oduwa\",\"Beam\",\"Galilel\",\"Bithereum\",\"Crypto Sports\",\"Credit\",\"SLICE\",\"Dash Platinum\",\"Nasdacoin\",\"Beetle Coin\",\"Titan Coin\",\"Award\",\"BLAST\",\"Bitcoin Rhodium\",\"GlobalToken\",\"Insane Coin\",\"ALAX\",\"LiteDoge\",\"SolarCoin\",\"TruckCoin\",\"UFO Coin\",\"OrangeCoin\",\"BlakeCoin\",\"BitstarCoin\",\"NeosCoin\",\"HyperCoin\",\"PinkCoin\",\"Crypto Escudo\",\"AudioCoin\",\"IncaKoin\",\"Piggy Coin\",\"Crown Coin\",\"Genstake\",\"SmileyCoin\",\"XiaoMiCoin\",\"Groestlcoin\",\"CapriCoin\",\" ClubCoin\",\"Radium\",\"Bata\",\"Pakcoin\",\"Creditbit \",\"OKCash\",\"Lisk\",\"HiCoin\",\"WhiteCoin\",\"FriendshipCoin\",\"JoinCoin\",\"Triangles Coin\",\"Vollar\",\"EOS\",\"Reality Clash\",\"Oxycoin\",\"TigerCash\",\"Waves\",\"Particl\",\"BitTorrent\",\"Nxt\",\"ZEPHYR\",\"Gapcoin\",\"Beldex\",\"Horizen\",\"BitcoinPlus\"],\"ProofType\":[\"PoW/PoS\",\"PoW/PoS\",\"PoW/PoS\",\"PoW\",\"PoW\",\"PoW\",\"PoW/PoS\",\"PoW\",\"PoW\",\"PoW\",\"PoS\",\"PoW\",\"PoW/PoS\",\"PoS\",\"PoW\",\"PoW/PoS\",\"PoW\",\"PoW\",\"PoW/PoS\",\"PoW/PoS\",\"PoW\",\"PoW\",\"PoW\",\"PoW\",\"PoW\",\"PoW/PoS\",\"PoW\",\"PoW\",\"PoW\",\"PoW/PoS\",\"PoW\",\"PoW/PoS\",\"PoW\",\"PoW\",\"PoC\",\"PoW/PoS\",\"PoW\",\"PoW\",\"PoW\",\"PoW\",\"PoW\",\"PoW\",\"PoS\",\"PoS/PoW/PoT\",\"PoW\",\"PoW\",\"PoW\",\"PoW\",\"PoW\",\"PoW/PoS\",\"PoS\",\"PoW\",\"PoW/PoS\",\"PoW\",\"PoW\",\"PoW\",\"PoW\",\"PoW/PoS\",\"PoW\",\"PoW\",\"PoS\",\"PoW\",\"PoW/PoS\",\"PoS\",\"PoW/PoS\",\"PoW\",\"PoW\",\"PoW\",\"PoW/PoS\",\"PoW/PoS\",\"PoW/PoS\",\"PoW/PoS\",\"PoW/PoS\",\"PoW\",\"PoW\",\"PoW\",\"PoS\",\"PoW/PoS\",\"PoW\",\"PoS\",\"PoW\",\"PoS\",\"PoW/PoS\",\"PoW\",\"PoW\",\"PoW\",\"PoW\",\"PoW/PoS\",\"PoW/PoS\",\"PoW\",\"PoST\",\"PoW\",\"PoW\",\"PoW/PoS\",\"PoS\",\"PoW\",\"PoW/PoS\",\"PoW/PoS\",\"PoW\",\"PoW\",\"PoC\",\"PoS\",\"PoW\",\"PoW/PoS\",\"PoW/PoS\",\"PoW\",\"PoS\",\"PoW\",\"PoW/PoS\",\"PoW\",\"PoS\",\"PoW\",\"PoW/PoS\",\"PoW/PoS\",\"PoW\",\"PoW\",\"PoS\",\"PoW\",\"PoW\",\"PoW\",\"PoW/PoS\",\"PoW\",\"PoW\",\"PoW\",\"PoW\",\"PoW\",\"PoW/PoS\",\"PoW/nPoS\",\"PoW\",\"PoW\",\"PoW\",\"PoW/PoS\",\"PoW\",\"PoS/PoW\",\"PoW\",\"PoW\",\"PoS\",\"PoW\",\"PoW/PoS\",\"PoW\",\"PoW/PoS\",\"PoW/PoS\",\"PoW\",\"PoW\",\"PoW/PoS\",\"PoW\",\"PoW\",\"PoW/PoS\",\"PoW/PoS\",\"PoW\",\"PoW/PoS\",\"PoW\",\"PoW/PoS\",\"PoW/PoS\",\"PoS\",\"PoW\",\"PoW\",\"PoW\",\"PoW\",\"PoW/PoS\",\"PoS\",\"PoW/PoS\",\"PoC\",\"PoS\",\"PoW\",\"PoW\",\"PoW/PoS\",\"PoW/PoS\",\"PoW/PoS\",\"PoW/PoS\",\"PoW/PoS\",\"PoW\",\"PoS\",\"PoW/PoS\",\"PoW/PoS\",\"PoW/PoS\",\"PoS\",\"PoW\",\"PoS\",\"dPoW/PoW\",\"PoW/PoS\",\"PoW/PoS\",\"PoW\",\"PoW/PoS\",\"PoW\",\"PoW/PoS\",\"PoW/PoS\",\"PoW\",\"PoW/PoS\",\"PoW\",\"PoS\",\"PoW\",\"PoW/PoW\",\"PoW\",\"PoW/PoS\",\"PoS\",\"PoW/PoS\",\"PoW/PoS\",\"PoW\",\"PoS\",\"PoS\",\"PoW/PoS\",\"PoS\",\"PoW/PoS\",\"PoW\",\"PoW\",\"DPoS\",\"PoW/PoS\",\"PoW\",\"PoW\",\"PoW/PoS\",\"PoW/PoS\",\"PoS\",\"PoW/PoS\",\"PoW/PoS\",\"PoW\",\"PoS\",\"PoW/PoS\",\"PoW/PoS\",\"PoW/PoS\",\"TPoS\",\"PoW/PoS\",\"PoW/PoS\",\"PoW/PoS\",\"PoW\",\"PoW/PoS\",\"PoS\",\"PoW/PoS\",\"PoW/PoS\",\"PoS\",\"PoW/PoS\",\"PoW\",\"PoW\",\"PoW\",\"PoW/PoS\",\"PoW/PoS\",\"PoW/PoS\",\"PoW/PoS\",\"PoW\",\"PoW/PoS\",\"PoW\",\"PoS\",\"PoW/PoS \",\"PoW\",\"PoS\",\"PoW\",\"PoW\",\"PoW/PoS\",\"PoW\",\"PoW\",\"PoS\",\"PoW\",\"PoW/PoS\",\"PoW/PoS\",\"PoW/PoS\",\"PoW\",\"PoS\",\"PoW/PoS\",\"PoW\",\"PoS\",\"PoW/PoS\",\"PoW/PoS\",\"PoW/PoS\",\"PoW/PoS\",\"PoS\",\"PoW/PoS\",\"PoW\",\"PoS\",\"PoW\",\"PoS\",\"PoW/PoS\",\"PoW/PoS\",\"PoS\",\"PoW\",\"PoS\",\"PoW\",\"PoW/PoS\",\"PoW\",\"PoW\",\"PoW\",\"PoW\",\"PoW/PoS\",\"PoW\",\"PoW/PoS\",\"PoW/PoS\",\"PoW\",\"PoW/PoS\",\"PoW\",\"PoW\",\"PoW\",\"PoW/PoS\",\"PoW\",\"PoW/PoS\",\"PoW\",\"PoW\",\"PoW\",\"PoS\",\"PoW\",\"PoW/PoS\",\"PoW\",\"PoW/PoS\",\"PoS\",\"Proof of Authority\",\"PoW\",\"PoS\",\"PoW\",\"PoW\",\"PoW\",\"PoW\",\"PoW\",\"PoW/PoS\",\"PoW/PoS\",\"PoW\",\"PoS\",\"PoS\",\"PoW/PoS\",\"PoW\",\"PoW/PoS\",\"PoW\",\"PoW/PoS\",\"PoW\",\"PoS\",\"PoW\",\"PoW/PoS\",\"PoW/PoS\",\"PoW/PoS\",\"PoW/PoS\",\"PoW\",\"PoW/PoS\",\"PoW/PoS\",\"PoW\",\"PoS\",\"PoW/PoS\",\"PoS\",\"PoW\",\"PoW\",\"PoW\",\"PoW\",\"PoW/PoS\",\"DPoS\",\"PoW/PoS\",\"PoW/PoS\",\"PoW\",\"PoW/PoS\",\"PoW\",\"PoW\",\"PoW\",\"PoS\",\"PoS\",\"PoW\",\"PoW\",\"PoW/PoS\",\"PoW/PoS\",\"PoW\",\"PoW/PoS\",\"PoW\",\"PoW\",\"PoW\",\"PoS\",\"PoW\",\"PoW\",\"PoW/PoS\",\"PoW/PoS\",\"PoS\",\"PoW\",\"PoW\",\"PoW\",\"PoS\",\"PoS\",\"PoW and PoS\",\"PoW\",\"PoW\",\"PoW/PoS\",\"PoW\",\"PoW\",\"PoW\",\"PoW\",\"PoS\",\"POBh\",\"PoW + Hive\",\"PoW\",\"PoW\",\"PoW\",\"PoW/PoS\",\"PoA\",\"PoW/PoS\",\"PoW/PoS\",\"PoS\",\"PoS\",\"PoW\",\"PoW\",\"PoW\",\"PoW\",\"PoW/PoS\",\"PoW/PoS\",\"PoW/PoS\",\"PoW\",\"PoS\",\"PoW\",\"PoS\",\"PoS\",\"PoW/PoS\",\"DPoS\",\"PoW\",\"PoW/PoS\",\"PoS\",\"PoW\",\"PoS\",\"PoW/PoS\",\"PoW\",\"PoW\",\"PoS/PoW\",\"PoW\",\"PoS\",\"PoW\",\"PoW\",\"PoW\",\"PoW\",\"PoW/PoS\",\"PoS\",\"PoW\",\"PoW/PoS\",\"PoW\",\"PoW/PoS\",\"PoS\",\"HPoW\",\"PoS\",\"PoS\",\"PoS\",\"PoW\",\"PoW\",\"PoW\",\"PoW/PoS\",\"PoS\",\"PoW/PoS\",\"PoS\",\"PoW/PoS\",\"PoS\",\"PoW\",\"PoW/PoS\",\"PoW\",\"PoW\",\"PoW\",\"PoW\",\"PoS\",\"PoW/PoS\",\"PoS\",\"PoS\",\"PoW\",\"PoW/PoS\",\"PoS\",\"PoW\",\"PoW/PoS\",\"Zero-Knowledge Proof\",\"PoW\",\"DPOS\",\"PoW\",\"PoS\",\"PoW\",\"PoW\",\"Pos\",\"PoS\",\"PoW\",\"PoW/PoS\",\"PoW\",\"PoW\",\"PoS\",\"PoW\",\"PoW\",\"PoW/PoS\",\"PoW\",\"PoW/PoS\",\"PoW\",\"PoS\",\"PoW/PoS\",\"PoW\",\"PoS\",\"PoW/PoS\",\"PoW/PoS\",\"PoW/PoS\",\"PoW/PoS\",\"PoW\",\"PoW\",\"PoW\",\"PoW/PoS\",\"DPoS\",\"PoW/PoS\",\"PoW\",\"PoW/PoS\",\"PoW\",\"PoW/PoS\",\"PoW\",\"PoW/PoS\",\"PoS\",\"PoW/PoS\",\"PoW/PoS\",\"PoW\",\"PoW/PoS\",\"PoW/PoS\",\"PoW/PoS\",\"PoW\",\"PoW/PoS\",\"PoW\",\"PoW/PoS\",\"PoW\",\"PoW/PoS\",\"PoW/PoS\",\"PoS\",\"PoW\",\"PoW\",\"Proof of Trust\",\"PoW/PoS\",\"DPoS\",\"PoS\",\"PoW/PoS\",\"PoW/PoS\",\"PoW\",\"PoW/PoS\",\"PoW\",\"DPoS\",\"PoW\",\"DPoS\",\"PoS\",\"LPoS\",\"PoS\",\"DPoS\",\"PoS/LPoS\",\"DPoS\",\"PoW/PoS\",\"PoW\",\"PoW\",\"PoS\"],\"TotalCoinSupply\":[\"42\",\"532000000\",\"314159265359\",\"21000000\",\"0\",\"84000000\",\"22000000\",\"0\",\"210000000\",\"21000000\",\"3600570502\",\"21000000000\",\"22000000\",\"12500000\",\"21000000\",\"350000000\",\"20000000\",\"64000000\",\"16768584\",\"0\",\"2000000000\",\"384000000000\",\"169795588\",\"250000000\",\"100000000\",\"0\",\"247000000\",\"84000000\",\"48166000\",\"500000\",\"21000000 \",\"1000000\",\"13140000\",\"18000000\",\"40000000000\",\"4380000\",\"16555000000\",\"21000000000\",\"13500000000\",\"21000000 \",\"299792458\",\"32000000\",\"0\",\"0\",\"11235813\",\"336000000\",\"1420609614\",\"70000000\",\"72245700\",\"120000000\",\"0\",\"90600000000\",\"22000000\",\"21000000\",\"265420800\",\"20000000\",\"1350000\",\"100000000\",\"42000000\",\"200000000\",\"0\",\"10000000\",\"2419200000\",\"16180000\",\"0\",\"15000000000\",\"21000000\",\"337000000\",\"0\",\"3770000\",\"420000000\",\"98000000\",\"0\",\"21000000\",\"250000000\",\"51200000\",\"0\",\"1000\",\"888000000\",\"100000000\",\"47011968\",\"2300000000\",\"10000000\",\"42000000\",\"80000000\",\"250000\",\"0\",\"1600000000\",\"100000000\",\"23000000\",\"0\",\"84000000\",\"265420800\",\"5500000\",\"0\",\"45000000\",\"0\",\"1000000000\",\"184467440735\",\"10000000000\",\"2158812800\",\"500000000\",\"105120000\",\"68000000\",\"0\",\"1680000000\",\"0\",\"166386000\",\"12000000\",\"2628000\",\"500000000\",\"160000000\",\"0\",\"10000000\",\"1000000000\",\"1000000000\",\"20000000\",\"0\",\"0\",\"3371337\",\"20000000\",\"10000000000\",\"1840000000\",\"619478\",\"21000000\",\"92000000000\",\"0\",\"78000000\",\"33000000\",\"65789100\",\"53760000\",\"5060000\",\"21000000\",\"0\",\"210240000\",\"250000000\",\"100000000\",\"16906397\",\"50000000\",\"0\",\"1000000000\",\"26298000\",\"16000000\",\"21000000\",\"21000000\",\"210000000\",\"81962100\",\"22000000\",\"26550000000\",\"84000000\",\"10500000\",\"21626280000 \",\"0\",\"42000000\",\"221052632\",\"84000000\",\"30000000\",\"168351300\",\"24000000\",\"384000000\",\" 99000000000\",\"40000000\",\"2147483647\",\"20000000\",\"20000000\",\"25000000\",\"75000000\",\"222725000\",\"525000000\",\"90000000\",\"139000000\",\"616448\",\"33500000\",\"2000000000\",\"44333333\",\"100000000\",\"200000000\",\"25000000\",\"657000000\",\"200000000\",\"50000000\",\"90000000\",\"10000000\",\"21000000\",\"9736000\",\"3000000\",\"21000000\",\"1200000000\",\"0\",\"200000000\",\"0\",\"10638298\",\"3100000000\",\"30000000\",\"20000000000\",\"74000000\",\"0\",\"1500000000\",\"21400000\",\"39999898\",\"2500124\",\"100000000\",\"301000000\",\"7506000000\",\"26205539\",\"21000000\",\"125000000\",\"30000000\",\"10000000000\",\"500000000\",\"850000000\",\"3853326.77707314\",\"50000000\",\"38540000 \",\"42000000\",\"228000000\",\"20000000\",\"60000000\",\"20000000\",\"33000000\",\"76500000\",\"28000000\",\"650659833\",\"5000000\",\"21000000\",\"144000000\",\"32514916898\",\"13000000\",\"3315789\",\"15000000\",\"78835200\",\"2714286\",\"25000000\",\"9999999\",\"500000000\",\"21000000\",\"9354000\",\"20000000\",\"100000000000\",\"21933333\",\"185000000\",\"55000000\",\"110000000\",\"3360000\",\"14524851.4827\",\"1000000000\",\"17000000\",\"1000000000\",\"100000000 \",\"21000000\",\"34426423\",\"2232901\",\"100000000\",\"36900000\",\"110000000\",\"4000000000\",\"110290030\",\"100000000\",\"48252000\",\"400000000\",\"500000000\",\"21212121\",\"28600000\",\"1000000000\",\"75000000000\",\"40000000\",\"35520400\",\"2000000000\",\"2500000000\",\"30000000\",\"105000000\",\"90000000000\",\"200084200\",\"72000000\",\"100000000\",\"105000000\",\"50000000000\",\"0\",\"340282367\",\"30000000\",\"2000000000\",\"10000000\",\"100000000\",\"120000000\",\"100000000\",\"19276800\",\"30000000\",\" 75000000\",\"60000000\",\"18900000\",\"50000000000\",\"54000000\",\"18898187.6216583\",\"21000000\",\"200000000000\",\"5000000000\",\"137500000\",\"1100000000\",\"100000000\",\"21000000\",\"9507271\",\"17405891.19707116\",\"86712634466\",\"10500000000\",\"61599965\",\"0\",\"20000000\",\"84000000\",\"100000000\",\"100000000\",\"48252000\",\"4200000\",\"88888888\",\"91388946\",\"45000000000\",\"27000000\",\"21000000000\",\"400000000\",\"1800000000\",\"15733333\",\"27000000\",\"24000000\",\"21000000\",\"25000000000\",\"100000000\",\"1200000000\",\"60000000\",\"156306732.71\",\"21000000\",\"200000000\",\"100000000\",\"21000000\",\"14788275.991\",\"9000000000\",\"350000000\",\"45000000\",\"280000000\",\"31800000\",\"144000000\",\"500000000\",\"30000000000\",\"210000000\",\"660000000\",\"210000000\",\"85000000000\",\"12500000\",\"10000000000\",\"27716121\",\"20000000\",\"550000000\",\"999481516\",\"50000000000\",\"150000000\",\"4999999999\",\"50000000\",\" 90000000000\",\"19800000\",\"21000000\",\"120000000\",\"500000000\",\"64000000\",\"900000000\",\"4000000\",\"21000000\",\"23000000\",\"20166000\",\"23000000\",\"25000000\",\"1618033\",\"30000000\",\"1000000000000\",\"16600000\",\"232000000\",\"336000000\",\"10000000000\",\"100000000\",\"1100000000\",\"800000000\",\"5200000000\",\"840000000\",\"40000000\",\"18406979840\",\"500000000\",\"19340594\",\"252460800\",\"25000000\",\"60000000\",\"124000000\",\"1000000000\",\"6500000000\",\"1000000000\",\"21000000\",\"25000000\",\"50000000\",\"3000000\",\"5000000\",\"70000000\",\"500000000\",\"300000000\",\"21000000\",\"88000000\",\"30000000\",\"100000000\",\"100000000\",\"200000000\",\"80000000\",\"18400000\",\"45000000\",\"5121951220\",\"21000000\",\"26280000\",\"21000000\",\"18000000\",\"26000000\",\"10500000\",\"600000518\",\"150000000\",\"184000000000\",\"10200000000\",\"44000000\",\"168000000\",\"100000000\",\"1000000000\",\"84000000\",\"90000000\",\"92000000000\",\"650000000 \",\"100262205\",\"18081806 \",\"22075700\",\"21000000\",\"21000000\",\"82546564\",\"21000000\",\"5151000\",\"16880000000\",\"52500000\",\"100000000\",\"22105263\",\"1000000000\",\"1750000000\",\"88188888\",\"210000000\",\"184470000000\",\"55000000\",\"50000000\",\"260000000\",\"210000000\",\"2100000000\",\"366000000\",\"100000000\",\"25000000\",\"18000000000\",\"1000000000\",\"100000000\",\"1000000000\",\"7600000000\",\"50000000\",\"84000000\",\"21000000\",\"70000000000\",\"0\",\"8080000000\",\"54000000\",\"105120001.44\",\"25228800\",\"105000000\",\"21000000\",\"120000000\",\"21000000\",\"262800000\",\"19035999\",\"30886000\",\"13370000\",\"74800000000\",\"100000000\",\"19700000\",\"84000000\",\"500000000\",\"5000000000\",\"420000000\",\"64000000\",\"2100000\",\"168000000\",\"30000000\",\"1000000000\",\"35000000000\",\"98100000000\",\"0\",\"4000000000\",\"200000000\",\"7000000000\",\"54256119\",\"21000000\",\"0\",\"500000000\",\"1000000000\",\"10500000000\",\"190000000\",\"1000000000\",\"42000000\",\"15000000\",\"50000000000\",\"400000000\",\"105000000\",\"208000000\",\"160000000\",\"9000000\",\"5000000\",\"182000000\",\"16504333\",\"105000000\",\"159918400\",\"10008835635\",\"300000000\",\"60168145\",\"2800000\",\"120000\",\"2100000000\",\"0\",\"24487944\",\"0\",\"1000000000\",\"100000000\",\"8634140\",\"990000000000\",\"1000000000\",\"2000000000\",\"250000000\",\"1400222610\",\"21000000\",\"1000000\"],\"TotalCoinsMined\":{\"__ndarray__\":\"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\",\"dtype\":\"float64\",\"order\":\"little\",\"shape\":[532]}},\"selected\":{\"id\":\"1294\"},\"selection_policy\":{\"id\":\"1328\"}},\"id\":\"1293\",\"type\":\"ColumnDataSource\"},{\"attributes\":{},\"id\":\"1296\",\"type\":\"StringEditor\"},{\"attributes\":{},\"id\":\"1310\",\"type\":\"StringFormatter\"},{\"attributes\":{},\"id\":\"1320\",\"type\":\"NumberFormatter\"},{\"attributes\":{\"editor\":{\"id\":\"1296\"},\"field\":\"CoinName\",\"formatter\":{\"id\":\"1295\"},\"title\":\"CoinName\"},\"id\":\"1297\",\"type\":\"TableColumn\"},{\"attributes\":{},\"id\":\"1321\",\"type\":\"IntEditor\"},{\"attributes\":{},\"id\":\"1311\",\"type\":\"StringEditor\"},{\"attributes\":{\"source\":{\"id\":\"1293\"}},\"id\":\"1327\",\"type\":\"CDSView\"},{\"attributes\":{\"margin\":[5,5,5,5],\"name\":\"HSpacer02089\",\"sizing_mode\":\"stretch_width\"},\"id\":\"1332\",\"type\":\"Spacer\"},{\"attributes\":{\"margin\":[5,5,5,5],\"name\":\"HSpacer02088\",\"sizing_mode\":\"stretch_width\"},\"id\":\"1292\",\"type\":\"Spacer\"},{\"attributes\":{\"editor\":{\"id\":\"1311\"},\"field\":\"TotalCoinSupply\",\"formatter\":{\"id\":\"1310\"},\"title\":\"TotalCoinSupply\"},\"id\":\"1312\",\"type\":\"TableColumn\"},{\"attributes\":{},\"id\":\"1300\",\"type\":\"StringFormatter\"},{\"attributes\":{\"columns\":[{\"id\":\"1297\"},{\"id\":\"1302\"},{\"id\":\"1307\"},{\"id\":\"1312\"},{\"id\":\"1317\"},{\"id\":\"1322\"}],\"height\":300,\"reorderable\":false,\"source\":{\"id\":\"1293\"},\"view\":{\"id\":\"1327\"},\"width\":700},\"id\":\"1325\",\"type\":\"DataTable\"},{\"attributes\":{\"format\":\"0,0.0[00000]\"},\"id\":\"1315\",\"type\":\"NumberFormatter\"},{\"attributes\":{},\"id\":\"1301\",\"type\":\"StringEditor\"},{\"attributes\":{\"editor\":{\"id\":\"1301\"},\"field\":\"Algorithm\",\"formatter\":{\"id\":\"1300\"},\"title\":\"Algorithm\"},\"id\":\"1302\",\"type\":\"TableColumn\"},{\"attributes\":{},\"id\":\"1294\",\"type\":\"Selection\"},{\"attributes\":{},\"id\":\"1316\",\"type\":\"NumberEditor\"},{\"attributes\":{},\"id\":\"1328\",\"type\":\"UnionRenderers\"},{\"attributes\":{},\"id\":\"1305\",\"type\":\"StringFormatter\"},{\"attributes\":{\"editor\":{\"id\":\"1321\"},\"field\":\"Class\",\"formatter\":{\"id\":\"1320\"},\"title\":\"Class\"},\"id\":\"1322\",\"type\":\"TableColumn\"},{\"attributes\":{},\"id\":\"1295\",\"type\":\"StringFormatter\"},{\"attributes\":{\"children\":[{\"id\":\"1292\"},{\"id\":\"1325\"},{\"id\":\"1332\"}],\"margin\":[0,0,0,0],\"name\":\"Row02084\",\"tags\":[\"embedded\"]},\"id\":\"1291\",\"type\":\"Row\"}],\"root_ids\":[\"1291\"]},\"title\":\"Bokeh Application\",\"version\":\"2.4.2\"}};\n",
       "    var render_items = [{\"docid\":\"75bf44d4-b0b0-47e1-bbcf-8dc6d8fdcb6e\",\"root_ids\":[\"1291\"],\"roots\":{\"1291\":\"6d217a37-22e0-4746-9b10-3e0125aa1e79\"}}];\n",
       "    root.Bokeh.embed.embed_items_notebook(docs_json, render_items);\n",
       "  }\n",
       "  if (root.Bokeh !== undefined && root.Bokeh.Panel !== undefined) {\n",
       "    embed_document(root);\n",
       "  } else {\n",
       "    var attempts = 0;\n",
       "    var timer = setInterval(function(root) {\n",
       "      if (root.Bokeh !== undefined && root.Bokeh.Panel !== undefined) {\n",
       "        clearInterval(timer);\n",
       "        embed_document(root);\n",
       "      } else if (document.readyState == \"complete\") {\n",
       "        attempts++;\n",
       "        if (attempts > 200) {\n",
       "          clearInterval(timer);\n",
       "          console.log(\"Bokeh: ERROR: Unable to run BokehJS code because BokehJS library is missing\");\n",
       "        }\n",
       "      }\n",
       "    }, 25, root)\n",
       "  }\n",
       "})(window);</script>"
      ],
      "text/plain": [
       ":Table   [CoinName,Algorithm,ProofType,TotalCoinSupply,TotalCoinsMined,Class]"
      ]
     },
     "execution_count": 119,
     "metadata": {
      "application/vnd.holoviews_exec.v0+json": {
       "id": "1291"
      }
     },
     "output_type": "execute_result"
    }
   ],
   "source": [
    "\n",
    "# Create a table with tradable cryptocurrencies.\n",
    "clustered_df.hvplot.table(columns=['CoinName', 'Algorithm', 'ProofType','TotalCoinSupply','TotalCoinsMined','Class'],\n",
    "                          sortable=True, selectable=True)"
   ]
  },
  {
   "cell_type": "code",
   "execution_count": 120,
   "metadata": {},
   "outputs": [
    {
     "name": "stdout",
     "output_type": "stream",
     "text": [
      "There are 532 tradable cryptocurrencies\n"
     ]
    }
   ],
   "source": [
    "# Print the total number of tradable cryptocurrencies.\n",
    "print(f\"There are {clustered_df['TotalCoinsMined'].count()} tradable cryptocurrencies\")"
   ]
  },
  {
   "cell_type": "code",
   "execution_count": 121,
   "metadata": {},
   "outputs": [
    {
     "data": {
      "text/plain": [
       "array([[4.20000000e-11, 0.00000000e+00],\n",
       "       [5.32000000e-04, 1.06585544e-03],\n",
       "       [3.14159265e-01, 2.95755135e-02],\n",
       "       ...,\n",
       "       [1.40022261e-03, 9.90135079e-04],\n",
       "       [2.10000000e-05, 7.37028150e-06],\n",
       "       [1.00000000e-06, 1.29582282e-07]])"
      ]
     },
     "execution_count": 121,
     "metadata": {},
     "output_type": "execute_result"
    }
   ],
   "source": [
    "# Scaling data to create the scatter plot with tradable cryptocurrencies.\n",
    "min_max_scaler = MinMaxScaler()\n",
    "\n",
    "scaled_data= min_max_scaler.fit_transform(clustered_df[['TotalCoinSupply','TotalCoinsMined']])\n",
    "scaled_data"
   ]
  },
  {
   "cell_type": "code",
   "execution_count": 122,
   "metadata": {},
   "outputs": [
    {
     "data": {
      "text/html": [
       "<div>\n",
       "<style scoped>\n",
       "    .dataframe tbody tr th:only-of-type {\n",
       "        vertical-align: middle;\n",
       "    }\n",
       "\n",
       "    .dataframe tbody tr th {\n",
       "        vertical-align: top;\n",
       "    }\n",
       "\n",
       "    .dataframe thead th {\n",
       "        text-align: right;\n",
       "    }\n",
       "</style>\n",
       "<table border=\"1\" class=\"dataframe\">\n",
       "  <thead>\n",
       "    <tr style=\"text-align: right;\">\n",
       "      <th></th>\n",
       "      <th>TotalCoinSupply</th>\n",
       "      <th>TotalCoinsMined</th>\n",
       "      <th>CoinName</th>\n",
       "      <th>Class</th>\n",
       "    </tr>\n",
       "  </thead>\n",
       "  <tbody>\n",
       "    <tr>\n",
       "      <th>42</th>\n",
       "      <td>4.200000e-11</td>\n",
       "      <td>0.000000</td>\n",
       "      <td>42 Coin</td>\n",
       "      <td>1</td>\n",
       "    </tr>\n",
       "    <tr>\n",
       "      <th>404</th>\n",
       "      <td>5.320000e-04</td>\n",
       "      <td>0.001066</td>\n",
       "      <td>404Coin</td>\n",
       "      <td>1</td>\n",
       "    </tr>\n",
       "    <tr>\n",
       "      <th>1337</th>\n",
       "      <td>3.141593e-01</td>\n",
       "      <td>0.029576</td>\n",
       "      <td>EliteCoin</td>\n",
       "      <td>1</td>\n",
       "    </tr>\n",
       "    <tr>\n",
       "      <th>BTC</th>\n",
       "      <td>2.100000e-05</td>\n",
       "      <td>0.000018</td>\n",
       "      <td>Bitcoin</td>\n",
       "      <td>0</td>\n",
       "    </tr>\n",
       "    <tr>\n",
       "      <th>ETH</th>\n",
       "      <td>0.000000e+00</td>\n",
       "      <td>0.000109</td>\n",
       "      <td>Ethereum</td>\n",
       "      <td>0</td>\n",
       "    </tr>\n",
       "    <tr>\n",
       "      <th>LTC</th>\n",
       "      <td>8.400000e-05</td>\n",
       "      <td>0.000064</td>\n",
       "      <td>Litecoin</td>\n",
       "      <td>0</td>\n",
       "    </tr>\n",
       "    <tr>\n",
       "      <th>DASH</th>\n",
       "      <td>2.200000e-05</td>\n",
       "      <td>0.000009</td>\n",
       "      <td>Dash</td>\n",
       "      <td>1</td>\n",
       "    </tr>\n",
       "    <tr>\n",
       "      <th>XMR</th>\n",
       "      <td>0.000000e+00</td>\n",
       "      <td>0.000017</td>\n",
       "      <td>Monero</td>\n",
       "      <td>0</td>\n",
       "    </tr>\n",
       "    <tr>\n",
       "      <th>ETC</th>\n",
       "      <td>2.100000e-04</td>\n",
       "      <td>0.000115</td>\n",
       "      <td>Ethereum Classic</td>\n",
       "      <td>0</td>\n",
       "    </tr>\n",
       "    <tr>\n",
       "      <th>ZEC</th>\n",
       "      <td>2.100000e-05</td>\n",
       "      <td>0.000007</td>\n",
       "      <td>ZCash</td>\n",
       "      <td>0</td>\n",
       "    </tr>\n",
       "  </tbody>\n",
       "</table>\n",
       "</div>"
      ],
      "text/plain": [
       "      TotalCoinSupply  TotalCoinsMined          CoinName  Class\n",
       "42       4.200000e-11         0.000000           42 Coin      1\n",
       "404      5.320000e-04         0.001066           404Coin      1\n",
       "1337     3.141593e-01         0.029576         EliteCoin      1\n",
       "BTC      2.100000e-05         0.000018           Bitcoin      0\n",
       "ETH      0.000000e+00         0.000109          Ethereum      0\n",
       "LTC      8.400000e-05         0.000064          Litecoin      0\n",
       "DASH     2.200000e-05         0.000009              Dash      1\n",
       "XMR      0.000000e+00         0.000017            Monero      0\n",
       "ETC      2.100000e-04         0.000115  Ethereum Classic      0\n",
       "ZEC      2.100000e-05         0.000007             ZCash      0"
      ]
     },
     "execution_count": 122,
     "metadata": {},
     "output_type": "execute_result"
    }
   ],
   "source": [
    "# Create a new DataFrame that has the scaled data with the clustered_df DataFrame index.\n",
    "plot_df = pd.DataFrame(scaled_data,columns=[\"TotalCoinSupply\", \"TotalCoinsMined\"], index=clustered_df.index)\n",
    "\n",
    "# Add the \"CoinName\" column from the clustered_df DataFrame to the new DataFrame.\n",
    "plot_df[\"CoinName\"]=clustered_df[\"CoinName\"]\n",
    "\n",
    "# Add the \"Class\" column from the clustered_df DataFrame to the new DataFrame. \n",
    "plot_df[\"Class\"]=clustered_df[\"Class\"]\n",
    "\n",
    "plot_df.head(10)"
   ]
  },
  {
   "cell_type": "code",
   "execution_count": 123,
   "metadata": {},
   "outputs": [
    {
     "data": {},
     "metadata": {},
     "output_type": "display_data"
    },
    {
     "data": {
      "application/vnd.holoviews_exec.v0+json": "",
      "text/html": [
       "<div id='1344'>\n",
       "\n",
       "\n",
       "\n",
       "\n",
       "\n",
       "  <div class=\"bk-root\" id=\"fb386cbc-4c87-4304-8585-b4b80a32f05d\" data-root-id=\"1344\"></div>\n",
       "</div>\n",
       "<script type=\"application/javascript\">(function(root) {\n",
       "  function embed_document(root) {\n",
       "    var docs_json = {\"9d806858-67ee-41c5-91a5-baaae471db40\":{\"defs\":[{\"extends\":null,\"module\":null,\"name\":\"ReactiveHTML1\",\"overrides\":[],\"properties\":[]},{\"extends\":null,\"module\":null,\"name\":\"FlexBox1\",\"overrides\":[],\"properties\":[{\"default\":\"flex-start\",\"kind\":null,\"name\":\"align_content\"},{\"default\":\"flex-start\",\"kind\":null,\"name\":\"align_items\"},{\"default\":\"row\",\"kind\":null,\"name\":\"flex_direction\"},{\"default\":\"wrap\",\"kind\":null,\"name\":\"flex_wrap\"},{\"default\":\"flex-start\",\"kind\":null,\"name\":\"justify_content\"}]},{\"extends\":null,\"module\":null,\"name\":\"GridStack1\",\"overrides\":[],\"properties\":[{\"default\":\"warn\",\"kind\":null,\"name\":\"mode\"},{\"default\":null,\"kind\":null,\"name\":\"ncols\"},{\"default\":null,\"kind\":null,\"name\":\"nrows\"},{\"default\":true,\"kind\":null,\"name\":\"allow_resize\"},{\"default\":true,\"kind\":null,\"name\":\"allow_drag\"},{\"default\":[],\"kind\":null,\"name\":\"state\"}]},{\"extends\":null,\"module\":null,\"name\":\"click1\",\"overrides\":[],\"properties\":[{\"default\":\"\",\"kind\":null,\"name\":\"terminal_output\"},{\"default\":\"\",\"kind\":null,\"name\":\"debug_name\"},{\"default\":0,\"kind\":null,\"name\":\"clears\"}]},{\"extends\":null,\"module\":null,\"name\":\"TemplateActions1\",\"overrides\":[],\"properties\":[{\"default\":0,\"kind\":null,\"name\":\"open_modal\"},{\"default\":0,\"kind\":null,\"name\":\"close_modal\"}]},{\"extends\":null,\"module\":null,\"name\":\"MaterialTemplateActions1\",\"overrides\":[],\"properties\":[{\"default\":0,\"kind\":null,\"name\":\"open_modal\"},{\"default\":0,\"kind\":null,\"name\":\"close_modal\"}]}],\"roots\":{\"references\":[{\"attributes\":{},\"id\":\"1384\",\"type\":\"AllLabels\"},{\"attributes\":{},\"id\":\"1456\",\"type\":\"Selection\"},{\"attributes\":{},\"id\":\"1476\",\"type\":\"UnionRenderers\"},{\"attributes\":{\"coordinates\":null,\"data_source\":{\"id\":\"1455\"},\"glyph\":{\"id\":\"1458\"},\"group\":null,\"hover_glyph\":null,\"muted_glyph\":{\"id\":\"1460\"},\"nonselection_glyph\":{\"id\":\"1459\"},\"selection_glyph\":{\"id\":\"1480\"},\"view\":{\"id\":\"1462\"}},\"id\":\"1461\",\"type\":\"GlyphRenderer\"},{\"attributes\":{\"bottom_units\":\"screen\",\"coordinates\":null,\"fill_alpha\":0.5,\"fill_color\":\"lightgrey\",\"group\":null,\"left_units\":\"screen\",\"level\":\"overlay\",\"line_alpha\":1.0,\"line_color\":\"black\",\"line_dash\":[4,4],\"line_width\":2,\"right_units\":\"screen\",\"syncable\":false,\"top_units\":\"screen\"},\"id\":\"1374\",\"type\":\"BoxAnnotation\"},{\"attributes\":{\"source\":{\"id\":\"1455\"}},\"id\":\"1462\",\"type\":\"CDSView\"},{\"attributes\":{\"angle\":{\"value\":0.0},\"fill_alpha\":{\"value\":1.0},\"fill_color\":{\"value\":\"#6d904f\"},\"hatch_alpha\":{\"value\":1.0},\"hatch_color\":{\"value\":\"#6d904f\"},\"hatch_scale\":{\"value\":12.0},\"hatch_weight\":{\"value\":1.0},\"line_alpha\":{\"value\":1.0},\"line_cap\":{\"value\":\"butt\"},\"line_color\":{\"value\":\"#6d904f\"},\"line_dash\":{\"value\":[]},\"line_dash_offset\":{\"value\":0},\"line_join\":{\"value\":\"bevel\"},\"line_width\":{\"value\":1},\"marker\":{\"value\":\"circle\"},\"size\":{\"value\":5.477225575051661},\"x\":{\"field\":\"TotalCoinsMined\"},\"y\":{\"field\":\"TotalCoinSupply\"}},\"id\":\"1480\",\"type\":\"Scatter\"},{\"attributes\":{},\"id\":\"1389\",\"type\":\"Selection\"},{\"attributes\":{\"fill_color\":{\"value\":\"#6d904f\"},\"hatch_color\":{\"value\":\"#6d904f\"},\"line_color\":{\"value\":\"#6d904f\"},\"size\":{\"value\":5.477225575051661},\"x\":{\"field\":\"TotalCoinsMined\"},\"y\":{\"field\":\"TotalCoinSupply\"}},\"id\":\"1458\",\"type\":\"Scatter\"},{\"attributes\":{\"label\":{\"value\":\"0\"},\"renderers\":[{\"id\":\"1394\"}]},\"id\":\"1407\",\"type\":\"LegendItem\"},{\"attributes\":{\"source\":{\"id\":\"1388\"}},\"id\":\"1395\",\"type\":\"CDSView\"},{\"attributes\":{\"fill_alpha\":{\"value\":0.2},\"fill_color\":{\"value\":\"#fc4f30\"},\"hatch_alpha\":{\"value\":0.2},\"hatch_color\":{\"value\":\"#fc4f30\"},\"line_alpha\":{\"value\":0.2},\"line_color\":{\"value\":\"#fc4f30\"},\"size\":{\"value\":5.477225575051661},\"x\":{\"field\":\"TotalCoinsMined\"},\"y\":{\"field\":\"TotalCoinSupply\"}},\"id\":\"1414\",\"type\":\"Scatter\"},{\"attributes\":{\"angle\":{\"value\":0.0},\"fill_alpha\":{\"value\":1.0},\"fill_color\":{\"value\":\"#30a2da\"},\"hatch_alpha\":{\"value\":1.0},\"hatch_color\":{\"value\":\"#30a2da\"},\"hatch_scale\":{\"value\":12.0},\"hatch_weight\":{\"value\":1.0},\"line_alpha\":{\"value\":1.0},\"line_cap\":{\"value\":\"butt\"},\"line_color\":{\"value\":\"#30a2da\"},\"line_dash\":{\"value\":[]},\"line_dash_offset\":{\"value\":0},\"line_join\":{\"value\":\"bevel\"},\"line_width\":{\"value\":1},\"marker\":{\"value\":\"circle\"},\"size\":{\"value\":5.477225575051661},\"x\":{\"field\":\"TotalCoinsMined\"},\"y\":{\"field\":\"TotalCoinSupply\"}},\"id\":\"1408\",\"type\":\"Scatter\"},{\"attributes\":{\"fill_alpha\":{\"value\":0.2},\"fill_color\":{\"value\":\"#6d904f\"},\"hatch_alpha\":{\"value\":0.2},\"hatch_color\":{\"value\":\"#6d904f\"},\"line_alpha\":{\"value\":0.2},\"line_color\":{\"value\":\"#6d904f\"},\"size\":{\"value\":5.477225575051661},\"x\":{\"field\":\"TotalCoinsMined\"},\"y\":{\"field\":\"TotalCoinSupply\"}},\"id\":\"1460\",\"type\":\"Scatter\"},{\"attributes\":{},\"id\":\"1403\",\"type\":\"UnionRenderers\"},{\"attributes\":{\"coordinates\":null,\"data_source\":{\"id\":\"1388\"},\"glyph\":{\"id\":\"1391\"},\"group\":null,\"hover_glyph\":null,\"muted_glyph\":{\"id\":\"1393\"},\"nonselection_glyph\":{\"id\":\"1392\"},\"selection_glyph\":{\"id\":\"1408\"},\"view\":{\"id\":\"1395\"}},\"id\":\"1394\",\"type\":\"GlyphRenderer\"},{\"attributes\":{},\"id\":\"1410\",\"type\":\"Selection\"},{\"attributes\":{\"coordinates\":null,\"data_source\":{\"id\":\"1409\"},\"glyph\":{\"id\":\"1412\"},\"group\":null,\"hover_glyph\":null,\"muted_glyph\":{\"id\":\"1414\"},\"nonselection_glyph\":{\"id\":\"1413\"},\"selection_glyph\":{\"id\":\"1430\"},\"view\":{\"id\":\"1416\"}},\"id\":\"1415\",\"type\":\"GlyphRenderer\"},{\"attributes\":{\"label\":{\"value\":\"3\"},\"renderers\":[{\"id\":\"1461\"}]},\"id\":\"1479\",\"type\":\"LegendItem\"},{\"attributes\":{},\"id\":\"1387\",\"type\":\"AllLabels\"},{\"attributes\":{\"fill_color\":{\"value\":\"#30a2da\"},\"hatch_color\":{\"value\":\"#30a2da\"},\"line_color\":{\"value\":\"#30a2da\"},\"size\":{\"value\":5.477225575051661},\"x\":{\"field\":\"TotalCoinsMined\"},\"y\":{\"field\":\"TotalCoinSupply\"}},\"id\":\"1391\",\"type\":\"Scatter\"},{\"attributes\":{},\"id\":\"1426\",\"type\":\"UnionRenderers\"},{\"attributes\":{\"children\":[{\"id\":\"1345\"},{\"id\":\"1352\"},{\"id\":\"1625\"}],\"margin\":[0,0,0,0],\"name\":\"Row02275\",\"tags\":[\"embedded\"]},\"id\":\"1344\",\"type\":\"Row\"},{\"attributes\":{\"coordinates\":null,\"group\":null,\"text_color\":\"black\",\"text_font_size\":\"12pt\"},\"id\":\"1353\",\"type\":\"Title\"},{\"attributes\":{\"source\":{\"id\":\"1409\"}},\"id\":\"1416\",\"type\":\"CDSView\"},{\"attributes\":{},\"id\":\"1362\",\"type\":\"BasicTicker\"},{\"attributes\":{\"margin\":[5,5,5,5],\"name\":\"HSpacer02279\",\"sizing_mode\":\"stretch_width\"},\"id\":\"1345\",\"type\":\"Spacer\"},{\"attributes\":{\"callback\":null,\"renderers\":[{\"id\":\"1394\"},{\"id\":\"1415\"},{\"id\":\"1437\"},{\"id\":\"1461\"}],\"tags\":[\"hv_created\"],\"tooltips\":[[\"Class\",\"@{Class}\"],[\"TotalCoinsMined\",\"@{TotalCoinsMined}\"],[\"TotalCoinSupply\",\"@{TotalCoinSupply}\"],[\"CoinName\",\"@{CoinName}\"]]},\"id\":\"1348\",\"type\":\"HoverTool\"},{\"attributes\":{\"label\":{\"value\":\"2\"},\"renderers\":[{\"id\":\"1437\"}]},\"id\":\"1453\",\"type\":\"LegendItem\"},{\"attributes\":{},\"id\":\"1359\",\"type\":\"LinearScale\"},{\"attributes\":{\"data\":{\"Class\":[3],\"CoinName\":[\"BitTorrent\"],\"TotalCoinSupply\":{\"__ndarray__\":\"rkfhehSu7z8=\",\"dtype\":\"float64\",\"order\":\"little\",\"shape\":[1]},\"TotalCoinsMined\":{\"__ndarray__\":\"AAAAAAAA8D8=\",\"dtype\":\"float64\",\"order\":\"little\",\"shape\":[1]}},\"selected\":{\"id\":\"1456\"},\"selection_policy\":{\"id\":\"1476\"}},\"id\":\"1455\",\"type\":\"ColumnDataSource\"},{\"attributes\":{\"fill_color\":{\"value\":\"#fc4f30\"},\"hatch_color\":{\"value\":\"#fc4f30\"},\"line_color\":{\"value\":\"#fc4f30\"},\"size\":{\"value\":5.477225575051661},\"x\":{\"field\":\"TotalCoinsMined\"},\"y\":{\"field\":\"TotalCoinSupply\"}},\"id\":\"1412\",\"type\":\"Scatter\"},{\"attributes\":{\"below\":[{\"id\":\"1361\"}],\"center\":[{\"id\":\"1364\"},{\"id\":\"1368\"}],\"height\":300,\"left\":[{\"id\":\"1365\"}],\"margin\":[5,5,5,5],\"min_border_bottom\":10,\"min_border_left\":10,\"min_border_right\":10,\"min_border_top\":10,\"renderers\":[{\"id\":\"1394\"},{\"id\":\"1415\"},{\"id\":\"1437\"},{\"id\":\"1461\"}],\"right\":[{\"id\":\"1406\"}],\"sizing_mode\":\"fixed\",\"title\":{\"id\":\"1353\"},\"toolbar\":{\"id\":\"1375\"},\"width\":700,\"x_range\":{\"id\":\"1346\"},\"x_scale\":{\"id\":\"1357\"},\"y_range\":{\"id\":\"1347\"},\"y_scale\":{\"id\":\"1359\"}},\"id\":\"1352\",\"subtype\":\"Figure\",\"type\":\"Plot\"},{\"attributes\":{\"margin\":[5,5,5,5],\"name\":\"HSpacer02280\",\"sizing_mode\":\"stretch_width\"},\"id\":\"1625\",\"type\":\"Spacer\"},{\"attributes\":{\"click_policy\":\"mute\",\"coordinates\":null,\"group\":null,\"items\":[{\"id\":\"1407\"},{\"id\":\"1429\"},{\"id\":\"1453\"},{\"id\":\"1479\"}],\"location\":[0,0],\"title\":\"Class\"},\"id\":\"1406\",\"type\":\"Legend\"},{\"attributes\":{\"fill_alpha\":{\"value\":0.1},\"fill_color\":{\"value\":\"#fc4f30\"},\"hatch_alpha\":{\"value\":0.1},\"hatch_color\":{\"value\":\"#fc4f30\"},\"line_alpha\":{\"value\":0.1},\"line_color\":{\"value\":\"#fc4f30\"},\"size\":{\"value\":5.477225575051661},\"x\":{\"field\":\"TotalCoinsMined\"},\"y\":{\"field\":\"TotalCoinSupply\"}},\"id\":\"1413\",\"type\":\"Scatter\"},{\"attributes\":{\"angle\":{\"value\":0.0},\"fill_alpha\":{\"value\":1.0},\"fill_color\":{\"value\":\"#e5ae38\"},\"hatch_alpha\":{\"value\":1.0},\"hatch_color\":{\"value\":\"#e5ae38\"},\"hatch_scale\":{\"value\":12.0},\"hatch_weight\":{\"value\":1.0},\"line_alpha\":{\"value\":1.0},\"line_cap\":{\"value\":\"butt\"},\"line_color\":{\"value\":\"#e5ae38\"},\"line_dash\":{\"value\":[]},\"line_dash_offset\":{\"value\":0},\"line_join\":{\"value\":\"bevel\"},\"line_width\":{\"value\":1},\"marker\":{\"value\":\"circle\"},\"size\":{\"value\":5.477225575051661},\"x\":{\"field\":\"TotalCoinsMined\"},\"y\":{\"field\":\"TotalCoinSupply\"}},\"id\":\"1454\",\"type\":\"Scatter\"},{\"attributes\":{\"tools\":[{\"id\":\"1348\"},{\"id\":\"1369\"},{\"id\":\"1370\"},{\"id\":\"1371\"},{\"id\":\"1372\"},{\"id\":\"1373\"}]},\"id\":\"1375\",\"type\":\"Toolbar\"},{\"attributes\":{\"end\":1.042857142857143,\"reset_end\":1.042857142857143,\"reset_start\":-0.04285714285714286,\"start\":-0.04285714285714286,\"tags\":[[[\"TotalCoinsMined\",\"TotalCoinsMined\",null]]]},\"id\":\"1346\",\"type\":\"Range1d\"},{\"attributes\":{\"data\":{\"Class\":[0,0,0,0,0,0,0,0,0,0,0,0,0,0,0,0,0,0,0,0,0,0,0,0,0,0,0,0,0,0,0,0,0,0,0,0,0,0,0,0,0,0,0,0,0,0,0,0,0,0,0,0,0,0,0,0,0,0,0,0,0,0,0,0,0,0,0,0,0,0,0,0,0,0,0,0,0,0,0,0,0,0,0,0,0,0,0,0,0,0,0,0,0,0,0,0,0,0,0,0,0,0,0,0,0,0,0,0,0,0,0,0,0,0,0,0,0,0,0,0,0,0,0,0,0,0,0,0,0,0,0,0,0,0,0,0,0,0,0,0,0,0,0,0,0,0,0,0,0,0,0,0,0,0,0,0,0,0,0,0,0,0,0,0,0,0,0,0,0,0,0,0,0,0,0,0,0,0,0,0,0,0,0,0,0,0,0,0,0,0,0,0,0,0,0,0,0,0,0,0,0,0,0,0,0,0,0,0,0,0,0,0,0,0,0,0,0,0,0,0,0,0,0,0,0,0,0,0,0,0,0,0,0,0,0,0,0,0,0],\"CoinName\":[\"Bitcoin\",\"Ethereum\",\"Litecoin\",\"Monero\",\"Ethereum Classic\",\"ZCash\",\"DigiByte\",\"ProsperCoin\",\"Spreadcoin\",\"Argentum\",\"MyriadCoin\",\"MoonCoin\",\"ZetaCoin\",\"SexCoin\",\"Quatloo\",\"QuarkCoin\",\"Riecoin\",\"Digitalcoin \",\"Catcoin\",\"CannaCoin\",\"CryptCoin\",\"Verge\",\"DevCoin\",\"EarthCoin\",\"E-Gulden\",\"Einsteinium\",\"Emerald\",\"Franko\",\"FeatherCoin\",\"GrandCoin\",\"GlobalCoin\",\"GoldCoin\",\"Infinite Coin\",\"IXcoin\",\"KrugerCoin\",\"LuckyCoin\",\"Litebar \",\"MegaCoin\",\"MediterraneanCoin\",\"MinCoin\",\"NobleCoin\",\"Namecoin\",\"NyanCoin\",\"RonPaulCoin\",\"StableCoin\",\"SmartCoin\",\"SysCoin\",\"TigerCoin\",\"TerraCoin\",\"UnbreakableCoin\",\"Unobtanium\",\"UroCoin\",\"ViaCoin\",\"Vertcoin\",\"WorldCoin\",\"JouleCoin\",\"ByteCoin\",\"DigitalNote \",\"MonaCoin\",\"Gulden\",\"PesetaCoin\",\"Wild Beast Coin\",\"Flo\",\"ArtByte\",\"Folding Coin\",\"Unitus\",\"CypherPunkCoin\",\"OmniCron\",\"GreenCoin\",\"Cryptonite\",\"MasterCoin\",\"SoonCoin\",\"1Credit\",\"MarsCoin \",\"Crypto\",\"Anarchists Prime\",\"BowsCoin\",\"Song Coin\",\"BitZeny\",\"Expanse\",\"Siacoin\",\"MindCoin\",\"I0coin\",\"Revolution VR\",\"HOdlcoin\",\"Gamecredits\",\"CarpeDiemCoin\",\"Adzcoin\",\"SoilCoin\",\"YoCoin\",\"SibCoin\",\"Francs\",\"BolivarCoin\",\"Omni\",\"PizzaCoin\",\"Komodo\",\"Karbo\",\"ZayedCoin\",\"Circuits of Value\",\"DopeCoin\",\"DollarCoin\",\"Shilling\",\"ZCoin\",\"Elementrem\",\"ZClassic\",\"KiloCoin\",\"ArtexCoin\",\"Kurrent\",\"Cannabis Industry Coin\",\"OsmiumCoin\",\"Bikercoins\",\"HexxCoin\",\"PacCoin\",\"Citadel\",\"BeaverCoin\",\"VaultCoin\",\"Zero\",\"Canada eCoin\",\"Zoin\",\"DubaiCoin\",\"EB3coin\",\"Coinonat\",\"BenjiRolls\",\"ILCoin\",\"EquiTrader\",\"Quantum Resistant Ledger\",\"Dynamic\",\"Nano\",\"ChanCoin\",\"Dinastycoin\",\"DigitalPrice\",\"Unify\",\"SocialCoin\",\"ArcticCoin\",\"DAS\",\"LeviarCoin\",\"Bitcore\",\"gCn Coin\",\"SmartCash\",\"Onix\",\"Bitcoin Cash\",\"Sojourn Coin\",\"NewYorkCoin\",\"FrazCoin\",\"Kronecoin\",\"AdCoin\",\"Linx\",\"Sumokoin\",\"BitcoinZ\",\"Elements\",\"VIVO Coin\",\"Bitcoin Gold\",\"Pirl\",\"eBoost\",\"Pura\",\"Innova\",\"Ellaism\",\"GoByte\",\"SHIELD\",\"UltraNote\",\"BitCoal\",\"DaxxCoin\",\"AC3\",\"Lethean\",\"PopularCoin\",\"Photon\",\"Sucre\",\"SparksPay\",\"GunCoin\",\"IrishCoin\",\"Pioneer Coin\",\"UnitedBitcoin\",\"Interzone\",\"TurtleCoin\",\"MUNcoin\",\"Niobio Cash\",\"ShareChain\",\"Travelflex\",\"KREDS\",\"BitFlip\",\"LottoCoin\",\"Crypto Improvement Fund\",\"Callisto Network\",\"BitTube\",\"Poseidon\",\"Aidos Kuneen\",\"Bitrolium\",\"Alpenschillling\",\"FuturoCoin\",\"Monero Classic\",\"Jumpcoin\",\"Infinex\",\"KEYCO\",\"GINcoin\",\"PlatinCoin\",\"Loki\",\"Newton Coin\",\"MassGrid\",\"PluraCoin\",\"Motion\",\"PlusOneCoin\",\"Axe\",\"HexCoin\",\"Webchain\",\"Ryo\",\"Urals Coin\",\"Qwertycoin\",\"Project Pai\",\"Azart\",\"Xchange\",\"CrypticCoin\",\"Actinium\",\"Bitcoin SV\",\"FREDEnergy\",\"Universal Molecule\",\"Lithium\",\"PirateCash\",\"Exosis\",\"Block-Logic\",\"Beam\",\"Bithereum\",\"SLICE\",\"BLAST\",\"Bitcoin Rhodium\",\"GlobalToken\",\"SolarCoin\",\"UFO Coin\",\"BlakeCoin\",\"Crypto Escudo\",\"Crown Coin\",\"SmileyCoin\",\"Groestlcoin\",\"Bata\",\"Pakcoin\",\"JoinCoin\",\"Vollar\",\"Reality Clash\",\"Beldex\",\"Horizen\"],\"TotalCoinSupply\":{\"__ndarray__\":\"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\",\"dtype\":\"float64\",\"order\":\"little\",\"shape\":[239]},\"TotalCoinsMined\":{\"__ndarray__\":\"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\",\"dtype\":\"float64\",\"order\":\"little\",\"shape\":[239]}},\"selected\":{\"id\":\"1389\"},\"selection_policy\":{\"id\":\"1403\"}},\"id\":\"1388\",\"type\":\"ColumnDataSource\"},{\"attributes\":{\"axis\":{\"id\":\"1365\"},\"coordinates\":null,\"dimension\":1,\"grid_line_color\":null,\"group\":null,\"ticker\":null},\"id\":\"1368\",\"type\":\"Grid\"},{\"attributes\":{},\"id\":\"1357\",\"type\":\"LinearScale\"},{\"attributes\":{\"axis_label\":\"TotalCoinsMined\",\"coordinates\":null,\"formatter\":{\"id\":\"1383\"},\"group\":null,\"major_label_policy\":{\"id\":\"1384\"},\"ticker\":{\"id\":\"1362\"}},\"id\":\"1361\",\"type\":\"LinearAxis\"},{\"attributes\":{\"angle\":{\"value\":0.0},\"fill_alpha\":{\"value\":1.0},\"fill_color\":{\"value\":\"#fc4f30\"},\"hatch_alpha\":{\"value\":1.0},\"hatch_color\":{\"value\":\"#fc4f30\"},\"hatch_scale\":{\"value\":12.0},\"hatch_weight\":{\"value\":1.0},\"line_alpha\":{\"value\":1.0},\"line_cap\":{\"value\":\"butt\"},\"line_color\":{\"value\":\"#fc4f30\"},\"line_dash\":{\"value\":[]},\"line_dash_offset\":{\"value\":0},\"line_join\":{\"value\":\"bevel\"},\"line_width\":{\"value\":1},\"marker\":{\"value\":\"circle\"},\"size\":{\"value\":5.477225575051661},\"x\":{\"field\":\"TotalCoinsMined\"},\"y\":{\"field\":\"TotalCoinSupply\"}},\"id\":\"1430\",\"type\":\"Scatter\"},{\"attributes\":{\"label\":{\"value\":\"1\"},\"renderers\":[{\"id\":\"1415\"}]},\"id\":\"1429\",\"type\":\"LegendItem\"},{\"attributes\":{\"axis\":{\"id\":\"1361\"},\"coordinates\":null,\"grid_line_color\":null,\"group\":null,\"ticker\":null},\"id\":\"1364\",\"type\":\"Grid\"},{\"attributes\":{},\"id\":\"1432\",\"type\":\"Selection\"},{\"attributes\":{\"fill_alpha\":{\"value\":0.2},\"fill_color\":{\"value\":\"#30a2da\"},\"hatch_alpha\":{\"value\":0.2},\"hatch_color\":{\"value\":\"#30a2da\"},\"line_alpha\":{\"value\":0.2},\"line_color\":{\"value\":\"#30a2da\"},\"size\":{\"value\":5.477225575051661},\"x\":{\"field\":\"TotalCoinsMined\"},\"y\":{\"field\":\"TotalCoinSupply\"}},\"id\":\"1393\",\"type\":\"Scatter\"},{\"attributes\":{},\"id\":\"1366\",\"type\":\"BasicTicker\"},{\"attributes\":{\"axis_label\":\"TotalCoinSupply\",\"coordinates\":null,\"formatter\":{\"id\":\"1386\"},\"group\":null,\"major_label_policy\":{\"id\":\"1387\"},\"ticker\":{\"id\":\"1366\"}},\"id\":\"1365\",\"type\":\"LinearAxis\"},{\"attributes\":{\"end\":1.1,\"reset_end\":1.1,\"reset_start\":-0.1,\"start\":-0.1,\"tags\":[[[\"TotalCoinSupply\",\"TotalCoinSupply\",null]]]},\"id\":\"1347\",\"type\":\"Range1d\"},{\"attributes\":{\"data\":{\"Class\":[2,2,2,2,2,2],\"CoinName\":[\"Vechain\",\"BiblePay\",\"LitecoinCash\",\"Poa Network\",\"Acute Angle Cloud\",\"Waves\"],\"TotalCoinSupply\":{\"__ndarray__\":\"+nQumcwytj+U9gZfmEx1P7x5qkNuhks/hFoo4ZaLMD/8qfHSTWJQPyxDHOviNho/\",\"dtype\":\"float64\",\"order\":\"little\",\"shape\":[6]},\"TotalCoinsMined\":{\"__ndarray__\":\"zaDgBxGurD+PWA2R2lNdP5CkxfJKIUU/nBkleI8SKz96Q0MFuIxQP/tFfmC/eho/\",\"dtype\":\"float64\",\"order\":\"little\",\"shape\":[6]}},\"selected\":{\"id\":\"1432\"},\"selection_policy\":{\"id\":\"1450\"}},\"id\":\"1431\",\"type\":\"ColumnDataSource\"},{\"attributes\":{\"fill_alpha\":{\"value\":0.1},\"fill_color\":{\"value\":\"#6d904f\"},\"hatch_alpha\":{\"value\":0.1},\"hatch_color\":{\"value\":\"#6d904f\"},\"line_alpha\":{\"value\":0.1},\"line_color\":{\"value\":\"#6d904f\"},\"size\":{\"value\":5.477225575051661},\"x\":{\"field\":\"TotalCoinsMined\"},\"y\":{\"field\":\"TotalCoinSupply\"}},\"id\":\"1459\",\"type\":\"Scatter\"},{\"attributes\":{\"coordinates\":null,\"data_source\":{\"id\":\"1431\"},\"glyph\":{\"id\":\"1434\"},\"group\":null,\"hover_glyph\":null,\"muted_glyph\":{\"id\":\"1436\"},\"nonselection_glyph\":{\"id\":\"1435\"},\"selection_glyph\":{\"id\":\"1454\"},\"view\":{\"id\":\"1438\"}},\"id\":\"1437\",\"type\":\"GlyphRenderer\"},{\"attributes\":{},\"id\":\"1386\",\"type\":\"BasicTickFormatter\"},{\"attributes\":{\"data\":{\"Class\":[1,1,1,1,1,1,1,1,1,1,1,1,1,1,1,1,1,1,1,1,1,1,1,1,1,1,1,1,1,1,1,1,1,1,1,1,1,1,1,1,1,1,1,1,1,1,1,1,1,1,1,1,1,1,1,1,1,1,1,1,1,1,1,1,1,1,1,1,1,1,1,1,1,1,1,1,1,1,1,1,1,1,1,1,1,1,1,1,1,1,1,1,1,1,1,1,1,1,1,1,1,1,1,1,1,1,1,1,1,1,1,1,1,1,1,1,1,1,1,1,1,1,1,1,1,1,1,1,1,1,1,1,1,1,1,1,1,1,1,1,1,1,1,1,1,1,1,1,1,1,1,1,1,1,1,1,1,1,1,1,1,1,1,1,1,1,1,1,1,1,1,1,1,1,1,1,1,1,1,1,1,1,1,1,1,1,1,1,1,1,1,1,1,1,1,1,1,1,1,1,1,1,1,1,1,1,1,1,1,1,1,1,1,1,1,1,1,1,1,1,1,1,1,1,1,1,1,1,1,1,1,1,1,1,1,1,1,1,1,1,1,1,1,1,1,1,1,1,1,1,1,1,1,1,1,1,1,1,1,1,1,1,1,1,1,1,1,1,1,1,1,1,1,1,1,1,1,1,1,1,1,1,1,1,1,1],\"CoinName\":[\"42 Coin\",\"404Coin\",\"EliteCoin\",\"Dash\",\"Bitshares\",\"BitcoinDark\",\"PayCoin\",\"KoboCoin\",\"Aurora Coin\",\"BlueCoin\",\"EnergyCoin\",\"BitBar\",\"CryptoBullion\",\"CasinoCoin\",\"Diamond\",\"Exclusive Coin\",\"FlutterCoin\",\"HoboNickels\",\"HyperStake\",\"IOCoin\",\"MaxCoin\",\"MintCoin\",\"MazaCoin\",\"Nautilus Coin\",\"NavCoin\",\"OpalCoin\",\"Orbitcoin\",\"PotCoin\",\"PhoenixCoin\",\"Reddcoin\",\"SuperCoin\",\"SyncCoin\",\"TeslaCoin\",\"TittieCoin\",\"TorCoin\",\"UnitaryStatus Dollar\",\"UltraCoin\",\"VeriCoin\",\"X11 Coin\",\"Crypti\",\"StealthCoin\",\"ZCC Coin\",\"BurstCoin\",\"StorjCoin\",\"Neutron\",\"FairCoin\",\"RubyCoin\",\"Kore\",\"Dnotes\",\"8BIT Coin\",\"Sativa Coin\",\"Ucoin\",\"Vtorrent\",\"IslaCoin\",\"Nexus\",\"Droidz\",\"Squall Coin\",\"Diggits\",\"Paycon\",\"Emercoin\",\"EverGreenCoin\",\"Decred\",\"EDRCoin\",\"Hitcoin\",\"DubaiCoin\",\"PWR Coin\",\"BillaryCoin\",\"GPU Coin\",\"EuropeCoin\",\"ZeitCoin\",\"SwingCoin\",\"SafeExchangeCoin\",\"Nebuchadnezzar\",\"Ratecoin\",\"Revenu\",\"Clockcoin\",\"VIP Tokens\",\"BitSend\",\"Let it Ride\",\"PutinCoin\",\"iBankCoin\",\"Frankywillcoin\",\"MudraCoin\",\"Lutetium Coin\",\"GoldBlocks\",\"CarterCoin\",\"BitTokens\",\"MustangCoin\",\"ZoneCoin\",\"RootCoin\",\"BitCurrency\",\"Swiscoin\",\"BuzzCoin\",\"Opair\",\"PesoBit\",\"Halloween Coin\",\"CoffeeCoin\",\"RoyalCoin\",\"GanjaCoin V2\",\"TeamUP\",\"LanaCoin\",\"ARK\",\"InsaneCoin\",\"EmberCoin\",\"XenixCoin\",\"FreeCoin\",\"PLNCoin\",\"AquariusCoin\",\"Creatio\",\"Eternity\",\"Eurocoin\",\"BitcoinFast\",\"Stakenet\",\"BitConnect Coin\",\"MoneyCoin\",\"Enigma\",\"Russiacoin\",\"PandaCoin\",\"GameUnits\",\"GAKHcoin\",\"Allsafe\",\"LiteCreed\",\"Klingon Empire Darsek\",\"Internet of People\",\"KushCoin\",\"Printerium\",\"Impeach\",\"Zilbercoin\",\"FirstCoin\",\"FindCoin\",\"OpenChat\",\"RenosCoin\",\"VirtacoinPlus\",\"TajCoin\",\"Impact\",\"Atmos\",\"HappyCoin\",\"MacronCoin\",\"Condensate\",\"Independent Money System\",\"ArgusCoin\",\"LomoCoin\",\"ProCurrency\",\"GoldReserve\",\"GrowthCoin\",\"Phreak\",\"Degas Coin\",\"HTML5 Coin\",\"Ultimate Secure Cash\",\"QTUM\",\"Espers\",\"Denarius\",\"Virta Unique Coin\",\"Bitcoin Planet\",\"BritCoin\",\"Linda\",\"DeepOnion\",\"Signatum\",\"Cream\",\"Monoeci\",\"Draftcoin\",\"Stakecoin\",\"CoinonatX\",\"Ethereum Dark\",\"Obsidian\",\"Cardano\",\"Regalcoin\",\"TrezarCoin\",\"TerraNovaCoin\",\"Rupee\",\"WomenCoin\",\"Theresa May Coin\",\"NamoCoin\",\"LUXCoin\",\"Xios\",\"Bitcloud 2.0\",\"KekCoin\",\"BlackholeCoin\",\"Infinity Economics\",\"Magnet\",\"Lamden Tau\",\"Electra\",\"Bitcoin Diamond\",\"Cash & Back Coin\",\"Bulwark\",\"Kalkulus\",\"GermanCoin\",\"LiteCoin Ultra\",\"PhantomX\",\"Digiwage\",\"Trollcoin\",\"Litecoin Plus\",\"Monkey Project\",\"TokenPay\",\"1717 Masonic Commemorative Token\",\"My Big Coin\",\"Unified Society USDEX\",\"Tokyo Coin\",\"Stipend\",\"Pushi\",\"Ellerium\",\"Velox\",\"Ontology\",\"Bitspace\",\"Briacoin\",\"Ignition\",\"MedicCoin\",\"Bitcoin Green\",\"Deviant Coin\",\"Abjcoin\",\"Semux\",\"Carebit\",\"Zealium\",\"Proton\",\"iDealCash\",\"Bitcoin Incognito\",\"HollyWoodCoin\",\"Swisscoin\",\"Xt3ch\",\"TheVig\",\"EmaratCoin\",\"Dekado\",\"Lynx\",\"Poseidon Quark\",\"BitcoinWSpectrum\",\"Muse\",\"Trivechain\",\"Dystem\",\"Giant\",\"Peony Coin\",\"Absolute Coin\",\"Vitae\",\"TPCash\",\"ARENON\",\"EUNO\",\"MMOCoin\",\"Ketan\",\"XDNA\",\"PAXEX\",\"ThunderStake\",\"Kcash\",\"Bettex coin\",\"BitMoney\",\"Junson Ming Chan Coin\",\"HerbCoin\",\"Oduwa\",\"Galilel\",\"Crypto Sports\",\"Credit\",\"Dash Platinum\",\"Nasdacoin\",\"Beetle Coin\",\"Titan Coin\",\"Award\",\"Insane Coin\",\"ALAX\",\"LiteDoge\",\"TruckCoin\",\"OrangeCoin\",\"BitstarCoin\",\"NeosCoin\",\"HyperCoin\",\"PinkCoin\",\"AudioCoin\",\"IncaKoin\",\"Piggy Coin\",\"Genstake\",\"XiaoMiCoin\",\"CapriCoin\",\" ClubCoin\",\"Radium\",\"Creditbit \",\"OKCash\",\"Lisk\",\"HiCoin\",\"WhiteCoin\",\"FriendshipCoin\",\"Triangles Coin\",\"EOS\",\"Oxycoin\",\"TigerCash\",\"Particl\",\"Nxt\",\"ZEPHYR\",\"Gapcoin\",\"BitcoinPlus\"],\"TotalCoinSupply\":{\"__ndarray__\":\"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\",\"dtype\":\"float64\",\"order\":\"little\",\"shape\":[286]},\"TotalCoinsMined\":{\"__ndarray__\":\"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\",\"dtype\":\"float64\",\"order\":\"little\",\"shape\":[286]}},\"selected\":{\"id\":\"1410\"},\"selection_policy\":{\"id\":\"1426\"}},\"id\":\"1409\",\"type\":\"ColumnDataSource\"},{\"attributes\":{\"source\":{\"id\":\"1431\"}},\"id\":\"1438\",\"type\":\"CDSView\"},{\"attributes\":{},\"id\":\"1369\",\"type\":\"SaveTool\"},{\"attributes\":{},\"id\":\"1383\",\"type\":\"BasicTickFormatter\"},{\"attributes\":{},\"id\":\"1370\",\"type\":\"PanTool\"},{\"attributes\":{\"fill_color\":{\"value\":\"#e5ae38\"},\"hatch_color\":{\"value\":\"#e5ae38\"},\"line_color\":{\"value\":\"#e5ae38\"},\"size\":{\"value\":5.477225575051661},\"x\":{\"field\":\"TotalCoinsMined\"},\"y\":{\"field\":\"TotalCoinSupply\"}},\"id\":\"1434\",\"type\":\"Scatter\"},{\"attributes\":{},\"id\":\"1371\",\"type\":\"WheelZoomTool\"},{\"attributes\":{},\"id\":\"1450\",\"type\":\"UnionRenderers\"},{\"attributes\":{\"fill_alpha\":{\"value\":0.2},\"fill_color\":{\"value\":\"#e5ae38\"},\"hatch_alpha\":{\"value\":0.2},\"hatch_color\":{\"value\":\"#e5ae38\"},\"line_alpha\":{\"value\":0.2},\"line_color\":{\"value\":\"#e5ae38\"},\"size\":{\"value\":5.477225575051661},\"x\":{\"field\":\"TotalCoinsMined\"},\"y\":{\"field\":\"TotalCoinSupply\"}},\"id\":\"1436\",\"type\":\"Scatter\"},{\"attributes\":{\"overlay\":{\"id\":\"1374\"}},\"id\":\"1372\",\"type\":\"BoxZoomTool\"},{\"attributes\":{\"fill_alpha\":{\"value\":0.1},\"fill_color\":{\"value\":\"#30a2da\"},\"hatch_alpha\":{\"value\":0.1},\"hatch_color\":{\"value\":\"#30a2da\"},\"line_alpha\":{\"value\":0.1},\"line_color\":{\"value\":\"#30a2da\"},\"size\":{\"value\":5.477225575051661},\"x\":{\"field\":\"TotalCoinsMined\"},\"y\":{\"field\":\"TotalCoinSupply\"}},\"id\":\"1392\",\"type\":\"Scatter\"},{\"attributes\":{\"fill_alpha\":{\"value\":0.1},\"fill_color\":{\"value\":\"#e5ae38\"},\"hatch_alpha\":{\"value\":0.1},\"hatch_color\":{\"value\":\"#e5ae38\"},\"line_alpha\":{\"value\":0.1},\"line_color\":{\"value\":\"#e5ae38\"},\"size\":{\"value\":5.477225575051661},\"x\":{\"field\":\"TotalCoinsMined\"},\"y\":{\"field\":\"TotalCoinSupply\"}},\"id\":\"1435\",\"type\":\"Scatter\"},{\"attributes\":{},\"id\":\"1373\",\"type\":\"ResetTool\"}],\"root_ids\":[\"1344\"]},\"title\":\"Bokeh Application\",\"version\":\"2.4.2\"}};\n",
       "    var render_items = [{\"docid\":\"9d806858-67ee-41c5-91a5-baaae471db40\",\"root_ids\":[\"1344\"],\"roots\":{\"1344\":\"fb386cbc-4c87-4304-8585-b4b80a32f05d\"}}];\n",
       "    root.Bokeh.embed.embed_items_notebook(docs_json, render_items);\n",
       "  }\n",
       "  if (root.Bokeh !== undefined && root.Bokeh.Panel !== undefined) {\n",
       "    embed_document(root);\n",
       "  } else {\n",
       "    var attempts = 0;\n",
       "    var timer = setInterval(function(root) {\n",
       "      if (root.Bokeh !== undefined && root.Bokeh.Panel !== undefined) {\n",
       "        clearInterval(timer);\n",
       "        embed_document(root);\n",
       "      } else if (document.readyState == \"complete\") {\n",
       "        attempts++;\n",
       "        if (attempts > 200) {\n",
       "          clearInterval(timer);\n",
       "          console.log(\"Bokeh: ERROR: Unable to run BokehJS code because BokehJS library is missing\");\n",
       "        }\n",
       "      }\n",
       "    }, 25, root)\n",
       "  }\n",
       "})(window);</script>"
      ],
      "text/plain": [
       ":NdOverlay   [Class]\n",
       "   :Scatter   [TotalCoinsMined]   (TotalCoinSupply,CoinName)"
      ]
     },
     "execution_count": 123,
     "metadata": {
      "application/vnd.holoviews_exec.v0+json": {
       "id": "1344"
      }
     },
     "output_type": "execute_result"
    }
   ],
   "source": [
    "# Create a hvplot.scatter plot using x=\"TotalCoinsMined\" and y=\"TotalCoinSupply\".\n",
    "plot_df.hvplot.scatter(x=\"TotalCoinsMined\",y=\"TotalCoinSupply\",by=\"Class\",hover_cols=[\"CoinName\"])"
   ]
  },
  {
   "cell_type": "code",
   "execution_count": null,
   "metadata": {},
   "outputs": [],
   "source": []
  }
 ],
 "metadata": {
  "file_extension": ".py",
  "kernelspec": {
   "display_name": "mlenv",
   "language": "python",
   "name": "mlenv"
  },
  "language_info": {
   "codemirror_mode": {
    "name": "ipython",
    "version": 3
   },
   "file_extension": ".py",
   "mimetype": "text/x-python",
   "name": "python",
   "nbconvert_exporter": "python",
   "pygments_lexer": "ipython3",
   "version": "3.7.13"
  },
  "latex_envs": {
   "LaTeX_envs_menu_present": true,
   "autoclose": false,
   "autocomplete": true,
   "bibliofile": "biblio.bib",
   "cite_by": "apalike",
   "current_citInitial": 1,
   "eqLabelWithNumbers": true,
   "eqNumInitial": 1,
   "hotkeys": {
    "equation": "Ctrl-E",
    "itemize": "Ctrl-I"
   },
   "labels_anchors": false,
   "latex_user_defs": false,
   "report_style_numbering": false,
   "user_envs_cfg": false
  },
  "mimetype": "text/x-python",
  "name": "python",
  "npconvert_exporter": "python",
  "pygments_lexer": "ipython3",
  "version": 3
 },
 "nbformat": 4,
 "nbformat_minor": 2
}
